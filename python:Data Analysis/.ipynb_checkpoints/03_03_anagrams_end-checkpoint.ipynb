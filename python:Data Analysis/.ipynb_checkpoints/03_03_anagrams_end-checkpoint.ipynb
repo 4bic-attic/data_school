{
 "cells": [
  {
   "cell_type": "code",
   "execution_count": 1,
   "metadata": {
    "collapsed": true
   },
   "outputs": [],
   "source": [
    "word = open('words','r')"
   ]
  },
  {
   "cell_type": "code",
   "execution_count": 2,
   "metadata": {},
   "outputs": [
    {
     "data": {
      "text/plain": [
       "<_io.TextIOWrapper name='words' mode='r' encoding='UTF-8'>"
      ]
     },
     "execution_count": 2,
     "metadata": {},
     "output_type": "execute_result"
    }
   ],
   "source": [
    "word"
   ]
  },
  {
   "cell_type": "code",
   "execution_count": 3,
   "metadata": {
    "collapsed": true
   },
   "outputs": [],
   "source": [
    "wordlist = word.readlines()"
   ]
  },
  {
   "cell_type": "code",
   "execution_count": 4,
   "metadata": {
    "scrolled": false
   },
   "outputs": [
    {
     "data": {
      "text/plain": [
       "['A\\n',\n",
       " 'a\\n',\n",
       " 'aa\\n',\n",
       " 'aal\\n',\n",
       " 'aalii\\n',\n",
       " 'aam\\n',\n",
       " 'Aani\\n',\n",
       " 'aardvark\\n',\n",
       " 'aardwolf\\n',\n",
       " 'Aaron\\n']"
      ]
     },
     "execution_count": 4,
     "metadata": {},
     "output_type": "execute_result"
    }
   ],
   "source": [
    "wordlist[:10]"
   ]
  },
  {
   "cell_type": "code",
   "execution_count": 5,
   "metadata": {},
   "outputs": [
    {
     "data": {
      "text/plain": [
       "235886"
      ]
     },
     "execution_count": 5,
     "metadata": {},
     "output_type": "execute_result"
    }
   ],
   "source": [
    "len(wordlist)"
   ]
  },
  {
   "cell_type": "code",
   "execution_count": 6,
   "metadata": {},
   "outputs": [
    {
     "data": {
      "text/plain": [
       "'Aaron'"
      ]
     },
     "execution_count": 6,
     "metadata": {},
     "output_type": "execute_result"
    }
   ],
   "source": [
    "'Aaron\\n'.strip()"
   ]
  },
  {
   "cell_type": "code",
   "execution_count": 7,
   "metadata": {},
   "outputs": [
    {
     "data": {
      "text/plain": [
       "'aaron'"
      ]
     },
     "execution_count": 7,
     "metadata": {},
     "output_type": "execute_result"
    }
   ],
   "source": [
    "'Aaron'.lower()"
   ]
  },
  {
   "cell_type": "code",
   "execution_count": 8,
   "metadata": {
    "collapsed": true
   },
   "outputs": [],
   "source": [
    "wordclean = [word.strip().lower() for word in wordlist]"
   ]
  },
  {
   "cell_type": "code",
   "execution_count": 9,
   "metadata": {},
   "outputs": [
    {
     "data": {
      "text/plain": [
       "['a',\n",
       " 'a',\n",
       " 'aa',\n",
       " 'aal',\n",
       " 'aalii',\n",
       " 'aam',\n",
       " 'aani',\n",
       " 'aardvark',\n",
       " 'aardwolf',\n",
       " 'aaron']"
      ]
     },
     "execution_count": 9,
     "metadata": {},
     "output_type": "execute_result"
    }
   ],
   "source": [
    "wordclean[:10]"
   ]
  },
  {
   "cell_type": "code",
   "execution_count": 10,
   "metadata": {
    "collapsed": true
   },
   "outputs": [],
   "source": [
    "wordunique = list(set(wordclean))"
   ]
  },
  {
   "cell_type": "code",
   "execution_count": 11,
   "metadata": {},
   "outputs": [
    {
     "data": {
      "text/plain": [
       "['frasco',\n",
       " 'tottering',\n",
       " 'basote',\n",
       " 'pannuscorium',\n",
       " 'unelapsed',\n",
       " 'coachmaster',\n",
       " 'hemometer',\n",
       " 'nonassent',\n",
       " 'petrarchism',\n",
       " 'subspecific',\n",
       " 'monogony',\n",
       " 'elbowboard',\n",
       " 'reviewage',\n",
       " 'uncomputableness',\n",
       " 'mynpachtbrief',\n",
       " 'expatiator',\n",
       " 'swath',\n",
       " 'rebeggar',\n",
       " 'conniver',\n",
       " 'pressurize',\n",
       " 'laboulbeniaceous',\n",
       " 'mends',\n",
       " 'sella',\n",
       " 'theistical',\n",
       " 'arsanilic',\n",
       " 'chaliced',\n",
       " 'sumbulic',\n",
       " 'arum',\n",
       " 'togata',\n",
       " 'calcitic',\n",
       " 'overanswer',\n",
       " 'japanize',\n",
       " 'legitim',\n",
       " 'metropolitical',\n",
       " 'whaling',\n",
       " 'orbicella',\n",
       " 'whilk',\n",
       " 'dilo',\n",
       " 'somervillite',\n",
       " 'prefurlough',\n",
       " 'honorer',\n",
       " 'chrismary',\n",
       " 'palaeophis',\n",
       " 'overbig',\n",
       " 'pinacoidal',\n",
       " 'deprecate',\n",
       " 'nonsuctorial',\n",
       " 'spragger',\n",
       " 'unfecundated',\n",
       " 'mastomenia',\n",
       " 'phyllomania',\n",
       " 'clarenceux',\n",
       " 'curbstoner',\n",
       " 'shown',\n",
       " 'colonoscopy',\n",
       " 'pectic',\n",
       " 'moldavian',\n",
       " 'suprascript',\n",
       " 'wick',\n",
       " 'kinematics',\n",
       " 'spirochetic',\n",
       " 'toll',\n",
       " 'photolysis',\n",
       " 'thirteenthly',\n",
       " 'beeline',\n",
       " 'sawdustlike',\n",
       " 'sporocarp',\n",
       " 'enchylematous',\n",
       " 'pasty',\n",
       " 'unadmire',\n",
       " 'corolla',\n",
       " 'pendulosity',\n",
       " 'partedness',\n",
       " 'belonosphaerite',\n",
       " 'beehouse',\n",
       " 'electroosmotically',\n",
       " 'hamiltonianism',\n",
       " 'eelfish',\n",
       " 'heterozygosity',\n",
       " 'snubbable',\n",
       " 'subserviency',\n",
       " 'rectovaginal',\n",
       " 'radicolous',\n",
       " 'succise',\n",
       " 'autoactive',\n",
       " 'ramuscule',\n",
       " 'unbrooch',\n",
       " 'unpurely',\n",
       " 'waythorn',\n",
       " 'vaginolabial',\n",
       " 'evolutional',\n",
       " 'skewwhiff',\n",
       " 'vibronic',\n",
       " 'isapostolic',\n",
       " 'basinasial',\n",
       " 'sander',\n",
       " 'thorter',\n",
       " 'aves',\n",
       " 'malleableize',\n",
       " 'disimitation',\n",
       " 'rattlesome',\n",
       " 'recroon',\n",
       " 'centenarian',\n",
       " 'acridinium',\n",
       " 'actinopraxis',\n",
       " 'ontogenal',\n",
       " 'commendable',\n",
       " 'trichobranchia',\n",
       " 'unsuiting',\n",
       " 'peer',\n",
       " 'bisector',\n",
       " 'dehairer',\n",
       " 'towerwise',\n",
       " 'detracter',\n",
       " 'platformist',\n",
       " 'sisyrinchium',\n",
       " 'preprovide',\n",
       " 'thyreoarytenoid',\n",
       " 'journeywoman',\n",
       " 'unconfessed',\n",
       " 'parabolicalism',\n",
       " 'spleenishly',\n",
       " 'uromelanin',\n",
       " 'beastliness',\n",
       " 'sarcoblast',\n",
       " 'ephydrid',\n",
       " 'hurtingest',\n",
       " 'exochorion',\n",
       " 'urna',\n",
       " 'colorado',\n",
       " 'endomorphic',\n",
       " 'contact',\n",
       " 'egging',\n",
       " 'ennoblingly',\n",
       " 'quadrifurcation',\n",
       " 'unfashioned',\n",
       " 'uninteresting',\n",
       " 'intactness',\n",
       " 'trimesyl',\n",
       " 'culicidae',\n",
       " 'immoderate',\n",
       " 'step',\n",
       " 'seater',\n",
       " 'pyovesiculosis',\n",
       " 'bobjerom',\n",
       " 'clustering',\n",
       " 'heathwort',\n",
       " 'ensheathe',\n",
       " 'calorimetric',\n",
       " 'tithymalopsis',\n",
       " 'unsoulful',\n",
       " 'unidentated',\n",
       " 'apsychia',\n",
       " 'eumenidae',\n",
       " 'gurkha',\n",
       " 'rhombenporphyr',\n",
       " 'amidist',\n",
       " 'blastemal',\n",
       " 'commissural',\n",
       " 'curtailed',\n",
       " 'historionomer',\n",
       " 'endorsation',\n",
       " 'uncontinence',\n",
       " 'lupus',\n",
       " 'recharge',\n",
       " 'fanglet',\n",
       " 'mastigopod',\n",
       " 'prefulgence',\n",
       " 'monocarboxylic',\n",
       " 'anisomerous',\n",
       " 'homomorphosis',\n",
       " 'parsiism',\n",
       " 'sextula',\n",
       " 'interlying',\n",
       " 'flyable',\n",
       " 'untaunted',\n",
       " 'disbalancement',\n",
       " 'oratorianize',\n",
       " 'oar',\n",
       " 'steeplebush',\n",
       " 'feminization',\n",
       " 'parietoquadrate',\n",
       " 'argillocalcareous',\n",
       " 'proterandrousness',\n",
       " 'signman',\n",
       " 'voyage',\n",
       " 'proprietarily',\n",
       " 'pyrogallate',\n",
       " 'salite',\n",
       " 'chuffy',\n",
       " 'exult',\n",
       " 'polynome',\n",
       " 'strome',\n",
       " 'retepore',\n",
       " 'professionality',\n",
       " 'analyzability',\n",
       " 'prolocutorship',\n",
       " 'prideful',\n",
       " 'saucerleaf',\n",
       " 'treeless',\n",
       " 'suppuration',\n",
       " 'acrocontracture',\n",
       " 'rhipidium',\n",
       " 'ketu',\n",
       " 'politic',\n",
       " 'areographer',\n",
       " 'rhinidae',\n",
       " 'zacateco',\n",
       " 'incurvature',\n",
       " 'raggedly',\n",
       " 'monotheistical',\n",
       " 'tribady',\n",
       " 'spatted',\n",
       " 'pistic',\n",
       " 'unlathered',\n",
       " 'crushing',\n",
       " 'equielliptical',\n",
       " 'collaterality',\n",
       " 'innaturality',\n",
       " 'ovoviviparous',\n",
       " 'coequal',\n",
       " 'nonfruition',\n",
       " 'guaneide',\n",
       " 'kneelet',\n",
       " 'epitomizer',\n",
       " 'whitefieldian',\n",
       " 'cofferfish',\n",
       " 'qurti',\n",
       " 'twinly',\n",
       " 'anathematically',\n",
       " 'thumpingly',\n",
       " 'mercal',\n",
       " 'deathfulness',\n",
       " 'inconsumable',\n",
       " 'interlineation',\n",
       " 'porphyroblast',\n",
       " 'unmanneredly',\n",
       " 'reprimander',\n",
       " 'demidistance',\n",
       " 'demagogical',\n",
       " 'protanomal',\n",
       " 'calaverite',\n",
       " 'overfeel',\n",
       " 'unsolidified',\n",
       " 'prenomination',\n",
       " 'unagreed',\n",
       " 'unwhimsical',\n",
       " 'twigwithy',\n",
       " 'formant',\n",
       " 'orthoplumbate',\n",
       " 'spinnerule',\n",
       " 'baft',\n",
       " 'dextrogyrate',\n",
       " 'faradizer',\n",
       " 'ampersand',\n",
       " 'manuao',\n",
       " 'coastwise',\n",
       " 'bizygomatic',\n",
       " 'uneasy',\n",
       " 'stewardly',\n",
       " 'hamperedness',\n",
       " 'bemoon',\n",
       " 'muraenoid',\n",
       " 'dubbeltje',\n",
       " 'kilim',\n",
       " 'plethoretic',\n",
       " 'naysay',\n",
       " 'subcommissioner',\n",
       " 'overfrail',\n",
       " 'reynard',\n",
       " 'siddhartha',\n",
       " 'paracystitis',\n",
       " 'capronyl',\n",
       " 'autostylic',\n",
       " 'interrenalism',\n",
       " 'wye',\n",
       " 'lhota',\n",
       " 'postrheumatic',\n",
       " 'tape',\n",
       " 'booster',\n",
       " 'habenaria',\n",
       " 'occupation',\n",
       " 'cloddishness',\n",
       " 'agomphosis',\n",
       " 'upcome',\n",
       " 'hemal',\n",
       " 'immortally',\n",
       " 'nonattendant',\n",
       " 'gleaning',\n",
       " 'humbugability',\n",
       " 'ornithoscopist',\n",
       " 'unconcurring',\n",
       " 'nationalist',\n",
       " 'overabundant',\n",
       " 'adscriptitius',\n",
       " 'scorpiurus',\n",
       " 'hereness',\n",
       " 'papooseroot',\n",
       " 'downfold',\n",
       " 'grandiosely',\n",
       " 'brabagious',\n",
       " 'radioanaphylaxis',\n",
       " 'rhizocorm',\n",
       " 'recollectively',\n",
       " 'njave',\n",
       " 'chubbily',\n",
       " 'unpertinently',\n",
       " 'seise',\n",
       " 'yezdi',\n",
       " 'creosoter',\n",
       " 'hyperbolism',\n",
       " 'lebanese',\n",
       " 'aimer',\n",
       " 'tickbird',\n",
       " 'avery',\n",
       " 'indophenol',\n",
       " 'tangfish',\n",
       " 'satisfactory',\n",
       " 'reductionistic',\n",
       " 'thioantimonious',\n",
       " 'presidente',\n",
       " 'hech',\n",
       " 'splanchnesthesia',\n",
       " 'amaga',\n",
       " 'dextraural',\n",
       " 'schismic',\n",
       " 'hemialgia',\n",
       " 'genipap',\n",
       " 'dreyfusist',\n",
       " 'quoteworthy',\n",
       " 'fluviometer',\n",
       " 'luciferously',\n",
       " 'prehorror',\n",
       " 'refling',\n",
       " 'liverwort',\n",
       " 'gigmaness',\n",
       " 'barely',\n",
       " 'chibinite',\n",
       " 'serau',\n",
       " 'hematoma',\n",
       " 'grapewort',\n",
       " 'unhate',\n",
       " 'lawyerling',\n",
       " 'almira',\n",
       " 'micrognathic',\n",
       " 'stenocoriasis',\n",
       " 'agonistically',\n",
       " 'somber',\n",
       " 'roupingwife',\n",
       " 'state',\n",
       " 'woolsack',\n",
       " 'dolichosaur',\n",
       " 'chairmending',\n",
       " 'titanitic',\n",
       " 'trottoir',\n",
       " 'berlinize',\n",
       " 'dunghill',\n",
       " 'diametrical',\n",
       " 'three',\n",
       " 'eddy',\n",
       " 'scrotectomy',\n",
       " 'protopteran',\n",
       " 'ratter',\n",
       " 'voluntariness',\n",
       " 'fibrochondroma',\n",
       " 'axonophora',\n",
       " 'bacao',\n",
       " 'appersonation',\n",
       " 'undisheveled',\n",
       " 'pluggy',\n",
       " 'impecuniously',\n",
       " 'bowwood',\n",
       " 'urinative',\n",
       " 'zootic',\n",
       " 'energy',\n",
       " 'ajoint',\n",
       " 'micate',\n",
       " 'waldmeister',\n",
       " 'twilighty',\n",
       " 'resourcefully',\n",
       " 'zucchini',\n",
       " 'overstrongly',\n",
       " 'bioscopic',\n",
       " 'unopportune',\n",
       " 'saggy',\n",
       " 'tanghan',\n",
       " 'upbred',\n",
       " 'ozonium',\n",
       " 'bespend',\n",
       " 'shameworthy',\n",
       " 'unifoliate',\n",
       " 'externation',\n",
       " 'cecidomyiidous',\n",
       " 'conin',\n",
       " 'correction',\n",
       " 'enchelycephali',\n",
       " 'irremissible',\n",
       " 'radiotropic',\n",
       " 'megascope',\n",
       " 'intemperateness',\n",
       " 'aplanogamete',\n",
       " 'demibelt',\n",
       " 'tideland',\n",
       " 'typhlopidae',\n",
       " 'acceptor',\n",
       " 'monomania',\n",
       " 'phytonic',\n",
       " 'turjite',\n",
       " 'immember',\n",
       " 'myxoglioma',\n",
       " 'bereshith',\n",
       " 'rippier',\n",
       " 'antipode',\n",
       " 'cointreau',\n",
       " 'caprellidae',\n",
       " 'cowperitis',\n",
       " 'aegicrania',\n",
       " 'hinderlins',\n",
       " 'rashing',\n",
       " 'tantara',\n",
       " 'corcass',\n",
       " 'reproportion',\n",
       " 'formidableness',\n",
       " 'comradery',\n",
       " 'polygam',\n",
       " 'haremism',\n",
       " 'shreadhead',\n",
       " 'chorus',\n",
       " 'oryzomys',\n",
       " 'handleless',\n",
       " 'allopathically',\n",
       " 'gosport',\n",
       " 'deafly',\n",
       " 'grownup',\n",
       " 'autoelevation',\n",
       " 'basal',\n",
       " 'unsuppurated',\n",
       " 'panto',\n",
       " 'mesosternal',\n",
       " 'readaptability',\n",
       " 'opuntia',\n",
       " 'micrography',\n",
       " 'antipodal',\n",
       " 'bibliomaniac',\n",
       " 'preternaturalist',\n",
       " 'shepherdish',\n",
       " 'unsophisticate',\n",
       " 'plutella',\n",
       " 'sahaptin',\n",
       " 'doorcase',\n",
       " 'countershafting',\n",
       " 'periblem',\n",
       " 'fistularia',\n",
       " 'malacopterygii',\n",
       " 'suiones',\n",
       " 'albinal',\n",
       " 'conceptualism',\n",
       " 'hierogrammatical',\n",
       " 'digitorium',\n",
       " 'remonetization',\n",
       " 'megohm',\n",
       " 'beeswing',\n",
       " 'prayerless',\n",
       " 'predeceive',\n",
       " 'unirritated',\n",
       " 'formicidae',\n",
       " 'hungriness',\n",
       " 'moveability',\n",
       " 'visitable',\n",
       " 'minareted',\n",
       " 'microgravimetric',\n",
       " 'unceremonious',\n",
       " 'vasundhara',\n",
       " 'delf',\n",
       " 'lazyship',\n",
       " 'unwhisperable',\n",
       " 'coalbox',\n",
       " 'amphiblestritis',\n",
       " 'petrographically',\n",
       " 'biotomy',\n",
       " 'gorged',\n",
       " 'clodlet',\n",
       " 'pondok',\n",
       " 'mugg',\n",
       " 'respectability',\n",
       " 'stolid',\n",
       " 'ultrabasic',\n",
       " 'veniplex',\n",
       " 'kelek',\n",
       " 'energizer',\n",
       " 'unsliced',\n",
       " 'courtroom',\n",
       " 'unpronounced',\n",
       " 'calycozoon',\n",
       " 'axiomatize',\n",
       " 'erotesis',\n",
       " 'sackmaking',\n",
       " 'folium',\n",
       " 'chromotropic',\n",
       " 'meliority',\n",
       " 'voluptuary',\n",
       " 'campaspe',\n",
       " 'drang',\n",
       " 'spinosity',\n",
       " 'microwatt',\n",
       " 'parquet',\n",
       " 'dimity',\n",
       " 'logy',\n",
       " 'pornograph',\n",
       " 'frenetical',\n",
       " 'fibdom',\n",
       " 'fissiparation',\n",
       " 'nanpie',\n",
       " 'edacious',\n",
       " 'answerless',\n",
       " 'balaena',\n",
       " 'oncosphere',\n",
       " 'furciferous',\n",
       " 'exclusively',\n",
       " 'stuckling',\n",
       " 'gunk',\n",
       " 'inheaven',\n",
       " 'matter',\n",
       " 'pantomimus',\n",
       " 'precollector',\n",
       " 'sniffiness',\n",
       " 'taker',\n",
       " 'trotcozy',\n",
       " 'unweld',\n",
       " 'hauberk',\n",
       " 'microcolorimetrically',\n",
       " 'thermality',\n",
       " 'ninut',\n",
       " 'aurelian',\n",
       " 'infeasibleness',\n",
       " 'casuistry',\n",
       " 'festivity',\n",
       " 'rikisha',\n",
       " 'unwaiting',\n",
       " 'mooniness',\n",
       " 'osteoencephaloma',\n",
       " 'protistologist',\n",
       " 'funambulism',\n",
       " 'ribbonfish',\n",
       " 'nettle',\n",
       " 'crumblingness',\n",
       " 'modiste',\n",
       " 'pleuronectoid',\n",
       " 'panlogistical',\n",
       " 'pinedrops',\n",
       " 'rekindle',\n",
       " 'coma',\n",
       " 'pseudopurpurin',\n",
       " 'castrametation',\n",
       " 'embolismic',\n",
       " 'naticine',\n",
       " 'unskilled',\n",
       " 'fulmarus',\n",
       " 'arachnologist',\n",
       " 'spadille',\n",
       " 'strounge',\n",
       " 'unbrutify',\n",
       " 'perukier',\n",
       " 'ulotrichi',\n",
       " 'invocant',\n",
       " 'woodreeve',\n",
       " 'lamium',\n",
       " 'obrotund',\n",
       " 'mon',\n",
       " 'theophany',\n",
       " 'underbush',\n",
       " 'uncompanioned',\n",
       " 'saccharization',\n",
       " 'gargoylishly',\n",
       " 'uncledom',\n",
       " 'aesculapian',\n",
       " 'bigotedly',\n",
       " 'realmless',\n",
       " 'pubigerous',\n",
       " 'shopmaid',\n",
       " 'bawley',\n",
       " 'limonitic',\n",
       " 'unireme',\n",
       " 'witlet',\n",
       " 'cubiculum',\n",
       " 'caul',\n",
       " 'cheerlessly',\n",
       " 'symphily',\n",
       " 'magnetometrically',\n",
       " 'wayside',\n",
       " 'achromatopsy',\n",
       " 'clithral',\n",
       " 'buckstone',\n",
       " 'ultratrivial',\n",
       " 'pahlavi',\n",
       " 'vinification',\n",
       " 'uncleanse',\n",
       " 'unfastener',\n",
       " 'anabantidae',\n",
       " 'stichometry',\n",
       " 'musculophrenic',\n",
       " 'regionalize',\n",
       " 'tenontophyma',\n",
       " 'restiff',\n",
       " 'sida',\n",
       " 'footlock',\n",
       " 'subacromial',\n",
       " 'disparagement',\n",
       " 'astragalonavicular',\n",
       " 'interfluous',\n",
       " 'archchaplain',\n",
       " 'singlings',\n",
       " 'bulgarophil',\n",
       " 'dour',\n",
       " 'conservatism',\n",
       " 'mammer',\n",
       " 'anhydration',\n",
       " 'inarticulata',\n",
       " 'mesonyx',\n",
       " 'quadrupedism',\n",
       " 'digeny',\n",
       " 'patchery',\n",
       " 'triangleways',\n",
       " 'overexpert',\n",
       " 'stuporose',\n",
       " 'barras',\n",
       " 'pronationalistic',\n",
       " 'metalloid',\n",
       " 'coleoptera',\n",
       " 'untholeably',\n",
       " 'mancipative',\n",
       " 'epiphytal',\n",
       " 'supersize',\n",
       " 'cylindroidal',\n",
       " 'cairn',\n",
       " 'akali',\n",
       " 'sintu',\n",
       " 'doctrinist',\n",
       " 'matutinally',\n",
       " 'barragon',\n",
       " 'hyperwrought',\n",
       " 'anticrisis',\n",
       " 'centaurdom',\n",
       " 'salamandriform',\n",
       " 'spasmodist',\n",
       " 'coprinus',\n",
       " 'celtologist',\n",
       " 'chromatograph',\n",
       " 'aristodemocracy',\n",
       " 'gemless',\n",
       " 'scabrities',\n",
       " 'ortalidae',\n",
       " 'phyllosticta',\n",
       " 'longan',\n",
       " 'hyalography',\n",
       " 'oxytonize',\n",
       " 'diborate',\n",
       " 'percomorph',\n",
       " 'prevegetation',\n",
       " 'epitaphize',\n",
       " 'misrecognize',\n",
       " 'dilleniaceae',\n",
       " 'piscatorian',\n",
       " 'corticiferous',\n",
       " 'ex',\n",
       " 'butcherous',\n",
       " 'bonitary',\n",
       " 'arsenyl',\n",
       " 'ecderon',\n",
       " 'cervicoaxillary',\n",
       " 'imer',\n",
       " 'flatness',\n",
       " 'compromitment',\n",
       " 'soliped',\n",
       " 'peptonaemia',\n",
       " 'upwaft',\n",
       " 'overpot',\n",
       " 'vivacious',\n",
       " 'urosthene',\n",
       " 'lineate',\n",
       " 'unboundable',\n",
       " 'cobcab',\n",
       " 'supracostal',\n",
       " 'morningless',\n",
       " 'costumic',\n",
       " 'interdorsal',\n",
       " 'premillennially',\n",
       " 'seven',\n",
       " 'batman',\n",
       " 'bicellular',\n",
       " 'unconstricted',\n",
       " 'oversmite',\n",
       " 'billabong',\n",
       " 'deflocculant',\n",
       " 'demirhumb',\n",
       " 'troubledness',\n",
       " 'augustinism',\n",
       " 'swazi',\n",
       " 'undepleted',\n",
       " 'sailable',\n",
       " 'dioestrus',\n",
       " 'triclinia',\n",
       " 'immitigably',\n",
       " 'triguttulate',\n",
       " 'phytoteratology',\n",
       " 'atoner',\n",
       " 'mycological',\n",
       " 'kenoticist',\n",
       " 'disroot',\n",
       " 'hexaploid',\n",
       " 'grabber',\n",
       " 'portlandian',\n",
       " 'rooibok',\n",
       " 'reit',\n",
       " 'unbluestockingish',\n",
       " 'interlineally',\n",
       " 'antialcoholic',\n",
       " 'gnomological',\n",
       " 'brachyure',\n",
       " 'lithophotogravure',\n",
       " 'nondisjunction',\n",
       " 'hummocky',\n",
       " 'penitent',\n",
       " 'rediscovery',\n",
       " 'coriariaceae',\n",
       " 'cryptogrammic',\n",
       " 'croomia',\n",
       " 'unalliable',\n",
       " 'unescutcheoned',\n",
       " 'whuskie',\n",
       " 'superlenient',\n",
       " 'dumpishly',\n",
       " 'totemism',\n",
       " 'irriguousness',\n",
       " 'puna',\n",
       " 'verdea',\n",
       " 'gracelessness',\n",
       " 'bisectional',\n",
       " 'balladmongering',\n",
       " 'cunning',\n",
       " 'gooselike',\n",
       " 'ambash',\n",
       " 'physicological',\n",
       " 'nondidactic',\n",
       " 'wharfrae',\n",
       " 'spinomuscular',\n",
       " 'apism',\n",
       " 'decoratively',\n",
       " 'bemar',\n",
       " 'etchareottine',\n",
       " 'dowless',\n",
       " 'problemist',\n",
       " 'codfishery',\n",
       " 'neurocentral',\n",
       " 'percribrate',\n",
       " 'eyelash',\n",
       " 'dermatomere',\n",
       " 'brilliance',\n",
       " 'lipopod',\n",
       " 'climaciaceous',\n",
       " 'livery',\n",
       " 'aquifer',\n",
       " 'laundrymaid',\n",
       " 'utricularia',\n",
       " 'hedera',\n",
       " 'actually',\n",
       " 'hepatolithic',\n",
       " 'remount',\n",
       " 'izzard',\n",
       " 'dingdong',\n",
       " 'scantness',\n",
       " 'misword',\n",
       " 'injector',\n",
       " 'skirmishingly',\n",
       " 'baccara',\n",
       " 'lu',\n",
       " 'rusticize',\n",
       " 'triakisoctahedron',\n",
       " 'flimsily',\n",
       " 'cosmogenic',\n",
       " 'epiopticon',\n",
       " 'levogyrate',\n",
       " 'sensomobile',\n",
       " 'biomagnetic',\n",
       " 'pherophatta',\n",
       " 'unyearned',\n",
       " 'kilerg',\n",
       " 'coelomatic',\n",
       " 'alopecurus',\n",
       " 'flatly',\n",
       " 'cacomagician',\n",
       " 'tyrannous',\n",
       " 'suji',\n",
       " 'ungermlike',\n",
       " 'interproduce',\n",
       " 'nonmarriage',\n",
       " 'phytolaccaceous',\n",
       " 'uncalculated',\n",
       " 'wizardess',\n",
       " 'divergently',\n",
       " 'symbiotism',\n",
       " 'mariupolite',\n",
       " 'nonintermittent',\n",
       " 'undergentleman',\n",
       " 'curtail',\n",
       " 'flustrine',\n",
       " 'lumbang',\n",
       " 'polychasium',\n",
       " 'intuicity',\n",
       " 'ptyalogenic',\n",
       " 'wisent',\n",
       " 'vidonia',\n",
       " 'pterosaur',\n",
       " 'winrow',\n",
       " 'unsquirted',\n",
       " 'kuphar',\n",
       " 'birefringent',\n",
       " 'supplementarily',\n",
       " 'decapitation',\n",
       " 'beta',\n",
       " 'valetudinarist',\n",
       " 'scamphood',\n",
       " 'vulnerably',\n",
       " 'imminently',\n",
       " 'boneless',\n",
       " 'autobiographical',\n",
       " 'endite',\n",
       " 'from',\n",
       " 'harmonizer',\n",
       " 'unsoused',\n",
       " 'zygodactyl',\n",
       " 'landslip',\n",
       " 'foreshop',\n",
       " 'alectryomancy',\n",
       " 'washin',\n",
       " 'bolsterer',\n",
       " 'longue',\n",
       " 'fruiteress',\n",
       " 'orthoceras',\n",
       " 'preconditioned',\n",
       " 'meccano',\n",
       " 'labelloid',\n",
       " 'overthought',\n",
       " 'shrimper',\n",
       " 'scupful',\n",
       " 'coopering',\n",
       " 'acheiria',\n",
       " 'gish',\n",
       " 'whelpling',\n",
       " 'sweatshop',\n",
       " 'electrochronometric',\n",
       " 'tariffism',\n",
       " 'vineyardist',\n",
       " 'spiel',\n",
       " 'doublehorned',\n",
       " 'whilom',\n",
       " 'ambassage',\n",
       " 'dotriacontane',\n",
       " 'piping',\n",
       " 'circumlittoral',\n",
       " 'tartrylic',\n",
       " 'angelological',\n",
       " 'irreductibility',\n",
       " 'lota',\n",
       " 'mesoplanktonic',\n",
       " 'rompingly',\n",
       " 'promising',\n",
       " 'aerification',\n",
       " 'puccinoid',\n",
       " 'institory',\n",
       " 'nutritional',\n",
       " 'pome',\n",
       " 'mesameboid',\n",
       " 'afterthought',\n",
       " 'pregladden',\n",
       " 'exclamatory',\n",
       " 'glossoscopia',\n",
       " 'nauseaproof',\n",
       " 'unrussian',\n",
       " 'varnishment',\n",
       " 'toxicophagous',\n",
       " 'kinkiness',\n",
       " 'disembarkment',\n",
       " 'floristics',\n",
       " 'gematrical',\n",
       " 'reminiscently',\n",
       " 'cyclar',\n",
       " 'autochthonousness',\n",
       " 'unchewable',\n",
       " 'unterrific',\n",
       " 'petrary',\n",
       " 'prytanize',\n",
       " 'ernest',\n",
       " 'whatsoeer',\n",
       " 'hospital',\n",
       " 'trachomedusae',\n",
       " 'caroling',\n",
       " 'culpability',\n",
       " 'glioma',\n",
       " 'sapo',\n",
       " 'undertakingly',\n",
       " 'hemeralopia',\n",
       " 'pycnidium',\n",
       " 'pyramidologist',\n",
       " 'dustin',\n",
       " 'elephanticide',\n",
       " 'shintoist',\n",
       " 'interownership',\n",
       " 'teletape',\n",
       " 'thyrocele',\n",
       " 'safemaking',\n",
       " 'lumberer',\n",
       " 'squalodont',\n",
       " 'betutor',\n",
       " 'hissing',\n",
       " 'heracleopolitan',\n",
       " 'unstinting',\n",
       " 'verism',\n",
       " 'excursiveness',\n",
       " 'islandish',\n",
       " 'tentamen',\n",
       " 'cultic',\n",
       " 'suckable',\n",
       " 'wrangle',\n",
       " 'polysomatic',\n",
       " 'sphaceloma',\n",
       " 'pseudoethical',\n",
       " 'costally',\n",
       " 'prizery',\n",
       " 'harvardian',\n",
       " 'upraisal',\n",
       " 'chaste',\n",
       " 'gyral',\n",
       " 'paroemiology',\n",
       " 'patulous',\n",
       " 'botchy',\n",
       " 'franticly',\n",
       " 'tigger',\n",
       " 'bellicosity',\n",
       " 'knagged',\n",
       " 'engrained',\n",
       " 'nonattendance',\n",
       " 'fulfillment',\n",
       " 'taal',\n",
       " 'prelinguistic',\n",
       " 'diseasedness',\n",
       " 'pameroon',\n",
       " 'candace',\n",
       " 'inventible',\n",
       " 'innoxiously',\n",
       " 'foremarch',\n",
       " 'retiracy',\n",
       " 'circumundulate',\n",
       " 'edema',\n",
       " 'heptal',\n",
       " 'benzylamine',\n",
       " 'nonmolar',\n",
       " 'proscutellum',\n",
       " 'trimethylamine',\n",
       " 'anguishously',\n",
       " 'admonish',\n",
       " 'putrilaginous',\n",
       " 'lithotypy',\n",
       " 'confraternization',\n",
       " 'kiowa',\n",
       " 'atypy',\n",
       " 'superoptimist',\n",
       " 'strook',\n",
       " 'membered',\n",
       " 'myriophyllite',\n",
       " 'outparagon',\n",
       " 'wurrus',\n",
       " 'sketch',\n",
       " 'subregular',\n",
       " 'majesty',\n",
       " 'lissoflagellate',\n",
       " 'reannotate',\n",
       " 'sociopolitical',\n",
       " 'popeism',\n",
       " 'sapiency',\n",
       " 'hydatidinous',\n",
       " 'irvin',\n",
       " 'turnbout',\n",
       " 'distrainment',\n",
       " 'macrozamia',\n",
       " 'salicylidene',\n",
       " 'historicalness',\n",
       " 'mincer',\n",
       " 'filicidal',\n",
       " 'phthaleinometer',\n",
       " 'multivibrator',\n",
       " 'annulary',\n",
       " 'interpunct',\n",
       " 'scaur',\n",
       " 'arrowy',\n",
       " 'barbican',\n",
       " 'magiric',\n",
       " 'toothchiseled',\n",
       " 'changos',\n",
       " 'nonneutral',\n",
       " ...]"
      ]
     },
     "execution_count": 11,
     "metadata": {},
     "output_type": "execute_result"
    }
   ],
   "source": [
    "wordunique"
   ]
  },
  {
   "cell_type": "code",
   "execution_count": 12,
   "metadata": {
    "collapsed": true
   },
   "outputs": [],
   "source": [
    "wordunique.sort()"
   ]
  },
  {
   "cell_type": "code",
   "execution_count": 13,
   "metadata": {},
   "outputs": [
    {
     "data": {
      "text/plain": [
       "['a',\n",
       " 'aa',\n",
       " 'aal',\n",
       " 'aalii',\n",
       " 'aam',\n",
       " 'aani',\n",
       " 'aardvark',\n",
       " 'aardwolf',\n",
       " 'aaron',\n",
       " 'aaronic']"
      ]
     },
     "execution_count": 13,
     "metadata": {},
     "output_type": "execute_result"
    }
   ],
   "source": [
    "wordunique[:10]"
   ]
  },
  {
   "cell_type": "code",
   "execution_count": 14,
   "metadata": {
    "collapsed": true
   },
   "outputs": [],
   "source": [
    "wordclean = [word.strip().lower() for word in open('words','r')]"
   ]
  },
  {
   "cell_type": "code",
   "execution_count": 15,
   "metadata": {},
   "outputs": [
    {
     "data": {
      "text/plain": [
       "['a',\n",
       " 'a',\n",
       " 'aa',\n",
       " 'aal',\n",
       " 'aalii',\n",
       " 'aam',\n",
       " 'aani',\n",
       " 'aardvark',\n",
       " 'aardwolf',\n",
       " 'aaron']"
      ]
     },
     "execution_count": 15,
     "metadata": {},
     "output_type": "execute_result"
    }
   ],
   "source": [
    "wordclean[:10]"
   ]
  },
  {
   "cell_type": "code",
   "execution_count": 16,
   "metadata": {
    "collapsed": true
   },
   "outputs": [],
   "source": [
    "wordclean = sorted(list(set([word.strip().lower() for word in open('words','r')])))"
   ]
  },
  {
   "cell_type": "code",
   "execution_count": 17,
   "metadata": {},
   "outputs": [
    {
     "data": {
      "text/plain": [
       "['a',\n",
       " 'aa',\n",
       " 'aal',\n",
       " 'aalii',\n",
       " 'aam',\n",
       " 'aani',\n",
       " 'aardvark',\n",
       " 'aardwolf',\n",
       " 'aaron',\n",
       " 'aaronic']"
      ]
     },
     "execution_count": 17,
     "metadata": {},
     "output_type": "execute_result"
    }
   ],
   "source": [
    "wordclean[:10]"
   ]
  },
  {
   "cell_type": "code",
   "execution_count": 18,
   "metadata": {},
   "outputs": [
    {
     "data": {
      "text/plain": [
       "['e', 'i', 'l', 's', 'v']"
      ]
     },
     "execution_count": 18,
     "metadata": {},
     "output_type": "execute_result"
    }
   ],
   "source": [
    "sorted('lives')"
   ]
  },
  {
   "cell_type": "code",
   "execution_count": 19,
   "metadata": {},
   "outputs": [
    {
     "data": {
      "text/plain": [
       "True"
      ]
     },
     "execution_count": 19,
     "metadata": {},
     "output_type": "execute_result"
    }
   ],
   "source": [
    "sorted('lives') == sorted('elvis')"
   ]
  },
  {
   "cell_type": "code",
   "execution_count": 20,
   "metadata": {},
   "outputs": [
    {
     "data": {
      "text/plain": [
       "False"
      ]
     },
     "execution_count": 20,
     "metadata": {},
     "output_type": "execute_result"
    }
   ],
   "source": [
    "sorted('love') == sorted('hate')"
   ]
  },
  {
   "cell_type": "code",
   "execution_count": 21,
   "metadata": {
    "collapsed": true
   },
   "outputs": [],
   "source": [
    "def signature(word):\n",
    "    return ''.join(sorted(word))"
   ]
  },
  {
   "cell_type": "code",
   "execution_count": 22,
   "metadata": {},
   "outputs": [
    {
     "data": {
      "text/plain": [
       "'eilsv'"
      ]
     },
     "execution_count": 22,
     "metadata": {},
     "output_type": "execute_result"
    }
   ],
   "source": [
    "signature('lives')"
   ]
  },
  {
   "cell_type": "code",
   "execution_count": 23,
   "metadata": {},
   "outputs": [
    {
     "data": {
      "text/plain": [
       "'a/b/c'"
      ]
     },
     "execution_count": 23,
     "metadata": {},
     "output_type": "execute_result"
    }
   ],
   "source": [
    "'/'.join(['a','b','c'])"
   ]
  },
  {
   "cell_type": "code",
   "execution_count": 24,
   "metadata": {
    "collapsed": true
   },
   "outputs": [],
   "source": [
    "def anagram(word):\n",
    "    return [w for w in wordclean if signature(w) == signature(word)]"
   ]
  },
  {
   "cell_type": "code",
   "execution_count": 25,
   "metadata": {},
   "outputs": [
    {
     "data": {
      "text/plain": [
       "['dictionary', 'indicatory']"
      ]
     },
     "execution_count": 25,
     "metadata": {},
     "output_type": "execute_result"
    }
   ],
   "source": [
    "anagram('dictionary')"
   ]
  },
  {
   "cell_type": "code",
   "execution_count": 26,
   "metadata": {},
   "outputs": [
    {
     "name": "stdout",
     "output_type": "stream",
     "text": [
      "607 ms ± 47.3 ms per loop (mean ± std. dev. of 7 runs, 1 loop each)\n"
     ]
    }
   ],
   "source": [
    "%timeit anagram('dictionary')"
   ]
  },
  {
   "cell_type": "code",
   "execution_count": 27,
   "metadata": {},
   "outputs": [
    {
     "ename": "KeyError",
     "evalue": "'a'",
     "output_type": "error",
     "traceback": [
      "\u001b[0;31m---------------------------------------------------------------------------\u001b[0m",
      "\u001b[0;31mKeyError\u001b[0m                                  Traceback (most recent call last)",
      "\u001b[0;32m<ipython-input-27-198314f94f4a>\u001b[0m in \u001b[0;36m<module>\u001b[0;34m()\u001b[0m\n\u001b[1;32m      2\u001b[0m \u001b[0;34m\u001b[0m\u001b[0m\n\u001b[1;32m      3\u001b[0m \u001b[0;32mfor\u001b[0m \u001b[0mword\u001b[0m \u001b[0;32min\u001b[0m \u001b[0mwordclean\u001b[0m\u001b[0;34m:\u001b[0m\u001b[0;34m\u001b[0m\u001b[0m\n\u001b[0;32m----> 4\u001b[0;31m     \u001b[0mwords_bysig\u001b[0m\u001b[0;34m[\u001b[0m\u001b[0msignature\u001b[0m\u001b[0;34m(\u001b[0m\u001b[0mword\u001b[0m\u001b[0;34m)\u001b[0m\u001b[0;34m]\u001b[0m\u001b[0;34m.\u001b[0m\u001b[0mappend\u001b[0m\u001b[0;34m(\u001b[0m\u001b[0mword\u001b[0m\u001b[0;34m)\u001b[0m\u001b[0;34m\u001b[0m\u001b[0m\n\u001b[0m",
      "\u001b[0;31mKeyError\u001b[0m: 'a'"
     ]
    }
   ],
   "source": [
    "words_bysig = {}\n",
    "\n",
    "for word in wordclean:\n",
    "    words_bysig[signature(word)].append(word)"
   ]
  },
  {
   "cell_type": "code",
   "execution_count": null,
   "metadata": {
    "collapsed": true
   },
   "outputs": [],
   "source": [
    "import collections"
   ]
  },
  {
   "cell_type": "code",
   "execution_count": null,
   "metadata": {
    "collapsed": true
   },
   "outputs": [],
   "source": [
    "words_bysig = collections.defaultdict(list)\n",
    "\n",
    "for word in wordclean:\n",
    "    words_bysig[signature(word)].append(word)"
   ]
  },
  {
   "cell_type": "code",
   "execution_count": null,
   "metadata": {},
   "outputs": [],
   "source": [
    "words_bysig"
   ]
  },
  {
   "cell_type": "code",
   "execution_count": null,
   "metadata": {
    "collapsed": true
   },
   "outputs": [],
   "source": [
    "def anagram_fast(word):\n",
    "    return words_bysig[signature(word)]"
   ]
  },
  {
   "cell_type": "code",
   "execution_count": null,
   "metadata": {},
   "outputs": [],
   "source": [
    "anagram_fast('dictionary')"
   ]
  },
  {
   "cell_type": "code",
   "execution_count": null,
   "metadata": {
    "collapsed": true
   },
   "outputs": [],
   "source": [
    "anagrams_all = {word: anagram_fast(word) for word in wordclean if len(anagram_fast(word)) > 1}"
   ]
  },
  {
   "cell_type": "code",
   "execution_count": null,
   "metadata": {},
   "outputs": [],
   "source": [
    "len(anagrams_all)"
   ]
  },
  {
   "cell_type": "code",
   "execution_count": null,
   "metadata": {},
   "outputs": [],
   "source": [
    "%timeit anagrams_all = {word: anagram_fast(word) for word in wordclean if len(anagram_fast(word)) > 1}"
   ]
  },
  {
   "cell_type": "code",
   "execution_count": null,
   "metadata": {
    "collapsed": true
   },
   "outputs": [],
   "source": []
  }
 ],
 "metadata": {
  "kernelspec": {
   "display_name": "Python 3",
   "language": "python",
   "name": "python3"
  },
  "language_info": {
   "codemirror_mode": {
    "name": "ipython",
    "version": 3
   },
   "file_extension": ".py",
   "mimetype": "text/x-python",
   "name": "python",
   "nbconvert_exporter": "python",
   "pygments_lexer": "ipython3",
   "version": "3.6.3"
  }
 },
 "nbformat": 4,
 "nbformat_minor": 1
}
