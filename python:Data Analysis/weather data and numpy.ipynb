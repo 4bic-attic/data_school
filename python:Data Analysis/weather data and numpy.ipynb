{
 "cells": [
  {
   "cell_type": "code",
   "execution_count": 1,
   "metadata": {
    "collapsed": true
   },
   "outputs": [],
   "source": [
    "import numpy as np\n",
    "import seaborn as sns\n",
    "import matplotlib.pyplot as plt\n",
    "import urllib.request\n",
    "\n",
    "%matplotlib inline"
   ]
  },
  {
   "cell_type": "code",
   "execution_count": 37,
   "metadata": {
    "collapsed": true
   },
   "outputs": [],
   "source": [
    "# urllib.request.urlretrieve('ftp://ftp.ncdc.noaa.gov/pub/data/ghcn/daily/ghcnd-stations.txt','stations.txt')"
   ]
  },
  {
   "cell_type": "code",
   "execution_count": 12,
   "metadata": {
    "collapsed": true
   },
   "outputs": [
    {
     "data": {
      "text/plain": [
       "['ACW00011604  17.1167  -61.7833   10.1    ST JOHNS COOLIDGE FLD                       \\n',\n",
       " 'ACW00011647  17.1333  -61.7833   19.2    ST JOHNS                                    \\n',\n",
       " 'AE000041196  25.3330   55.5170   34.0    SHARJAH INTER. AIRP            GSN     41196\\n',\n",
       " 'AEM00041194  25.2550   55.3640   10.4    DUBAI INTL                             41194\\n',\n",
       " 'AEM00041217  24.4330   54.6510   26.8    ABU DHABI INTL                         41217\\n',\n",
       " 'AEM00041218  24.2620   55.6090  264.9    AL AIN INTL                            41218\\n',\n",
       " 'AF000040930  35.3170   69.0170 3366.0    NORTH-SALANG                   GSN     40930\\n',\n",
       " 'AFM00040938  34.2100   62.2280  977.2    HERAT                                  40938\\n',\n",
       " 'AFM00040948  34.5660   69.2120 1791.3    KABUL INTL                             40948\\n',\n",
       " 'AFM00040990  31.5000   65.8500 1010.0    KANDAHAR AIRPORT                       40990\\n']"
      ]
     },
     "execution_count": 12,
     "metadata": {},
     "output_type": "execute_result"
    }
   ],
   "source": [
    "open('stations.txt', 'r').readlines()[:10]"
   ]
  },
  {
   "cell_type": "code",
   "execution_count": 13,
   "metadata": {
    "collapsed": true
   },
   "outputs": [],
   "source": [
    "stations = {}\n",
    "\n",
    "for line in open('stations.txt', 'r'):\n",
    "    if 'GSN' in line:\n",
    "        fields = line.split()\n",
    "        \n",
    "        stations[fields[0]] = ' '.join(fields[4:])\n",
    "        \n",
    "        \n",
    "        "
   ]
  },
  {
   "cell_type": "code",
   "execution_count": 14,
   "metadata": {},
   "outputs": [
    {
     "data": {
      "text/plain": [
       "997"
      ]
     },
     "execution_count": 14,
     "metadata": {},
     "output_type": "execute_result"
    }
   ],
   "source": [
    "len(stations)"
   ]
  },
  {
   "cell_type": "code",
   "execution_count": 15,
   "metadata": {
    "collapsed": true
   },
   "outputs": [],
   "source": [
    "def find_station(s):\n",
    "    found = {code: name for code,name in stations.items() if s in name}\n",
    "    print(found)\n"
   ]
  },
  {
   "cell_type": "code",
   "execution_count": 33,
   "metadata": {},
   "outputs": [
    {
     "name": "stdout",
     "output_type": "stream",
     "text": [
      "{}\n"
     ]
    }
   ],
   "source": [
    "find_station('NAIROBI/DAGORETTI')"
   ]
  },
  {
   "cell_type": "raw",
   "metadata": {},
   "source": [
    "    stations in Kenya\n",
    "\n",
    "KE000063612   3.1170   35.6170  515.0    LODWAR                         GSN     63612\n",
    "KE000063619   3.5330   39.0330 1097.0    MOYALE                                 63619\n",
    "KE000063624   3.9330   41.8670  231.0    MANDERA                        GSN     63624\n",
    "KE000063661   1.0160   35.0000 1875.0    KITALE                         GSN     63661\n",
    "KE000063723  -0.4670   39.6330  147.0    GARISSA                        GSN     63723\n",
    "KE000063740  -1.3170   36.9170 1624.0    JOMO KENYATTA INTL             GSN     63740\n",
    "KE000063820  -4.0330   39.6170   55.0    MOMBASA                        GSN     63820\n",
    "KEM00063686   0.4040   35.2390 2115.6    ELDORET INTL                           63686\n",
    "KEM00063741  -1.3000   36.7500 1798.0    NAIROBI/DAGORETTI                      63741\n",
    "KEM00063799  -3.2290   40.1020   25.0    MALINDI                                63799\n",
    "\n",
    "        Draw focus to; Lodwar, Moyale,Mandera, Kitale, Eldoret,\n",
    "                       Garissa,Jomo Kenyatta, Mombasa, \n",
    "                       NBO/Dagoretti, Malindi"
   ]
  },
  {
   "cell_type": "code",
   "execution_count": 3,
   "metadata": {
    "collapsed": true
   },
   "outputs": [],
   "source": [
    "datastations = ['KE000063612', 'KE000063624', 'KE000063619',  \n",
    "                'KE000063661', 'KE000063723', 'KEM00063686'\n",
    "                'KE000063820', 'KE000063740', 'KEM00063799', 'KEM00063741' ]"
   ]
  },
  {
   "cell_type": "markdown",
   "metadata": {},
   "source": [
    "   > ##### Temperature analysis"
   ]
  },
  {
   "cell_type": "code",
   "execution_count": 4,
   "metadata": {},
   "outputs": [
    {
     "data": {
      "text/plain": [
       "['KE000063612195701TAVG  306H S  307H S  300H S  297H S  296H S  298H S  294H S  289H S  288H S  296H S  294H S  303H S  296H S  286H S  299H S  297H S  294H S  297H S  301H S  294H S  291H S  320H S  261H S  287H S  284H S  281H S  294H S  302H S  291H S  290H S  292H S\\n',\n",
       " 'KE000063612195702TAVG  306H S  295H S  294H S  298H S  288H S  288H S  299H S  301H S  303H S  297H S  301H S  301H S  306H S  301H S  297H S  300H S  302H S  299H S  299H S  296H S  299H S  304H S  297H S  294H S  297H S  297H S  310H S  305H S-9999   -9999   -9999   \\n',\n",
       " 'KE000063612195703TAVG  304H S  308H S  314H S  314H S  308H S  306H S  334H S  328H S  312H S  296H S  232H S  272H S  298H S  323H S  323H S  320H S  308H S  299H S  306H S  307H S  308H S  303H S  308H S  314H S  319H S  318H S  307H S  249H S  273H S  292H S  299H S\\n',\n",
       " 'KE000063612195704TAVG  290H S  308H S  327H S  327H S  320H S  307H S  321H S  320H S  310H S  320H S  319H S  322H S  261H S  293H S  309H S  314H S  316H S  321H S  308H S  311H S  262H S  279H S  294H S  312H S  282H S  301H S  305H S  308H S  297H S  299H S-9999   \\n',\n",
       " 'KE000063612195705TAVG  273H S  284H S  290H S  313H S  267H S  266H S  298H S  303H S  300H S  304H S  312H S  308H S  302H S  309H S  306H S  311H S  314H S  314H S  306H S  309H S  308H S  307H S  307H S  302H S  310H S  302H S  261H S  296H S  281H S  242H S  269H S\\n',\n",
       " 'KE000063612195706TAVG  290H S  307H S  301H S  267H S  279H S  291H S  306H S  307H S  302H S  299H S  300H S  299H S  298H S  294H S  292H S  294H S  297H S  293H S  298H S  307H S  307H S  304H S  300H S  294H S  283H S  290H S  297H S  292H S  297H S  294H S-9999   \\n',\n",
       " 'KE000063612195707TAVG  302H S  301H S  284H S  287H S  296H S  300H S  292H S  293H S  288H S  291H S  288H S  290H S  292H S  299H S  293H S  289H S  286H S  281H S  288H S  283H S  284H S  293H S  289H S  290H S  294H S  296H S  292H S  300H S  302H S  303H S  291H S\\n',\n",
       " 'KE000063612195708TAVG  288H S  296H S  292H S  277H S  269H S  276H S  278H S  286H S  288H S  294H S  303H S  300H S  302H S  299H S  298H S  296H S  292H S  288H S  289H S  291H S  297H S  297H S  298H S  299H S  290H S  294H S  294H S  293H S  298H S  291H S  290H S\\n',\n",
       " 'KE000063612195709TAVG  300H S  301H S  296H S  299H S  292H S  291H S  283H S  293H S  304H S  306H S  308H S  309H S  306H S  302H S  301H S  299H S  300H S  298H S  300H S  307H S  301H S  306H S  311H S  311H S  313H S  313H S  317H S  313H S  319H S  310H S-9999   \\n',\n",
       " 'KE000063612195710TAVG  308H S  316H S  320H S  313H S  309H S  312H S  309H S  326H S  306H S  306H S  303H S  310H S  311H S  322H S  317H S  308H S  300H S  299H S  313H S  312H S  314H S  317H S  324H S  307H S  316H S  304H S  314H S  317H S  307H S  303H S  313H S\\n']"
      ]
     },
     "execution_count": 4,
     "metadata": {},
     "output_type": "execute_result"
    }
   ],
   "source": [
    "open('datasets_KE/KE000063612.dly', 'r').readlines()[:10]"
   ]
  },
  {
   "cell_type": "code",
   "execution_count": null,
   "metadata": {
    "collapsed": true
   },
   "outputs": [],
   "source": []
  }
 ],
 "metadata": {
  "kernelspec": {
   "display_name": "Python 3",
   "language": "python",
   "name": "python3"
  },
  "language_info": {
   "codemirror_mode": {
    "name": "ipython",
    "version": 3
   },
   "file_extension": ".py",
   "mimetype": "text/x-python",
   "name": "python",
   "nbconvert_exporter": "python",
   "pygments_lexer": "ipython3",
   "version": "3.6.3"
  }
 },
 "nbformat": 4,
 "nbformat_minor": 2
}
