{
  "nbformat": 4,
  "nbformat_minor": 0,
  "metadata": {
    "kernelspec": {
      "name": "python3",
      "display_name": "Python 3"
    },
    "language_info": {
      "codemirror_mode": {
        "name": "ipython",
        "version": 3
      },
      "file_extension": ".py",
      "mimetype": "text/x-python",
      "name": "python",
      "nbconvert_exporter": "python",
      "pygments_lexer": "ipython3",
      "version": "3.6.1"
    },
    "colab": {
      "name": "ff-extracting-entities-with-spacy.ipynb",
      "provenance": [],
      "toc_visible": true
    },
    "accelerator": "GPU"
  },
  "cells": [
    {
      "cell_type": "markdown",
      "metadata": {
        "id": "zfN67XjaWQJH",
        "colab_type": "text"
      },
      "source": [
        "# Entity Extratction with spaCy"
      ]
    },
    {
      "cell_type": "markdown",
      "metadata": {
        "id": "ZqhV-xa6WQJM",
        "colab_type": "text"
      },
      "source": [
        "## Overview\n",
        "\n",
        "We're going to look for all the people mentioned in a pile of documents.\n",
        "\n",
        "### Entites\n",
        "\n",
        "\"Entities\" in documents are, generally, names -- names of people, places, and things such as companies. Finding out which entities are mentioned in a trove of documents can be pretty helpful, especially when you don't previously _know_ someone or some place is included the document.\n",
        "\n",
        "There are services online that do this kind of extraction, including [DocumentCloud](https://www.documentcloud.org/) ([see how here](https://www.documentcloud.org/faq#faq-analyzing-1)), [Amazon Comprehend](https://aws.amazon.com/comprehend/features/) and [Google Natural Language](https://cloud.google.com/natural-language/).\n",
        "\n",
        "### Using spaCy\n",
        "\n",
        "We're going to do our entity extraction right here in our notebook using a pre-trained natural language model called [spaCy](https://spacy.io/). Specifically, we're using the spaCy [large English language model](https://spacy.io/models/en#en_core_web_lg) trained on the [OntoNotes dataset](https://catalog.ldc.upenn.edu/LDC2013T19) -- a trove of \"telephone conversations, newswire, newsgroups, broadcast news, broadcast conversation, weblogs\" that includes nearly 1.5 million English words.  \n",
        "\n",
        "The spaCy project has a lot of great language features. We'll be looking at the [named entities feature](https://spacy.io/usage/linguistic-features#named-entities). Note also that there are [models for several languages](https://spacy.io/models) being developed in spaCy.\n",
        "\n",
        "\n",
        "## The Plan\n",
        "\n",
        "- We'll download the spaCy software and the large English language model.\n",
        "- We'll also download a (smallish) pile of emails released in a court case.\n",
        "- We'll learn how to use spaCy functions to extract entities\n",
        "- We'll use the spaCy functions to scan all the pages of the emails."
      ]
    },
    {
      "cell_type": "markdown",
      "metadata": {
        "id": "jEi9bM8VWQJQ",
        "colab_type": "text"
      },
      "source": [
        "## Credits\n",
        "\n",
        "This notebook was written by John Keefe [Quartz](https://qz.com) at Quartz and includes document-processing code written included in [a blog post](https://qz.ai/discovering-interesting-documents-in-the-mauritius-leaks/) and a [Jupyter notebook](https://github.com/Quartz/aistudio-doc2vec-for-investigative-journalism/blob/master/Doc2vec%20for%20Investigative%20Journalism.ipynb) by Jeremy B. Merrill at Quartz, who used it to help find documents inside a document dump known as the [Mauritius Leaks](https://qz.com/1670632/how-quartz-used-ai-to-help-reporters-search-the-mauritius-leaks/).  \n",
        "\n",
        "-- John Keefe, [Quartz](https://qz.com), October 2019"
      ]
    },
    {
      "cell_type": "markdown",
      "metadata": {
        "id": "n1f_NCO2WQJR",
        "colab_type": "text"
      },
      "source": [
        "## Setup"
      ]
    },
    {
      "cell_type": "markdown",
      "metadata": {
        "id": "1_Qx5x9qWQJS",
        "colab_type": "text"
      },
      "source": [
        "### For those using Google Colaboratory ...\n",
        "\n",
        "Be aware that Google Colab instances are ephemeral -- they vanish *Poof* when you close them, or after a period of sitting idle (currently 90 minutes), or if you use one for more than 12 hours.\n",
        "\n",
        "If you're using Google Colaboratory, be sure to set your runtime to \"GPU\" which speeds up your notebook for machine learning:\n",
        "\n",
        "![change runtime](https://qz-aistudio-public.s3.amazonaws.com/workshops/notebook_images/change_runtime_2.jpg)\n",
        "![pick gpu](https://qz-aistudio-public.s3.amazonaws.com/workshops/notebook_images/pick_gpu_2.jpg)"
      ]
    },
    {
      "cell_type": "markdown",
      "metadata": {
        "id": "fc3pUvmOWQJU",
        "colab_type": "text"
      },
      "source": [
        "### Everybody do this ..."
      ]
    },
    {
      "cell_type": "markdown",
      "metadata": {
        "id": "0gBY2velWQJV",
        "colab_type": "text"
      },
      "source": [
        "Everyone needs to run the next cell, which initializes the Python libraries we'll use in this notebook."
      ]
    },
    {
      "cell_type": "code",
      "metadata": {
        "id": "5euPSkeMWQJX",
        "colab_type": "code",
        "colab": {}
      },
      "source": [
        "## *EVERYBODY* SHOULD RUN THIS CELL\n",
        "## This can take up to 3 minutes ... but that's normal\n",
        "%cat /usr/local/cuda/version.txt\n",
        "\n",
        "!pip install -U spacy[cuda100] --quiet\n",
        "!python -m spacy download en_core_web_lg\n",
        "!pip install PyPDF2 --quiet\n",
        "\n",
        "import spacy\n",
        "spacy.prefer_gpu()\n",
        "\n",
        "import en_core_web_lg\n",
        "import PyPDF2\n",
        "import json\n",
        "from os.path import exists"
      ],
      "execution_count": 0,
      "outputs": []
    },
    {
      "cell_type": "markdown",
      "metadata": {
        "id": "iQuCK5C3WQJa",
        "colab_type": "text"
      },
      "source": [
        "## The Data"
      ]
    },
    {
      "cell_type": "markdown",
      "metadata": {
        "id": "FTnJKK-UWQJa",
        "colab_type": "text"
      },
      "source": [
        "In this tutorial, we're going to look at some emails from the office of New York City mayor Bill de Blasio that were released under the Freedom of Information Law. \n",
        "\n",
        "The emails were part of the [\"Agent of the City\" hubbub](https://www.ny1.com/nyc/all-boroughs/news/2018/05/24/agents-of-the-city-emails-released), in which 4,000 city emails were released. You can download the [original file here](https://a860-openrecords.nyc.gov/response/120252?token=c784372fd140497081b4bfcff9f0e3a0) -- though we'll be using a file containing just [the first 100 pages](https://qz-aistudio-public.s3.amazonaws.com/workshops/2018.05.24_BerlinRosen_Responsive_Records_100pgs.pdf) for this exercise. "
      ]
    },
    {
      "cell_type": "markdown",
      "metadata": {
        "id": "qTJwekd4W2DE",
        "colab_type": "text"
      },
      "source": [
        "**Mount** **Drive** to work from"
      ]
    },
    {
      "cell_type": "code",
      "metadata": {
        "id": "KhRyakjbW1K7",
        "colab_type": "code",
        "colab": {}
      },
      "source": [
        "from google.colab import drive\n",
        "drive.mount('/content/drive')"
      ],
      "execution_count": 0,
      "outputs": []
    },
    {
      "cell_type": "code",
      "metadata": {
        "id": "UYTrdLqKX1AG",
        "colab_type": "code",
        "colab": {
          "base_uri": "https://localhost:8080/",
          "height": 34
        },
        "outputId": "7eae1b0a-8b02-40cf-d456-8f86e6b284df"
      },
      "source": [
        "%cd /content/drive/'My Drive'/Colab_Notebooks/ml_journalists\n"
      ],
      "execution_count": 4,
      "outputs": [
        {
          "output_type": "stream",
          "text": [
            "/content/drive/My Drive/Colab_Notebooks/ml_journalists\n"
          ],
          "name": "stdout"
        }
      ]
    },
    {
      "cell_type": "code",
      "metadata": {
        "id": "g4M9H8_UWQJb",
        "colab_type": "code",
        "colab": {
          "base_uri": "https://localhost:8080/",
          "height": 34
        },
        "outputId": "90bb9b46-ad64-41c5-c684-529a161f1fa4"
      },
      "source": [
        "# Run this cell to download the data we'll use for this exercise\n",
        "!wget -N https://qz-aistudio-public.s3.amazonaws.com/workshops/deblasio_emails_data.zip --quiet\n",
        "!unzip -q deblasio_emails_data.zip\n",
        "print('Done!')"
      ],
      "execution_count": 5,
      "outputs": [
        {
          "output_type": "stream",
          "text": [
            "Done!\n"
          ],
          "name": "stdout"
        }
      ]
    },
    {
      "cell_type": "markdown",
      "metadata": {
        "collapsed": true,
        "id": "nfjcw-WXWQJf",
        "colab_type": "text"
      },
      "source": [
        "Let's look at what we have."
      ]
    },
    {
      "cell_type": "code",
      "metadata": {
        "scrolled": true,
        "id": "LMexyg1lWQJi",
        "colab_type": "code",
        "colab": {
          "base_uri": "https://localhost:8080/",
          "height": 68
        },
        "outputId": "b65e778c-7dda-4211-b0e8-6ee15226a3ea"
      },
      "source": [
        "%ls data/"
      ],
      "execution_count": 6,
      "outputs": [
        {
          "output_type": "stream",
          "text": [
            "2018.05.24_BerlinRosen_Responsive_Records_100pgs.pdf  \u001b[0m\u001b[01;34mimages\u001b[0m/\n",
            "\u001b[01;34mchoppers\u001b[0m/                                             not_yet_seen.png\n",
            "imagenet_class_index.json\n"
          ],
          "name": "stdout"
        }
      ]
    },
    {
      "cell_type": "markdown",
      "metadata": {
        "id": "SESnEzZZWQJn",
        "colab_type": "text"
      },
      "source": [
        "## Trying the entity extraction feature"
      ]
    },
    {
      "cell_type": "code",
      "metadata": {
        "id": "SBOfENFCWQJn",
        "colab_type": "code",
        "colab": {}
      },
      "source": [
        "# First we load the model into the notebook\n",
        "nlp = en_core_web_lg.load()"
      ],
      "execution_count": 0,
      "outputs": []
    },
    {
      "cell_type": "code",
      "metadata": {
        "scrolled": true,
        "id": "SlrYfcWZWQJq",
        "colab_type": "code",
        "colab": {}
      },
      "source": [
        "# Now let's give it a try\n",
        "doc = nlp(u\"Nairobi governor, Mike Sonko got arrested in Voi by robots\")\n"
      ],
      "execution_count": 0,
      "outputs": []
    },
    {
      "cell_type": "code",
      "metadata": {
        "id": "AAm3EHS5WQJs",
        "colab_type": "code",
        "colab": {
          "base_uri": "https://localhost:8080/",
          "height": 51
        },
        "outputId": "b331ead7-45e7-45d0-ee7a-09044020aa43"
      },
      "source": [
        "for entity in doc.ents:\n",
        "    print(entity.text, entity.label_, spacy.explain(entity.label_))"
      ],
      "execution_count": 15,
      "outputs": [
        {
          "output_type": "stream",
          "text": [
            "Nairobi GPE Countries, cities, states\n",
            "Mike Sonko PERSON People, including fictional\n"
          ],
          "name": "stdout"
        }
      ]
    },
    {
      "cell_type": "markdown",
      "metadata": {
        "id": "vqdM3d0iWQJu",
        "colab_type": "text"
      },
      "source": [
        "There's [a whole list of entities spaCy can detect](https://spacy.io/api/annotation#named-entities)!"
      ]
    },
    {
      "cell_type": "code",
      "metadata": {
        "id": "j_5ybIGfWQJv",
        "colab_type": "code",
        "colab": {}
      },
      "source": [
        "my_story = \"\"\"\n",
        "John drove his Volkswagen Golf north on Interstate 35 to Duluth, Minnesota,\n",
        "where he stopped at the Aerial Lift Bridge and looked out over\n",
        "Lake Superior. \n",
        "\"\"\"\n",
        "\n",
        "doc = nlp(my_story)"
      ],
      "execution_count": 0,
      "outputs": []
    },
    {
      "cell_type": "markdown",
      "metadata": {
        "collapsed": true,
        "id": "teKtOUTBWQJy",
        "colab_type": "text"
      },
      "source": [
        "## Load the emails into a \"jsonl\" file\n",
        "\n",
        "JSONL is a file format that stores data in a JSON file, with each record living on its own line in the file.\n",
        "\n",
        "This next block reads the PDF file and turns it into a JSONL file, which is much easier to work with."
      ]
    },
    {
      "cell_type": "code",
      "metadata": {
        "id": "cCYdAm5yWQJz",
        "colab_type": "code",
        "colab": {}
      },
      "source": [
        "# read the PDF file into a new file called 'nyc_docs.jsonl'\n",
        "jsonl_file = \"nyc_docs.jsonl\"\n",
        "if not exists(jsonl_file):\n",
        "    pdf_file = open('data/2018.05.24_BerlinRosen_Responsive_Records_100pgs.pdf', 'rb')\n",
        "    read_pdf = PyPDF2.PdfFileReader(pdf_file)\n",
        "    with open(jsonl_file, 'w') as f:\n",
        "        for page_num in range(read_pdf.getNumPages()):\n",
        "            page = read_pdf.getPage(page_num)\n",
        "            page_content = page.extractText().encode('utf-8').decode(\"utf-8\") \n",
        "            f.write(json.dumps({\"_source\": {\"content\": page_content}, \"_id\": f\"p{page_num+1}\"}) + \"\\n\")"
      ],
      "execution_count": 0,
      "outputs": []
    },
    {
      "cell_type": "code",
      "metadata": {
        "id": "6a7HmsxQWQJ1",
        "colab_type": "code",
        "colab": {}
      },
      "source": [
        "# let's take a look at the first few lines of the file\n",
        "!head nyc_docs.jsonl"
      ],
      "execution_count": 0,
      "outputs": []
    },
    {
      "cell_type": "markdown",
      "metadata": {
        "id": "3FmFPqr6WQJ3",
        "colab_type": "text"
      },
      "source": [
        "Each line in the JSON file now represents a single page in the original document. So now we'll step through each line (aka page) and grab all the entities in the text. Then we'll print out all the entities."
      ]
    },
    {
      "cell_type": "markdown",
      "metadata": {
        "id": "rdJXv7CmWQJ4",
        "colab_type": "text"
      },
      "source": [
        "## Finding and listing the names"
      ]
    },
    {
      "cell_type": "code",
      "metadata": {
        "id": "r7uiWcrAWQJ4",
        "colab_type": "code",
        "colab": {}
      },
      "source": [
        "with open(jsonl_file, 'r') as f:        # open the jsonl file\n",
        "    for line in f:                      # loop through each line ...\n",
        "        line = json.loads(line)            # read the line \n",
        "        text = line[\"_source\"][\"content\"]  # grab the text of the email\n",
        "        page_number = line[\"_id\"]          # grab the page number we're on\n",
        "        doc = nlp(text)                    # load the text into the nlp model\n",
        "        for ent in doc.ents:               # loop through each entity in the text...\n",
        "            if (ent.label_ == \"PERSON\"):      # if the entity is a person's name ...\n",
        "                print(page_number, ent.text)  # print the page number and the name"
      ],
      "execution_count": 0,
      "outputs": []
    },
    {
      "cell_type": "markdown",
      "metadata": {
        "id": "BurmkaisWQJ7",
        "colab_type": "text"
      },
      "source": [
        "Really we want a list of _names_ not pages, right?"
      ]
    },
    {
      "cell_type": "code",
      "metadata": {
        "id": "vjiI_VNEWQJ8",
        "colab_type": "code",
        "colab": {}
      },
      "source": [
        "list_of_names = {}\n",
        "\n",
        "with open(jsonl_file, 'r') as f:\n",
        "    for line in f:\n",
        "        line = json.loads(line)\n",
        "        text = line[\"_source\"][\"content\"]\n",
        "        page_number = line[\"_id\"]\n",
        "        doc = nlp(text)\n",
        "        \n",
        "        # loop through the entities in the page\n",
        "        for ent in doc.ents:\n",
        "            \n",
        "            # is the entity is a person ...\n",
        "            if (ent.label_ == \"PERSON\"):\n",
        "                \n",
        "                # check if we already have this entity\n",
        "                if ent.text in list_of_names:\n",
        "                    \n",
        "                    # add this page to the entity's list of pages\n",
        "                    list_of_names[ent.text] += \" \" + page_number\n",
        "                    \n",
        "                else:\n",
        "                    \n",
        "                    # otheriwise start a list of pages\n",
        "                    list_of_names[ent.text] = page_number"
      ],
      "execution_count": 0,
      "outputs": []
    },
    {
      "cell_type": "code",
      "metadata": {
        "id": "deqvRvEAWQJ_",
        "colab_type": "code",
        "colab": {}
      },
      "source": [
        "list_of_names"
      ],
      "execution_count": 0,
      "outputs": []
    },
    {
      "cell_type": "code",
      "metadata": {
        "id": "t7dv_4MCWQKC",
        "colab_type": "code",
        "colab": {}
      },
      "source": [
        "for name, pages in sorted(list_of_names.items()):\n",
        "    print(name, \"(\" + pages + \")\" )"
      ],
      "execution_count": 0,
      "outputs": []
    },
    {
      "cell_type": "markdown",
      "metadata": {
        "collapsed": true,
        "id": "GFtrvBxTWQKF",
        "colab_type": "text"
      },
      "source": [
        "Once you know a name is _there_ then you can search for it [in the original document](https://qz-aistudio-public.s3.amazonaws.com/workshops/2018.05.24_BerlinRosen_Responsive_Records_100pgs.pdf)."
      ]
    },
    {
      "cell_type": "code",
      "metadata": {
        "id": "fyOwSfShWQKF",
        "colab_type": "code",
        "colab": {}
      },
      "source": [
        ""
      ],
      "execution_count": 0,
      "outputs": []
    }
  ]
}