{
  "nbformat": 4,
  "nbformat_minor": 0,
  "metadata": {
    "kernelspec": {
      "name": "python3",
      "display_name": "Python 3"
    },
    "language_info": {
      "codemirror_mode": {
        "name": "ipython",
        "version": 3
      },
      "file_extension": ".py",
      "mimetype": "text/x-python",
      "name": "python",
      "nbconvert_exporter": "python",
      "pygments_lexer": "ipython3",
      "version": "3.6.1"
    },
    "colab": {
      "name": "ff-extracting-entities-with-spacy.ipynb",
      "provenance": [],
      "toc_visible": true
    },
    "accelerator": "GPU"
  },
  "cells": [
    {
      "cell_type": "markdown",
      "metadata": {
        "id": "zfN67XjaWQJH",
        "colab_type": "text"
      },
      "source": [
        "# Entity Extratction with spaCy"
      ]
    },
    {
      "cell_type": "markdown",
      "metadata": {
        "id": "ZqhV-xa6WQJM",
        "colab_type": "text"
      },
      "source": [
        "## Overview\n",
        "\n",
        "We're going to look for all the people mentioned in a pile of documents.\n",
        "\n",
        "### Entites\n",
        "\n",
        "\"Entities\" in documents are, generally, names -- names of people, places, and things such as companies. Finding out which entities are mentioned in a trove of documents can be pretty helpful, especially when you don't previously _know_ someone or some place is included the document.\n",
        "\n",
        "There are services online that do this kind of extraction, including [DocumentCloud](https://www.documentcloud.org/) ([see how here](https://www.documentcloud.org/faq#faq-analyzing-1)), [Amazon Comprehend](https://aws.amazon.com/comprehend/features/) and [Google Natural Language](https://cloud.google.com/natural-language/).\n",
        "\n",
        "### Using spaCy\n",
        "\n",
        "We're going to do our entity extraction right here in our notebook using a pre-trained natural language model called [spaCy](https://spacy.io/). Specifically, we're using the spaCy [large English language model](https://spacy.io/models/en#en_core_web_lg) trained on the [OntoNotes dataset](https://catalog.ldc.upenn.edu/LDC2013T19) -- a trove of \"telephone conversations, newswire, newsgroups, broadcast news, broadcast conversation, weblogs\" that includes nearly 1.5 million English words.  \n",
        "\n",
        "The spaCy project has a lot of great language features. We'll be looking at the [named entities feature](https://spacy.io/usage/linguistic-features#named-entities). Note also that there are [models for several languages](https://spacy.io/models) being developed in spaCy.\n",
        "\n",
        "\n",
        "## The Plan\n",
        "\n",
        "- We'll download the spaCy software and the large English language model.\n",
        "- We'll also download a (smallish) pile of emails released in a court case.\n",
        "- We'll learn how to use spaCy functions to extract entities\n",
        "- We'll use the spaCy functions to scan all the pages of the emails."
      ]
    },
    {
      "cell_type": "markdown",
      "metadata": {
        "id": "jEi9bM8VWQJQ",
        "colab_type": "text"
      },
      "source": [
        "## Credits\n",
        "\n",
        "This notebook was written by John Keefe [Quartz](https://qz.com) at Quartz and includes document-processing code written included in [a blog post](https://qz.ai/discovering-interesting-documents-in-the-mauritius-leaks/) and a [Jupyter notebook](https://github.com/Quartz/aistudio-doc2vec-for-investigative-journalism/blob/master/Doc2vec%20for%20Investigative%20Journalism.ipynb) by Jeremy B. Merrill at Quartz, who used it to help find documents inside a document dump known as the [Mauritius Leaks](https://qz.com/1670632/how-quartz-used-ai-to-help-reporters-search-the-mauritius-leaks/).  \n",
        "\n",
        "-- John Keefe, [Quartz](https://qz.com), October 2019"
      ]
    },
    {
      "cell_type": "markdown",
      "metadata": {
        "id": "n1f_NCO2WQJR",
        "colab_type": "text"
      },
      "source": [
        "## Setup"
      ]
    },
    {
      "cell_type": "markdown",
      "metadata": {
        "id": "1_Qx5x9qWQJS",
        "colab_type": "text"
      },
      "source": [
        "### For those using Google Colaboratory ...\n",
        "\n",
        "Be aware that Google Colab instances are ephemeral -- they vanish *Poof* when you close them, or after a period of sitting idle (currently 90 minutes), or if you use one for more than 12 hours.\n",
        "\n",
        "If you're using Google Colaboratory, be sure to set your runtime to \"GPU\" which speeds up your notebook for machine learning:\n",
        "\n",
        "![change runtime](https://qz-aistudio-public.s3.amazonaws.com/workshops/notebook_images/change_runtime_2.jpg)\n",
        "![pick gpu](https://qz-aistudio-public.s3.amazonaws.com/workshops/notebook_images/pick_gpu_2.jpg)"
      ]
    },
    {
      "cell_type": "markdown",
      "metadata": {
        "id": "fc3pUvmOWQJU",
        "colab_type": "text"
      },
      "source": [
        "### Everybody do this ..."
      ]
    },
    {
      "cell_type": "markdown",
      "metadata": {
        "id": "0gBY2velWQJV",
        "colab_type": "text"
      },
      "source": [
        "Everyone needs to run the next cell, which initializes the Python libraries we'll use in this notebook."
      ]
    },
    {
      "cell_type": "code",
      "metadata": {
        "id": "5euPSkeMWQJX",
        "colab_type": "code",
        "colab": {}
      },
      "source": [
        "## *EVERYBODY* SHOULD RUN THIS CELL\n",
        "## This can take up to 3 minutes ... but that's normal\n",
        "%cat /usr/local/cuda/version.txt\n",
        "\n",
        "!pip install -U spacy[cuda100] --quiet\n",
        "!python -m spacy download en_core_web_lg\n",
        "!pip install PyPDF2 --quiet\n",
        "\n",
        "import spacy\n",
        "spacy.prefer_gpu()\n",
        "\n",
        "import en_core_web_lg\n",
        "import PyPDF2\n",
        "import json\n",
        "from os.path import exists"
      ],
      "execution_count": 0,
      "outputs": []
    },
    {
      "cell_type": "markdown",
      "metadata": {
        "id": "iQuCK5C3WQJa",
        "colab_type": "text"
      },
      "source": [
        "## The Data"
      ]
    },
    {
      "cell_type": "markdown",
      "metadata": {
        "id": "FTnJKK-UWQJa",
        "colab_type": "text"
      },
      "source": [
        "In this tutorial, we're going to look at some emails from the office of New York City mayor Bill de Blasio that were released under the Freedom of Information Law. \n",
        "\n",
        "The emails were part of the [\"Agent of the City\" hubbub](https://www.ny1.com/nyc/all-boroughs/news/2018/05/24/agents-of-the-city-emails-released), in which 4,000 city emails were released. You can download the [original file here](https://a860-openrecords.nyc.gov/response/120252?token=c784372fd140497081b4bfcff9f0e3a0) -- though we'll be using a file containing just [the first 100 pages](https://qz-aistudio-public.s3.amazonaws.com/workshops/2018.05.24_BerlinRosen_Responsive_Records_100pgs.pdf) for this exercise. "
      ]
    },
    {
      "cell_type": "markdown",
      "metadata": {
        "id": "qTJwekd4W2DE",
        "colab_type": "text"
      },
      "source": [
        "**Mount** **Drive** to work from"
      ]
    },
    {
      "cell_type": "code",
      "metadata": {
        "id": "KhRyakjbW1K7",
        "colab_type": "code",
        "colab": {}
      },
      "source": [
        "from google.colab import drive\n",
        "drive.mount('/content/drive')"
      ],
      "execution_count": 0,
      "outputs": []
    },
    {
      "cell_type": "code",
      "metadata": {
        "id": "UYTrdLqKX1AG",
        "colab_type": "code",
        "colab": {
          "base_uri": "https://localhost:8080/",
          "height": 34
        },
        "outputId": "7eae1b0a-8b02-40cf-d456-8f86e6b284df"
      },
      "source": [
        "%cd /content/drive/'My Drive'/Colab_Notebooks/ml_journalists\n"
      ],
      "execution_count": 4,
      "outputs": [
        {
          "output_type": "stream",
          "text": [
            "/content/drive/My Drive/Colab_Notebooks/ml_journalists\n"
          ],
          "name": "stdout"
        }
      ]
    },
    {
      "cell_type": "code",
      "metadata": {
        "id": "g4M9H8_UWQJb",
        "colab_type": "code",
        "colab": {
          "base_uri": "https://localhost:8080/",
          "height": 34
        },
        "outputId": "90bb9b46-ad64-41c5-c684-529a161f1fa4"
      },
      "source": [
        "# Run this cell to download the data we'll use for this exercise\n",
        "!wget -N https://qz-aistudio-public.s3.amazonaws.com/workshops/deblasio_emails_data.zip --quiet\n",
        "!unzip -q deblasio_emails_data.zip\n",
        "print('Done!')"
      ],
      "execution_count": 5,
      "outputs": [
        {
          "output_type": "stream",
          "text": [
            "Done!\n"
          ],
          "name": "stdout"
        }
      ]
    },
    {
      "cell_type": "markdown",
      "metadata": {
        "collapsed": true,
        "id": "nfjcw-WXWQJf",
        "colab_type": "text"
      },
      "source": [
        "Let's look at what we have."
      ]
    },
    {
      "cell_type": "code",
      "metadata": {
        "scrolled": true,
        "id": "LMexyg1lWQJi",
        "colab_type": "code",
        "colab": {
          "base_uri": "https://localhost:8080/",
          "height": 68
        },
        "outputId": "b65e778c-7dda-4211-b0e8-6ee15226a3ea"
      },
      "source": [
        "%ls data/"
      ],
      "execution_count": 6,
      "outputs": [
        {
          "output_type": "stream",
          "text": [
            "2018.05.24_BerlinRosen_Responsive_Records_100pgs.pdf  \u001b[0m\u001b[01;34mimages\u001b[0m/\n",
            "\u001b[01;34mchoppers\u001b[0m/                                             not_yet_seen.png\n",
            "imagenet_class_index.json\n"
          ],
          "name": "stdout"
        }
      ]
    },
    {
      "cell_type": "markdown",
      "metadata": {
        "id": "SESnEzZZWQJn",
        "colab_type": "text"
      },
      "source": [
        "## Trying the entity extraction feature"
      ]
    },
    {
      "cell_type": "code",
      "metadata": {
        "id": "SBOfENFCWQJn",
        "colab_type": "code",
        "colab": {}
      },
      "source": [
        "# First we load the model into the notebook\n",
        "nlp = en_core_web_lg.load()"
      ],
      "execution_count": 0,
      "outputs": []
    },
    {
      "cell_type": "code",
      "metadata": {
        "scrolled": true,
        "id": "SlrYfcWZWQJq",
        "colab_type": "code",
        "colab": {}
      },
      "source": [
        "# Now let's give it a try\n",
        "doc = nlp(u\"Nairobi governor, Mike Sonko got arrested in Voi by robots\")\n"
      ],
      "execution_count": 0,
      "outputs": []
    },
    {
      "cell_type": "markdown",
      "metadata": {
        "id": "vqdM3d0iWQJu",
        "colab_type": "text"
      },
      "source": [
        "There's [a whole list of entities spaCy can detect](https://spacy.io/api/annotation#named-entities)!"
      ]
    },
    {
      "cell_type": "code",
      "metadata": {
        "id": "j_5ybIGfWQJv",
        "colab_type": "code",
        "colab": {}
      },
      "source": [
        "my_story = \"\"\"Nairobi Governor Mike Sonko has arrived at the Milimani Law Court ahead of his arraignment today over graft charges at City Hall.\n",
        "Sonko was transferred from the EACC headquarters under tight police security and arrived at the Milimani Law Court at exactly 7.55 am.\n",
        "A contingent of heavily armed security personnel has been deployed around the court with the roads leading to the area sealed off and traffic re-directed to other adjacent roads. \n",
        "\"\"\"\n",
        "\n",
        "doc = nlp(my_story)"
      ],
      "execution_count": 0,
      "outputs": []
    },
    {
      "cell_type": "code",
      "metadata": {
        "id": "AAm3EHS5WQJs",
        "colab_type": "code",
        "colab": {
          "base_uri": "https://localhost:8080/",
          "height": 170
        },
        "outputId": "3d459f9e-e3e9-4809-9422-2d5016304336"
      },
      "source": [
        "for entity in doc.ents:\n",
        "    print(entity.text, entity.label_, spacy.explain(entity.label_))"
      ],
      "execution_count": 24,
      "outputs": [
        {
          "output_type": "stream",
          "text": [
            "Nairobi GPE Countries, cities, states\n",
            "Mike Sonko PERSON People, including fictional\n",
            "the Milimani Law Court ORG Companies, agencies, institutions, etc.\n",
            "today DATE Absolute or relative dates or periods\n",
            "City Hall FAC Buildings, airports, highways, bridges, etc.\n",
            "Sonko PERSON People, including fictional\n",
            "EACC ORG Companies, agencies, institutions, etc.\n",
            "the Milimani Law Court ORG Companies, agencies, institutions, etc.\n",
            "7.55 am TIME Times smaller than a day\n"
          ],
          "name": "stdout"
        }
      ]
    },
    {
      "cell_type": "markdown",
      "metadata": {
        "collapsed": true,
        "id": "teKtOUTBWQJy",
        "colab_type": "text"
      },
      "source": [
        "## Load the emails into a \"jsonl\" file\n",
        "\n",
        "JSONL is a file format that stores data in a JSON file, with each record living on its own line in the file.\n",
        "\n",
        "This next block reads the PDF file and turns it into a JSONL file, which is much easier to work with."
      ]
    },
    {
      "cell_type": "code",
      "metadata": {
        "id": "cCYdAm5yWQJz",
        "colab_type": "code",
        "colab": {}
      },
      "source": [
        "# read the PDF file into a new file called 'nyc_docs.jsonl'\n",
        "jsonl_file = \"nyc_docs.jsonl\"\n",
        "if not exists(jsonl_file):\n",
        "    pdf_file = open('data/2018.05.24_BerlinRosen_Responsive_Records_100pgs.pdf', 'rb')\n",
        "    read_pdf = PyPDF2.PdfFileReader(pdf_file)\n",
        "    with open(jsonl_file, 'w') as f:\n",
        "        for page_num in range(read_pdf.getNumPages()):\n",
        "            page = read_pdf.getPage(page_num)\n",
        "            page_content = page.extractText().encode('utf-8').decode(\"utf-8\") \n",
        "            f.write(json.dumps({\"_source\": {\"content\": page_content}, \"_id\": f\"p{page_num+1}\"}) + \"\\n\")"
      ],
      "execution_count": 0,
      "outputs": []
    },
    {
      "cell_type": "code",
      "metadata": {
        "id": "6a7HmsxQWQJ1",
        "colab_type": "code",
        "colab": {
          "base_uri": "https://localhost:8080/",
          "height": 207
        },
        "outputId": "683ab5de-5ee2-4c0b-ce2e-25be6dff8553"
      },
      "source": [
        "# let's take a look at the first few lines of the file\n",
        "!head nyc_docs.jsonl"
      ],
      "execution_count": 28,
      "outputs": [
        {
          "output_type": "stream",
          "text": [
            "{\"_source\": {\"content\": \"  THE CITY OF NEW YORK\\n OFFICE OF THE MAYOR\\n NEW YORK, NY 10007\\n  May \\n24, 2018  Dear \\nRequester\\n,  This letter is in\\n response to \\nprevious \\nrequest\\ns pursuant to the Freedom of Information Law \\nreceived\\n by this Office, seeking\\n generally\\n  Correspondence between \\nthe Office of the Mayor and \\nJonathan Rosen or \\nBerlinRosen.\\n  Due to the number of FOIL requests the Mayor\\u00d5s Office has received for similar \\ncommunications, as a courtesy the documents being disclosed to you today include materials that \\nare outside the scope\\n of your requests.\\n !The responsive records comprise four volumes of material:\\n A. Pages 3\\n-729: Material previously \\nwithheld in full or in part\\n pursuant to the inter\\n-agency \\nexemption \\n\\u00a487(2\\n)(g) within the time range. This volume also includes 73 pages of \\nmateria\\nl previously withheld in full pursuant to \\n\\u00a487(2\\n)(b).\\n  Range: January 1, 2014 to April 3, 2015.\\n B. Pages 730\\n-2844: Material previously \\nproduced\\n in full or in part, \\nor \\nwithheld\\n in full. \\n  Range: April 4, 2015 to Dec 31, 2016.\\n C. Pages 2845\\n-4016: Material responsive \\nto requests not yet fulfilled, and thus not produced \\npreviously.\\n  Range: January 1, 2017 to Dec 31, 2017.\\n D. Pages 4017\\n-4247: Material sent to a large number of recipients.\\n  Range:\\n April 4, 2015 to Dec 31, 2016\\n  Please note that some responsive material \\nis redacted in part pursuant to Public Officers Law \\n\\u00a487(2\\n)(b). \\nSome \\nschedules\\n have been redacted pursuant to \\nPublic Officers Law \\u00a487(2)\\n(b); t\\nhese \\nredactions consist of \\npersonal appointments\\n or \\nprivate\\n information\\n. Please also note that some \\nresponsive materia\\nl has been redacted in part pursuant to \\n\\u00a487(2\\n)(f). \\n  \"}, \"_id\": \"p1\"}\n",
            "{\"_source\": {\"content\": \"Additionally, attached at the end of the materials provided, \\nyou will find a table containing the \\nidentities of those whose personal email addresses were redacted \\npursuant to Public Officers \\nLaw \\u00a487(2)(\\nb), effectively concealing the identities of the senders and/or recipients. Please note \\nthat the Mayor\\u00d5s Office is not aware of all identities of email recipients and senders. Those email \\nsenders and recipients who could not be identified are marked as \\u00d2Unk\\nnown\\u00d3 on the attached \\ntable. \\n  You may appeal the determination with regard to this production in writing within thirty days by \\naddressing such an appeal to \\nfoilappeal@cityhall.nyc.gov\\n.   Sincerely,\\n   Jimmy Pan\\n Associate Counsel\\n  \"}, \"_id\": \"p2\"}\n",
            "{\"_source\": {\"content\": \"From:Walzak, Phil\\nTo:\\\"Jonathan@berlinrosen.com\\\"; \\\" \\\"dan@berlinrosen.com\\\"; \\\"emma@berlinrosen.com\\\";\\\"Rabinowitz@berlinrosen.com\\\"Subject:FW: Re:Hi\\nDate:Tuesday, January 07, 2014 6:43:07 PM\\nAnything we can do here / want to do?\\n-----Original Message-----\\nFrom: Henry Goldman (BLOOMBERG/ NEWSROOM:) [\\nmailto:hgoldman@bloomberg.net]Sent: Tuesday, January 07, 2014 5:47 PM\\nTo: Walzak, Phil\\nSubject: Re:Hi\\nI've got my first request: Can you help me talk to Harvey Weinstein and/or Gwyneth Paltrow about their\\nsupport for UPKNYC? Thanks, H\\n----- Original Message -----\\nFrom: PWalzak@cityhall.nyc.gov\\nTo: Henry Goldman (BLOOMBERG/ NEWSROOM:)\\nAt: Jan\\n  7 2014 15:55:30\\n\"}, \"_id\": \"p3\"}\n",
            "{\"_source\": {\"content\": \"From: Jonathan Rosen To: Subject: Date: \\u00a5\\u00a5\\u00a5\\u00a5\\u00a5\\u00a5\\u00a5 Ragone. Peter RE: BLOOMBERG -Kanas Says De Blasia's Higher Taxes Won't Damage NYC Friday, January 10, 2014 12:43:07 PM Former head of Northfork Bank, now head of BankUnited. Ross has him on your list for next week. From: Bill de Blasio [ Sent: Friday, January 10, To: Peter Ragone Cc: Jonathan Rosen Subject: Re: BLOOMBERG -Kanas Says De Blasio's Higher Taxes Won't Damage NYC Who is this g\\nuy??? I like him! S\\nhould I call to thank and to involve him??? Sent via BlackBeny by AT&T From: \\\"Ragone, Peter\\\" <pragone@cityhaJJ nyc goy> Date: \\u00e1 10 Jan 2014 16:13:06 +0000 To: From: DeBlasio Clips [mailto:clips@transition2013.com] Sent: Friday, January 10, 2014 11:08 AM Taxes Won't Damage NYC Subject: BLOOMBERG-Kanas Says DeBlasio's Higher Taxes Won't Damage NYC Kanas Says DeBlasio's Higher Taxes Won't Damage NYC BLOOMBERG -Elizabeth Dexheimer http'ilwww bloomberg com/news/201 4-01-09/kanas-says-de-blasjo-s-higher-taxes-won-t-damage-nyc btml New York City's richest residents may have to meet Mayor Bill De Blasia's demand for higher taxes to fund early-childhood education programs, said BankUnited (BKU) Inc. Chief Executive Officer John Kanas. \\\"If wealthy New Yorkers have to kick in a little bit of m\\noney so that young people can go to school early, so that their parents can go to work--not so bad, right?\\\" Kanas said today in an interview with Betty Liu on Bloomberg Television. The new mayor h\\nas vowed to raise taxes on the wealthy to finance pre-kindergmien care, and Kanas said De Blasia, 52, will reach his goal in ways that don't \\\"kill the golden goose\\\" of the city's business commlmity. \\\"He will fmd his way to satisfy both sides,\\\" Kanas said. De Blasia's five-year plan would generate $530 lnillion aimually by raising taxes on income above $500,000 a yem\\u00e1 to 4.4 percent from almost 3.9 percent. For the 27,300 city taxpayers eaming $500,000 to $1 million, the average increase would be $973 a year, according to the Independent Budget Office, a municipal agency. \"}, \"_id\": \"p4\"}\n",
            "{\"_source\": {\"content\": \"Kanas, 67, has run lenders in the New York region before including North Fork Bancorp andhas opened branches of Florida-based\\n BankUnited in Manhattan. Kanas, who received $3million in salary and bonus for 2012, said his primary home is on Long Island. Residents ofthe suburban community aren\\u00d5t subject to the city\\u00d5s income tax. Billionaire Backers BankUnited is backed by billionaire investor Wilbur Ross and private-equity\\n firm BlackstoneGroup LP, whose chairman, Steve Schwarzman, is also a billionaire. The bank was among U.S. lenders that failed under previous managers during the housing-\\nmarket collapse, prompting regulators to seize its operations and sell most of them in 2009 toa group of private-equity\\n investors. Kanas has been expanding Miami Lakes-based\\n BankUnited after attempts to sell the firmfailed to draw any bids that met the board\\u00d5s expectations. While the company is looking attakeovers of other firms, Kanas said he hasn\\u00d5t done any deals because of \\u00d2lofty\\u00d3 valuations. \\u00d2We are interviewing and discussing with people every week, every day, any acquisitionopportunity that might make sense for us,\\u00d3 he said. \\u00d2But so far our own performanceoutstrips anything that we could see.\\u00d3 \"}, \"_id\": \"p5\"}\n",
            "{\"_source\": {\"content\": \"From: To: Subject: Date: Morning, Klein, Monica \\u00a5\\u00a5\\u00a5\\u00a5\\u00a5\\u00a5\\u00a5 Emma Wolfe; jonathan@bertinrosen.com request from bdb re: Jeff Klein & UPK Monday, January 13, 2014 9:45:43 AM BdB would like to discuss article below Thx, Monica Rejecting NYC's pre-K tax proposal could lead to statewide feud over taxes DAILY NEWS-Kenneth Lovett http://www.nydailynews.com/new-york/rejecti ng-nyc-pre-k-tax -proposal-lead-tax-feud-article-1.1577330 ALBANY-The co-leader of the state Senate is hinting that dozens of requests from municipalities could be in jeopardy if the Legislature rejects Mayor de Blasia's push to raise the city income tax on the wealthy to pay for a pre-K expansion. Under what is known as a home rule process, a municipality requests permission from the state to raise certain local taxes or take other actions.Typically, lawmakers acquiesce to the locals and the requests sail through. Over the past three years, 314 home rule b\\nills were passed by the Legislature and signed into law by the governor, aides to Jeffrey Klein (D-Bronx) say. \\\"We cannot and must not have a double standard when it comes to home rule legislation like Mayor de Blasia's universal pre-K p\\nlan,\\\" Klein told the Daily News. \\\"Either we empower cities and counties to set their own destiny, or we rethink this entire process.\\\" Klein made his comments after Senate Republican Leader Dean Skelos said last week that de Blasia hasn't yet made a compelling case for a city income tax hike. As co-leaders of the Senate, Klein and Skelos (R-Nassau County) each have the power to block legislation from coming to the floor for a vote. The Senate passed 138 home rule messages last year alone. Rejecting de Blasia's plan -assuming as expected the City Council officially asks for it to be passed -could cause city lawmakers to retaliate by voting against other home rule actions sought by suburban and upstate communities -if they are allowed to reach the f\\nloor for a vote at all, insiders say. In supporting de Blasia's plan, Klein said h\\niking the city income tax on those earning at least $500,000 will ensure a future funding stream for city prekindergarten programs and \\\"will guarantee 50,000 4-year-olds the opportunity to enroll in this life changing program.\\\" Told of Klein's comments, a Skelos spokesman said only that \\\"we look forward to working with our partner, \"}, \"_id\": \"p6\"}\n",
            "{\"_source\": {\"content\": \"!\\\"##$%&\\\"'()$*($+,'-$'--.\\\"/0\\n1--\\\"23&4$56\\\"78\\\"9$5,\\\"&:*($5'&;\\\"9$7(:$,'-$<\\\"2*=97+'=$=*(#\\\"9\\\"(=\\\"$-.66*9+$+,\\\"$274*9>-$9\\\"?.\\\"-+$#*9$7$+7@$\\n,'8\\\")$3.+$58\\\"&*-$7(:$A*;/$B.*2*$,7;\\\"$3\\\"\\\"($=**&$+*$+,\\\"$':\\\"7/\\n\"}, \"_id\": \"p7\"}\n",
            "{\"_source\": {\"content\": \"From: Jonathan Rosen To: Cc: Ragone. Peter; Wolfe. Emma Subject: Re: CRAIN\\\"S: Mayor vs. Governor Monday, January 13, 2014 9:37:24 PM Date: -will yell at Hawkins re retro pay. It's unsourced nonsense and have seen it nowhere else. Do not think it has any currency. -re pundits defining our success: will the George Arzt's a\\nnd Richard Brodsky's say inane shit if we come up short-probably -but I feel like the three scenarios we laid out last night are the only way to play and see almost no circumstance where we don't achieve some level of historic expansion of prek and after school. -new rule: all clips where Richard Brodsky is t\\nhe lead analysis quote should be disregarded as a matter of course. It's like stories where Hank Sheinkopf is t\\nhe only quote. Sent from my iPhone On Jan 13, 2014, at 7:41 PM, \\\"Bill de Blasia\\\" wrote: Lord knows I don't pray at brodsky's alter, but I am concerned whether people will actually believe we have failed with a Year One tax increase. I personally don't believe they will if we achieve enough other elements of our agenda AND if we get the tax done by the following year. And when did the elite decide we we\\nre indirectly financing retro pay with our tax increase? That's totally false. How she we dispel that rumor? Sent via BlackBerry by AT&T From: De Blasia Clips <clips@transition2013.com> Sender: bdbclips@googlegroups.com Date: Man, 13 Jan 2014 19:02:10 -0500 To: Bdbclips@googlegroups.com < Bdbclips@googlegroups.com > Subject: CRAIN'S: Mayor vs. Governor Mayor vs. Governor CRAIN'S NY-Andrew J. Hawkins http://www.crainsnewyork.com/article/20140112/POLITICS/301129994 Mayor Bill de Blasia wants to tax the rich. Gov. Andrew Cuomo wants to give them a tax cut. The mayor just won a landslide victory and has political capital to spend, while the governor enjoys broad popular support and is aiming for a historic re-election in November. With the elements for a classic political fight in place, the two Democrats will need to reach a compromise on taxes between now and the April 1 state budget deadline. And Mr. Cuomo appears to have the upper hand: \"}, \"_id\": \"p8\"}\n",
            "{\"_source\": {\"content\": \"The city depends on Albany for billions in state aid each year, as well as\\nto set income-tax rates. With that leverage, Mr. Cuomo can pressure Mr.\\nde Blasio to ease off his populist message and accept whatever can be\\nsqueezed out of the budget for universal prekindergarten, the mayor's\\nsignature campaign proposal.\\n\\\"Mayor de Blasio won't be able to unilaterally raise taxes in New York City\\non high-income earners,\\\" said Heather Briccetti, president and CEO of\\nthe Business Council of New York State, which supports tax cuts proposed\\nby Mr. Cuomo. \\\"He'll need the agreement of the Legislature and the\\ngovernor, which means he'll need some kind of deal if he wants to get\\nthat done. And I just don't see it happening.\\\"\\nBut Mr. de Blasio has cards to play. Both Assembly Speaker Sheldon\\nSilver and state Senate co-leader Jeffrey Klein support the tax hike for\\npre-K, and the governor needs the votes they control to get his own\\nagenda passed. Moreover, polls show pre-K is a hit with voters; the\\ngovernor himself now wants it statewide.\\nMr. de Blasio does have to fight the perception among the governor's\\ninner circle that he wants to tax the rich not to fund pre-K but to free up\\ncity money to give unionized workers retroactive raises.\\nContributing to this impression is the alignment of most of the city's\\nunions behind Mr. de Blasio. Last Monday in Harlem, union chiefs\\nrepresenting teachers, hotel employees, health care aides and\\nconstruction workers, among others, stood with the mayor to voice\\nsupport for his tax plan. There was no mention of the pay raises that\\nmunicipal unions expect from Mr. de Blasio.\\nOpen for negotiation\\nNor were details given on how the campaign for a pre-K tax would\\nproceed, but Vincent Alvarez, president of the New York City Central\\nLabor Council and the New York chapter of the AFL-CIO, didn't discount\\nthe possibility of withholding union endorsements from officials who\\noppose the tax hike, including Mr. Cuomo.\\nTwo days later, the governor embraced universal pre-K in his State of the\\nState speech but said nothing of the mayor's tax-the-rich scheme, nor of\\nMr. de Blasio himself. Mr. Cuomo's office said that protocol was followed,\\nand Mr. de Blasio said he wasn't offended.\\nBy voicing support for universal pre-K, Mr. Cuomo left daylight for\\nnegotiation with Mr. de Blasio and his legislative allies. A resolution would\\npreserve the governor's reputation as a competent manager who ended\\nAlbany's dysfunction, an image important for his re-election bid and\\npotential presidential campaign in 2016.\\nMr. de Blasio may have even more at stake. Taxing the rich was a focus\\nof his campaign, and it reinvigorated liberals, who have since made him\\ntheir national poster child. Universal pre-K without the tax increase would\\nmean average New Yorkers would pay for it, dimming the de Blasio star.\\n\"}, \"_id\": \"p9\"}\n",
            "{\"_source\": {\"content\": \"\\\"If Cuomo stiffs him,\\\" said former Assemblyman Richard Brodsky, \\\"I don't\\nknow how he gets through year one.\\\"\\nMr. Brodsky, a senior fellow at public-policy institute Demos, said the\\nfight on taxes will define the legislative session in Albany this spring.\\n\\\"It looks like de Blasio has the Legislature with him,\\\" he said. \\\"If that's\\nthe case, there are votes in both houses to do what he wants. Is Cuomo\\ngoing to declare, 'I did my best'? It's possible. But it's not likely.\\\"\\nThe governor has wriggled out of political boxes before. Two years ago,\\nhaving pledged no tax increases but facing a budget deficit, Mr. Cuomo\\ndeftly passed off a $2 billion tax increase as a reduction by extending a\\n\\\"millionaire's tax\\\" just before it expired while cutting middle-class tax\\nrates. Last year, he and the Legislature quietly extended the surcharge\\non high earners through 2017. The governor has since been vocal about\\nnot revisiting income taxes, arguing that increases on the wealthy will\\nsend them fleeing to low-tax states.\\nTwo-front battle\\nThe tax debate will play out on two fronts. City and state officials will\\nstart hashing out their differences behind closed doors, with Mr. de Blasio\\nlikely to deploy his new budget director, Dean Fuleihan, who for years\\nwas Mr. Silver's chief policy adviser and knows Albany intimately.\\nMeanwhile, Mr. de Blasio, organized labor and the Working Families Party\\nwill take their tax-the-rich message to the public in districts of key state\\nlawmakers to build momentum for their cause. The playbook will be\\nfamiliar: rallies, door-knocking, phone-banking and possibly TV and radio\\nads.The WFP recently joined with other left-leaning groups to create People\\nfor New York, modeled in part on a past adversary, the Committee to\\nSave New York, a former business alliance that advertised in support of\\nthe governor's fiscally conservative agenda.\\nAs one source who has worked on past campaigns with the Democratic-\\noperative-turned-mayor put it, Mr. de Blasio \\\"is a big believer in the\\noutside game.\\\"\\n-- You received this message because you are subscribed to the Google\\nGroups \\\"de Blasio Clips\\\" group.\\nTo unsubscribe from this group and stop receiving emails from it, send\\nan email to \\nbdbclips+unsubscribe@googlegroups.com.For more options, visit \\nhttps://groups.google.com/groups/opt_out.\"}, \"_id\": \"p10\"}\n"
          ],
          "name": "stdout"
        }
      ]
    },
    {
      "cell_type": "markdown",
      "metadata": {
        "id": "3FmFPqr6WQJ3",
        "colab_type": "text"
      },
      "source": [
        "Each line in the JSON file now represents a single page in the original document. So now we'll step through each line (aka page) and grab all the entities in the text. Then we'll print out all the entities."
      ]
    },
    {
      "cell_type": "markdown",
      "metadata": {
        "id": "rdJXv7CmWQJ4",
        "colab_type": "text"
      },
      "source": [
        "## Finding and listing the names"
      ]
    },
    {
      "cell_type": "code",
      "metadata": {
        "id": "r7uiWcrAWQJ4",
        "colab_type": "code",
        "colab": {}
      },
      "source": [
        "with open(jsonl_file, 'r') as f:        # open the jsonl file\n",
        "    for line in f:                      # loop through each line ...\n",
        "        line = json.loads(line)            # read the line \n",
        "        text = line[\"_source\"][\"content\"]  # grab the text of the email\n",
        "        page_number = line[\"_id\"]          # grab the page number we're on\n",
        "        doc = nlp(text)                    # load the text into the nlp model\n",
        "        for ent in doc.ents:               # loop through each entity in the text...\n",
        "            if (ent.label_ == \"PERSON\"):      # if the entity is a person's name ...\n",
        "                print(page_number, ent.text)  # print the page number and the name"
      ],
      "execution_count": 0,
      "outputs": []
    },
    {
      "cell_type": "markdown",
      "metadata": {
        "id": "BurmkaisWQJ7",
        "colab_type": "text"
      },
      "source": [
        "Really we want a list of _names_ not pages, right?"
      ]
    },
    {
      "cell_type": "code",
      "metadata": {
        "id": "vjiI_VNEWQJ8",
        "colab_type": "code",
        "colab": {}
      },
      "source": [
        "list_of_names = {}\n",
        "\n",
        "with open(jsonl_file, 'r') as f:\n",
        "    for line in f:\n",
        "        line = json.loads(line)\n",
        "        text = line[\"_source\"][\"content\"]\n",
        "        page_number = line[\"_id\"]\n",
        "        doc = nlp(text)\n",
        "        \n",
        "        # loop through the entities in the page\n",
        "        for ent in doc.ents:\n",
        "            \n",
        "            # is the entity is a person ...\n",
        "            if (ent.label_ == \"PERSON\"):\n",
        "                \n",
        "                # check if we already have this entity\n",
        "                if ent.text in list_of_names:\n",
        "                    \n",
        "                    # add this page to the entity's list of pages\n",
        "                    list_of_names[ent.text] += \" \" + page_number\n",
        "                    \n",
        "                else:\n",
        "                    \n",
        "                    # otheriwise start a list of pages\n",
        "                    list_of_names[ent.text] = page_number"
      ],
      "execution_count": 0,
      "outputs": []
    },
    {
      "cell_type": "code",
      "metadata": {
        "id": "deqvRvEAWQJ_",
        "colab_type": "code",
        "colab": {}
      },
      "source": [
        "list_of_names"
      ],
      "execution_count": 0,
      "outputs": []
    },
    {
      "cell_type": "code",
      "metadata": {
        "id": "t7dv_4MCWQKC",
        "colab_type": "code",
        "colab": {}
      },
      "source": [
        "for name, pages in sorted(list_of_names.items()):\n",
        "    print(name, \"(\" + pages + \")\" )"
      ],
      "execution_count": 0,
      "outputs": []
    },
    {
      "cell_type": "markdown",
      "metadata": {
        "collapsed": true,
        "id": "GFtrvBxTWQKF",
        "colab_type": "text"
      },
      "source": [
        "Once you know a name is _there_ then you can search for it [in the original document](https://qz-aistudio-public.s3.amazonaws.com/workshops/2018.05.24_BerlinRosen_Responsive_Records_100pgs.pdf)."
      ]
    },
    {
      "cell_type": "code",
      "metadata": {
        "id": "fyOwSfShWQKF",
        "colab_type": "code",
        "colab": {}
      },
      "source": [
        ""
      ],
      "execution_count": 0,
      "outputs": []
    }
  ]
}