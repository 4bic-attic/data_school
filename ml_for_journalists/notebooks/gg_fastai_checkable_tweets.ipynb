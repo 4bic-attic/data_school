{
  "nbformat": 4,
  "nbformat_minor": 0,
  "metadata": {
    "accelerator": "GPU",
    "colab": {
      "name": "gg-quarttz-fastai-checkable-tweets.ipynb",
      "provenance": [],
      "collapsed_sections": [],
      "toc_visible": true
    },
    "kernelspec": {
      "name": "python3",
      "display_name": "Python 3"
    },
    "language_info": {
      "codemirror_mode": {
        "name": "ipython",
        "version": 3
      },
      "file_extension": ".py",
      "mimetype": "text/x-python",
      "name": "python",
      "nbconvert_exporter": "python",
      "pygments_lexer": "ipython3",
      "version": "3.6.1"
    }
  },
  "cells": [
    {
      "cell_type": "markdown",
      "metadata": {
        "colab_type": "text",
        "id": "Q2FtGCN6bVsg"
      },
      "source": [
        "# Finding Fact-checkable Tweets with Machine Learning\n"
      ]
    },
    {
      "cell_type": "markdown",
      "metadata": {
        "id": "1Wh0mKwhfOpI",
        "colab_type": "text"
      },
      "source": [
        "## Overview\n",
        "\n",
        "Our challenge is to find out which tweets with the hashtag `#txlege` are **checkable statements of fact**.\n",
        "\n",
        "Take a look at the [kinds of tweets in question](https://twitter.com/search?q=%23txlege&src=typed_query).\n",
        "\n",
        "Recognizing \"fact-checkability\" seems like it might be a uniquely human skill. But we can make a machine-learning mmodel that does it pretty well.\n",
        "\n",
        "### First, the language model\n",
        "\n",
        "We'll get into the details below, but here's our two-step process for this project:\n",
        "\n",
        "First, we need a model trained to recognize the patterns of English. For that, we'd need some huge dataset of English-language text. Fortunately, someone has already done that for us! We'll be using a model trained on thousands of long Wikipedia articles. It's called [wikitext-103](https://einstein.ai/research/blog/the-wikitext-long-term-dependency-language-modeling-dataset).\n",
        "\n",
        "We'll then use _transfer learning_ (like we did in for the helicopter maps) to further train wikitext-103 on our particular corpus: several thousand #txlege tweets. So we benefit from it's training on both English-language articles _and_ #txlege tweets.\n",
        "\n",
        "That will give us a **language model** that's good at detecting patterns in #txlege tweets.\n",
        "\n",
        "\n",
        "### Second, the classification model\n",
        "\n",
        "Next we need a model that will sort -- aka _classify_ -- tweets into \"fact-checkable\" and \"not fact-checkable.\" This will combine the patern-recognition embedded in the language model and examples of both kinds of tweets to make a predition on which class _new_ tweets belong to. This is our **classification model**.\n",
        "\n",
        "\n",
        "## The Plan\n",
        "\n",
        "Here's what we're going to do:\n",
        "\n",
        "- Grab files with a bunch of tweets\n",
        "- Make a **language model** from a model pretrained on Wikipedia _plus_ all the tweets as we have\n",
        "- Make a **classification model** to predict whether a given tweet is checkable or not, using tweets that were hand-labeled by folks at the Austin American-Statesman.\n",
        "- Use that classification model to predict the checkability of unseen tweets."
      ]
    },
    {
      "cell_type": "markdown",
      "metadata": {
        "id": "aKFoE-nufOpK",
        "colab_type": "text"
      },
      "source": [
        "## Credits\n",
        "\n",
        "This notebook was based on one originally created by Jeremy Howard and the other folks at [fast.ai](https://fast.ai) as part of [this fantastic class](https://course.fast.ai/). Specifically, it comes from Lesson 4. You can [see the lession video](https://course.fast.ai/videos/?lesson=4) and [the original class notebook](https://github.com/fastai/course-v3/blob/master/nbs/dl1/lesson3-imdb.ipynb). \n",
        "\n",
        "The idea for the project came from Dan Keemahill at the Austin American-Statesman newspaper. Dan, Madlin Mekelburg, and others at the paper hand-coded the tweets used for the classificaiton training.\n",
        "\n",
        "For more information about this project, and details about how to use this work in the wild, check out our [Quartz AI Studio blog post about the checkable-tweets project](https://qz.ai/?p=89).\n",
        "\n",
        "-- John Keefe, [Quartz](https://qz.com), October 2019"
      ]
    },
    {
      "cell_type": "markdown",
      "metadata": {
        "id": "gkNVz1tmfOpL",
        "colab_type": "text"
      },
      "source": [
        "## Setup"
      ]
    },
    {
      "cell_type": "markdown",
      "metadata": {
        "id": "yipSer4bfOpN",
        "colab_type": "text"
      },
      "source": [
        "### For those using Google Colaboratory ...\n",
        "\n",
        "Be aware that Google Colab instances are ephemeral -- they vanish *Poof* when you close them, or after a period of sitting idle (currently 90 minutes), or if you use one for more than 12 hours.\n",
        "\n",
        "If you're using Google Colaboratory, be sure to set your runtime to \"GPU\" which speeds up your notebook for machine learning:\n",
        "\n",
        "![change runtime](https://qz-aistudio-public.s3.amazonaws.com/workshops/notebook_images/change_runtime_2.jpg)\n",
        "![pick gpu](https://qz-aistudio-public.s3.amazonaws.com/workshops/notebook_images/pick_gpu_2.jpg)\n",
        "\n",
        "Then run this cell:"
      ]
    },
    {
      "cell_type": "code",
      "metadata": {
        "id": "4fG3Pm9NfOpP",
        "colab_type": "code",
        "colab": {
          "base_uri": "https://localhost:8080/",
          "height": 51
        },
        "outputId": "611fdf14-18be-4545-f462-61bee3177dd5"
      },
      "source": [
        "## ALL GOOGLE COLAB USERS RUN THIS CELL\n",
        "\n",
        "## This runs a script that installs fast.ai\n",
        "!curl -s https://course.fast.ai/setup/colab | bash"
      ],
      "execution_count": 1,
      "outputs": [
        {
          "output_type": "stream",
          "text": [
            "Updating fastai...\n",
            "Done.\n"
          ],
          "name": "stdout"
        }
      ]
    },
    {
      "cell_type": "markdown",
      "metadata": {
        "id": "9vAXYis_fOpU",
        "colab_type": "text"
      },
      "source": [
        "### For those _not_ using Google Colaboratory ...\n",
        "\n",
        "This section is just for people who decide to use one of the notebooks on a system other than Google Colaboartory. \n",
        "\n",
        "Those people should run the cell below."
      ]
    },
    {
      "cell_type": "code",
      "metadata": {
        "id": "JcyO3ThufOpV",
        "colab_type": "code",
        "colab": {}
      },
      "source": [
        "## NON-COLABORATORY USERS SHOULD RUN THIS CELL\n",
        "%reload_ext autoreload\n",
        "%autoreload 2\n",
        "%matplotlib inline"
      ],
      "execution_count": 0,
      "outputs": []
    },
    {
      "cell_type": "markdown",
      "metadata": {
        "id": "TURqWbyxfOpZ",
        "colab_type": "text"
      },
      "source": [
        "### Everybody do this ..."
      ]
    },
    {
      "cell_type": "markdown",
      "metadata": {
        "id": "p-UyChf5fOpc",
        "colab_type": "text"
      },
      "source": [
        "Everyone needs to run the next cell, which initializes the Python libraries we'll use in this notebook."
      ]
    },
    {
      "cell_type": "code",
      "metadata": {
        "id": "Y1-1_9rNfOpe",
        "colab_type": "code",
        "colab": {
          "base_uri": "https://localhost:8080/",
          "height": 51
        },
        "outputId": "1b501268-c6b9-4788-c2eb-c0e23ec73593"
      },
      "source": [
        "## AND *EVERYBODY* SHOULD RUN THIS CELL\n",
        "import warnings\n",
        "warnings.filterwarnings('ignore')\n",
        "from fastai.text import *\n",
        "import fastai\n",
        "print(f'fastai: {fastai.__version__}')\n",
        "print(f'cuda: {torch.cuda.is_available()}')"
      ],
      "execution_count": 2,
      "outputs": [
        {
          "output_type": "stream",
          "text": [
            "fastai: 1.0.59\n",
            "cuda: True\n"
          ],
          "name": "stdout"
        }
      ]
    },
    {
      "cell_type": "markdown",
      "metadata": {
        "id": "TUlMUMgYfOpi",
        "colab_type": "text"
      },
      "source": [
        "## The Data"
      ]
    },
    {
      "cell_type": "markdown",
      "metadata": {
        "id": "iGIwkfXffOpj",
        "colab_type": "text"
      },
      "source": [
        "We're going to be using two sets of tweets for this project:\n",
        "\n",
        "- A CSV (comma-separated values file) containing a bunch of #txlege tweets\n",
        "- A CSV of #txlege tweets that have been hand-coded as \"fact-checkable\" or \"not fact-checkable\"\n"
      ]
    },
    {
      "cell_type": "markdown",
      "metadata": {
        "id": "aE2OnH_JhVJW",
        "colab_type": "text"
      },
      "source": [
        "**Mount Drive** to work from ml_journalists"
      ]
    },
    {
      "cell_type": "code",
      "metadata": {
        "id": "vCDj04kyhfWU",
        "colab_type": "code",
        "colab": {}
      },
      "source": [
        "from google.colab import drive\n",
        "drive.mount('/content/drive')"
      ],
      "execution_count": 0,
      "outputs": []
    },
    {
      "cell_type": "code",
      "metadata": {
        "id": "fd-tFTHzhfiB",
        "colab_type": "code",
        "colab": {
          "base_uri": "https://localhost:8080/",
          "height": 34
        },
        "outputId": "460be77a-17ec-4d56-ac9c-e34f763cd66a"
      },
      "source": [
        "%cd /content/drive/'My Drive'/Colab_Notebooks/ml_journalists\n"
      ],
      "execution_count": 4,
      "outputs": [
        {
          "output_type": "stream",
          "text": [
            "/content/drive/My Drive/Colab_Notebooks/ml_journalists\n"
          ],
          "name": "stdout"
        }
      ]
    },
    {
      "cell_type": "code",
      "metadata": {
        "scrolled": true,
        "id": "Z3ro1KP0fOpj",
        "colab_type": "code",
        "colab": {
          "base_uri": "https://localhost:8080/",
          "height": 34
        },
        "outputId": "eb21ef77-9e58-4c19-ebd9-9239ac186cb7"
      },
      "source": [
        "# Run this cell to download the data we'll use for this exercise\n",
        "!wget -N https://qz-aistudio-public.s3.amazonaws.com/workshops/austin_tweet_data.zip --quiet\n",
        "!unzip -q austin_tweet_data.zip\n",
        "print('Done!')"
      ],
      "execution_count": 5,
      "outputs": [
        {
          "output_type": "stream",
          "text": [
            "Done!\n"
          ],
          "name": "stdout"
        }
      ]
    },
    {
      "cell_type": "markdown",
      "metadata": {
        "id": "OnYweBqMfOpm",
        "colab_type": "text"
      },
      "source": [
        "We now have a directory called `data` with two files of tweets. Let's take a look."
      ]
    },
    {
      "cell_type": "code",
      "metadata": {
        "id": "d0c-7mJsfOpn",
        "colab_type": "code",
        "colab": {
          "base_uri": "https://localhost:8080/",
          "height": 34
        },
        "outputId": "ce81c552-b67c-420a-9a03-f07509abe16e"
      },
      "source": [
        "%ls data/tweet_check/"
      ],
      "execution_count": 12,
      "outputs": [
        {
          "output_type": "stream",
          "text": [
            "hand_coded_austin_tweets.csv  tweet_corpus.txt\n"
          ],
          "name": "stdout"
        }
      ]
    },
    {
      "cell_type": "markdown",
      "metadata": {
        "colab_type": "text",
        "id": "9TPvnzypbVsq"
      },
      "source": [
        "### Take a peek at the tweet data"
      ]
    },
    {
      "cell_type": "markdown",
      "metadata": {
        "colab_type": "text",
        "id": "I21aOI9xbVsr"
      },
      "source": [
        "Working with Dan Keemahill and Madlin Mekelburg over a couple of weeks during the 2019 Texas state legislative session, I have have a set of 3,797 tweets humans at the Austin American-Statesman have determined are – or are not – statements that can be fact-checked. "
      ]
    },
    {
      "cell_type": "code",
      "metadata": {
        "colab_type": "code",
        "id": "kWwuVUg9QHo8",
        "colab": {
          "base_uri": "https://localhost:8080/",
          "height": 204
        },
        "outputId": "fa801712-59f7-436f-bb3e-50d2f5a71ccd"
      },
      "source": [
        "# Here I read the csv into a data frame I called `austin_tweets`\n",
        "# and take a look at the first few rows\n",
        "data_path = './data/tweet_check/'\n",
        "hand_coded_tweets = pd.read_csv(data_path + 'hand_coded_austin_tweets.csv')\n",
        "hand_coded_tweets.head()"
      ],
      "execution_count": 13,
      "outputs": [
        {
          "output_type": "execute_result",
          "data": {
            "text/html": [
              "<div>\n",
              "<style scoped>\n",
              "    .dataframe tbody tr th:only-of-type {\n",
              "        vertical-align: middle;\n",
              "    }\n",
              "\n",
              "    .dataframe tbody tr th {\n",
              "        vertical-align: top;\n",
              "    }\n",
              "\n",
              "    .dataframe thead th {\n",
              "        text-align: right;\n",
              "    }\n",
              "</style>\n",
              "<table border=\"1\" class=\"dataframe\">\n",
              "  <thead>\n",
              "    <tr style=\"text-align: right;\">\n",
              "      <th></th>\n",
              "      <th>tweet_text</th>\n",
              "      <th>checkable</th>\n",
              "    </tr>\n",
              "  </thead>\n",
              "  <tbody>\n",
              "    <tr>\n",
              "      <th>0</th>\n",
              "      <td>TOMORROW: Dallas Workers Head to TX Capitol to...</td>\n",
              "      <td>False</td>\n",
              "    </tr>\n",
              "    <tr>\n",
              "      <th>1</th>\n",
              "      <td>Texas House members told to stop secretly reco...</td>\n",
              "      <td>True</td>\n",
              "    </tr>\n",
              "    <tr>\n",
              "      <th>2</th>\n",
              "      <td>SB 1163 - Relating to establishing and funding...</td>\n",
              "      <td>False</td>\n",
              "    </tr>\n",
              "    <tr>\n",
              "      <th>3</th>\n",
              "      <td>Did you know that we’re carbon neutral* when i...</td>\n",
              "      <td>True</td>\n",
              "    </tr>\n",
              "    <tr>\n",
              "      <th>4</th>\n",
              "      <td>Check our this article on the Baylor sexual as...</td>\n",
              "      <td>False</td>\n",
              "    </tr>\n",
              "  </tbody>\n",
              "</table>\n",
              "</div>"
            ],
            "text/plain": [
              "                                          tweet_text  checkable\n",
              "0  TOMORROW: Dallas Workers Head to TX Capitol to...      False\n",
              "1  Texas House members told to stop secretly reco...       True\n",
              "2  SB 1163 - Relating to establishing and funding...      False\n",
              "3  Did you know that we’re carbon neutral* when i...       True\n",
              "4  Check our this article on the Baylor sexual as...      False"
            ]
          },
          "metadata": {
            "tags": []
          },
          "execution_count": 13
        }
      ]
    },
    {
      "cell_type": "markdown",
      "metadata": {
        "id": "B5-ZuCI7fOp0",
        "colab_type": "text"
      },
      "source": [
        "To train the language model, we want a bunch more examples of #txlege tweets. It doesn't matter that we didn't classify them as fact-checkable or not. The language model just needs _examples_ of the kinds of tweets it might see. \n",
        "\n",
        "So I used the website [IFTTT](https://ifttt.com) and Google Spreadsheets to collect several days worth of #txlege tweets. That's what's in the  `tweet_corpus.txt` file we looked at."
      ]
    },
    {
      "cell_type": "code",
      "metadata": {
        "colab_type": "code",
        "id": "18kBCGjhbVvQ",
        "colab": {
          "base_uri": "https://localhost:8080/",
          "height": 204
        },
        "outputId": "68b981bf-8336-44be-fc8c-0fc8cae13eea"
      },
      "source": [
        "# read in the corpus, which has one tweet per row,\n",
        "# and take a look at the first frew rows\n",
        "corpus_tweets = pd.read_csv(data_path + 'tweet_corpus.txt')\n",
        "corpus_tweets.head()"
      ],
      "execution_count": 14,
      "outputs": [
        {
          "output_type": "execute_result",
          "data": {
            "text/html": [
              "<div>\n",
              "<style scoped>\n",
              "    .dataframe tbody tr th:only-of-type {\n",
              "        vertical-align: middle;\n",
              "    }\n",
              "\n",
              "    .dataframe tbody tr th {\n",
              "        vertical-align: top;\n",
              "    }\n",
              "\n",
              "    .dataframe thead th {\n",
              "        text-align: right;\n",
              "    }\n",
              "</style>\n",
              "<table border=\"1\" class=\"dataframe\">\n",
              "  <thead>\n",
              "    <tr style=\"text-align: right;\">\n",
              "      <th></th>\n",
              "      <th>tweet_text</th>\n",
              "    </tr>\n",
              "  </thead>\n",
              "  <tbody>\n",
              "    <tr>\n",
              "      <th>0</th>\n",
              "      <td>State Rep. @CBellJr earned an F on this year's...</td>\n",
              "    </tr>\n",
              "    <tr>\n",
              "      <th>1</th>\n",
              "      <td>#txlege https://t.co/1qqa0sFEnY</td>\n",
              "    </tr>\n",
              "    <tr>\n",
              "      <th>2</th>\n",
              "      <td>ICYMI: @dallasnews editorial weighs in on the ...</td>\n",
              "    </tr>\n",
              "    <tr>\n",
              "      <th>3</th>\n",
              "      <td>My life is complete! #txlege #FlagDay #mindblo...</td>\n",
              "    </tr>\n",
              "    <tr>\n",
              "      <th>4</th>\n",
              "      <td>On June 14, 1777, our nation adopted the U.S. ...</td>\n",
              "    </tr>\n",
              "  </tbody>\n",
              "</table>\n",
              "</div>"
            ],
            "text/plain": [
              "                                          tweet_text\n",
              "0  State Rep. @CBellJr earned an F on this year's...\n",
              "1                    #txlege https://t.co/1qqa0sFEnY\n",
              "2  ICYMI: @dallasnews editorial weighs in on the ...\n",
              "3  My life is complete! #txlege #FlagDay #mindblo...\n",
              "4  On June 14, 1777, our nation adopted the U.S. ..."
            ]
          },
          "metadata": {
            "tags": []
          },
          "execution_count": 14
        }
      ]
    },
    {
      "cell_type": "markdown",
      "metadata": {
        "colab_type": "text",
        "id": "eym6ulq0bVuz"
      },
      "source": [
        "## Building the language model"
      ]
    },
    {
      "cell_type": "markdown",
      "metadata": {
        "colab_type": "text",
        "id": "62pxEwWPbVvI"
      },
      "source": [
        "First we need a model that 'understands' the rules of English, and ideally also recognizes patterns in our particular corpus, the `#txlege` tweets. This is the language model. \n",
        "\n",
        "We'll start with a language model pretrained on a thousands of Wikipedia articles called [wikitext-103](https://einstein.ai/research/blog/the-wikitext-long-term-dependency-language-modeling-dataset). That language model has been trained to guess the next word in a sentence based on all the previous words. It has a recurrent structure with a hidden state that is updated each time it sees a new word. This hidden state thus contains information about the sentence up to that point.\n",
        "\n",
        "For our project, we want to infuse the Wikitext model with our particular dataset – the #txlege tweets. Because the English of #txlege tweets isn't the same as the English of Wikipedia, we'll adjust the internal parameters of the model by a little bit. That includes adding words that might be extremely common in the tweets but would be barely present in wikipedia–and therefore might not be part of the vocabulary the model was trained on."
      ]
    },
    {
      "cell_type": "markdown",
      "metadata": {
        "colab_type": "text",
        "id": "FT0C6-vpbVvK"
      },
      "source": [
        "### Using all of our tweets for the language model\n",
        "\n",
        "We want as many tweets for the language model as possible to learn the patterns of #txlege tweets.\n",
        "\n",
        "We'll start with the text of the 3,797 \"hand-coded\" tweets (though for the language model, we ignore the checkable/not checkable part of that file).\n",
        "\n",
        "To that, we'll add the additional tweets I collected in `tweet_corpus.txt`. We'll mush those all into one big file of tweets."
      ]
    },
    {
      "cell_type": "code",
      "metadata": {
        "colab_type": "code",
        "id": "aQyQIh_vNhrH",
        "colab": {
          "base_uri": "https://localhost:8080/",
          "height": 68
        },
        "outputId": "b07e6b3a-ffe3-426d-ff96-2be5aa846be5"
      },
      "source": [
        "# here I concatenate the two tweet sets into one big set\n",
        "lm_tweets = pd.concat([hand_coded_tweets,corpus_tweets], sort=True)\n",
        "\n",
        "# as a sanity check, let's look at the size of each set, \n",
        "# and then the ontatenated set\n",
        "print('hand coded tweets:', len(hand_coded_tweets) )\n",
        "print('corpus of tweets:', len(corpus_tweets) )\n",
        "print('total tweets:', len(lm_tweets) )"
      ],
      "execution_count": 15,
      "outputs": [
        {
          "output_type": "stream",
          "text": [
            "hand coded tweets: 3797\n",
            "corpus of tweets: 3687\n",
            "total tweets: 7484\n"
          ],
          "name": "stdout"
        }
      ]
    },
    {
      "cell_type": "markdown",
      "metadata": {
        "colab_type": "text",
        "id": "g55U1v3mbVvm"
      },
      "source": [
        "Great: Now we have 7,485 tweets to use for the language model.\n",
        "\n",
        "One thing to note ... the first set had two columns, `checkable` and `tweet_text`, while the corpus had just one collumn,  `tweet_text`. The combined has the original two columns, though many of the entries will be `NaN` for \"not a number.\" Thats okay, because we're only going to use the `tweet_text` column for the language model.\n",
        "\n",
        "\n"
      ]
    },
    {
      "cell_type": "code",
      "metadata": {
        "colab_type": "code",
        "id": "pFp92p9NbVvs",
        "colab": {}
      },
      "source": [
        "# Saving as csv for easier reading in a moment\n",
        "lm_tweets.to_csv(data_path + 'lm_tweets.csv', index=False)"
      ],
      "execution_count": 0,
      "outputs": []
    },
    {
      "cell_type": "markdown",
      "metadata": {
        "colab_type": "text",
        "id": "3fU_R9lxbVv7"
      },
      "source": [
        "Fast.ai uses a concept called a \"[data bunch](https://docs.fast.ai/basic_data.html)\" to handle machine-learning data, which takes care of a lot of the more fickle machine-learning data preparation.\n",
        "\n",
        "We have to use a special kind of data bunch for the language model, one that ignores the labels, and will shuffle the texts at each epoch before concatenating them all together (only the training set gets shuffled; we don't shuffle for the validation set). It will also create batches that read the text in order with targets (aka the best guesses) that are the next word in the sentence.\n"
      ]
    },
    {
      "cell_type": "code",
      "metadata": {
        "colab_type": "code",
        "id": "C2rJuWVCbVv5",
        "colab": {
          "base_uri": "https://localhost:8080/",
          "height": 17
        },
        "outputId": "a3b04839-91aa-4aec-df19-9dc6fb6e2626"
      },
      "source": [
        "# Loading in data with the TextLMDataBunch factory class, using all the defaults\n",
        "data_lm = TextLMDataBunch.from_csv(data_path, 'lm_tweets.csv', text_cols='tweet_text', label_cols='checkable')\n",
        "data_lm.save('data_lm_tweets')"
      ],
      "execution_count": 17,
      "outputs": [
        {
          "output_type": "display_data",
          "data": {
            "text/html": [
              ""
            ],
            "text/plain": [
              "<IPython.core.display.HTML object>"
            ]
          },
          "metadata": {
            "tags": []
          }
        },
        {
          "output_type": "display_data",
          "data": {
            "text/html": [
              ""
            ],
            "text/plain": [
              "<IPython.core.display.HTML object>"
            ]
          },
          "metadata": {
            "tags": []
          }
        }
      ]
    },
    {
      "cell_type": "markdown",
      "metadata": {
        "colab_type": "text",
        "id": "rY0LkJCQbVwF"
      },
      "source": [
        "We can then put all of our tweets (now stored in `data_lm`) into a learner object along with the pretrained Wikitext model -- here called `AWD_LTSM`, which is downloaded the first time you'll execute the following line."
      ]
    },
    {
      "cell_type": "code",
      "metadata": {
        "colab_type": "code",
        "id": "EiiXrA6zbVwH",
        "colab": {
          "base_uri": "https://localhost:8080/",
          "height": 34
        },
        "outputId": "5329f62b-31d4-4210-9b3c-e35e56a9a66b"
      },
      "source": [
        "learn = language_model_learner(data_lm, AWD_LSTM, drop_mult=0.3)"
      ],
      "execution_count": 18,
      "outputs": [
        {
          "output_type": "stream",
          "text": [
            "Downloading https://s3.amazonaws.com/fast-ai-modelzoo/wt103-fwd\n"
          ],
          "name": "stdout"
        },
        {
          "output_type": "display_data",
          "data": {
            "text/html": [
              ""
            ],
            "text/plain": [
              "<IPython.core.display.HTML object>"
            ]
          },
          "metadata": {
            "tags": []
          }
        }
      ]
    },
    {
      "cell_type": "markdown",
      "metadata": {
        "colab_type": "text",
        "id": "RfAXUyLnOB_J"
      },
      "source": [
        "One of the most important settings when we actually _train_ our model is the **learning rate**. I'm not going to dive into it here (though I encourage you to explore it), but will use a fast.ai tool to find the best learning rate to start with:"
      ]
    },
    {
      "cell_type": "code",
      "metadata": {
        "colab_type": "code",
        "id": "W7b-Z94dbVwL",
        "colab": {
          "base_uri": "https://localhost:8080/",
          "height": 34
        },
        "outputId": "7dcd0700-6494-460b-efe0-84b031a77f27"
      },
      "source": [
        "learn.lr_find()"
      ],
      "execution_count": 21,
      "outputs": [
        {
          "output_type": "display_data",
          "data": {
            "text/html": [
              ""
            ],
            "text/plain": [
              "<IPython.core.display.HTML object>"
            ]
          },
          "metadata": {
            "tags": []
          }
        },
        {
          "output_type": "stream",
          "text": [
            "LR Finder is complete, type {learner_name}.recorder.plot() to see the graph.\n"
          ],
          "name": "stdout"
        }
      ]
    },
    {
      "cell_type": "code",
      "metadata": {
        "colab_type": "code",
        "id": "Un204GpfbVwO",
        "colab": {
          "base_uri": "https://localhost:8080/",
          "height": 279
        },
        "outputId": "95f228e9-8f14-4139-babb-5412cdca7e84"
      },
      "source": [
        "learn.recorder.plot(skip_end=15)"
      ],
      "execution_count": 22,
      "outputs": [
        {
          "output_type": "display_data",
          "data": {
            "image/png": "[encoded data removed]",
            "text/plain": [
              "<Figure size 432x288 with 1 Axes>"
            ]
          },
          "metadata": {
            "tags": []
          }
        }
      ]
    },
    {
      "cell_type": "markdown",
      "metadata": {
        "colab_type": "text",
        "id": "td3D3mK8TtHa"
      },
      "source": [
        "This gives us a graph of the optimal learning rate ... which is the point where the graph really dives downward (`1e-02`). Again, there's much more on picking and learning rates in the fast.ai course."
      ]
    },
    {
      "cell_type": "markdown",
      "metadata": {
        "colab_type": "text",
        "id": "BQA3dZWPachE"
      },
      "source": [
        "Now we can train the Language Model. (Essentailly, we're training it to be good at guessing the *next word* in a sentence, given all of the previous words.)\n",
        "\n",
        "The variabales we're passing are `1` to just do one cycle of learning, the learning rate of `1e-2`, and some momentum settings we won't get into here -- but these are pretty safe. "
      ]
    },
    {
      "cell_type": "code",
      "metadata": {
        "colab_type": "code",
        "id": "pveLnA6kbVwQ",
        "colab": {
          "base_uri": "https://localhost:8080/",
          "height": 80
        },
        "outputId": "3a18dfd3-595c-4364-cbfe-e83a0e8d1974"
      },
      "source": [
        "learn.fit_one_cycle(1, 1e-2, moms=(0.8,0.7))"
      ],
      "execution_count": 23,
      "outputs": [
        {
          "output_type": "display_data",
          "data": {
            "text/html": [
              "<table border=\"1\" class=\"dataframe\">\n",
              "  <thead>\n",
              "    <tr style=\"text-align: left;\">\n",
              "      <th>epoch</th>\n",
              "      <th>train_loss</th>\n",
              "      <th>valid_loss</th>\n",
              "      <th>accuracy</th>\n",
              "      <th>time</th>\n",
              "    </tr>\n",
              "  </thead>\n",
              "  <tbody>\n",
              "    <tr>\n",
              "      <td>0</td>\n",
              "      <td>4.348460</td>\n",
              "      <td>3.639185</td>\n",
              "      <td>0.365896</td>\n",
              "      <td>00:06</td>\n",
              "    </tr>\n",
              "  </tbody>\n",
              "</table>"
            ],
            "text/plain": [
              "<IPython.core.display.HTML object>"
            ]
          },
          "metadata": {
            "tags": []
          }
        }
      ]
    },
    {
      "cell_type": "code",
      "metadata": {
        "colab_type": "code",
        "id": "o-dYIVFcbVwS",
        "colab": {
          "base_uri": "https://localhost:8080/",
          "height": 80
        },
        "outputId": "458a41a7-97b9-4c19-9209-bd30d2f7f7e9"
      },
      "source": [
        "learn.fit_one_cycle(1, 1e-1, moms=(0.8,0.7))\n"
      ],
      "execution_count": 24,
      "outputs": [
        {
          "output_type": "display_data",
          "data": {
            "text/html": [
              "<table border=\"1\" class=\"dataframe\">\n",
              "  <thead>\n",
              "    <tr style=\"text-align: left;\">\n",
              "      <th>epoch</th>\n",
              "      <th>train_loss</th>\n",
              "      <th>valid_loss</th>\n",
              "      <th>accuracy</th>\n",
              "      <th>time</th>\n",
              "    </tr>\n",
              "  </thead>\n",
              "  <tbody>\n",
              "    <tr>\n",
              "      <td>0</td>\n",
              "      <td>3.910030</td>\n",
              "      <td>3.591427</td>\n",
              "      <td>0.377471</td>\n",
              "      <td>00:06</td>\n",
              "    </tr>\n",
              "  </tbody>\n",
              "</table>"
            ],
            "text/plain": [
              "<IPython.core.display.HTML object>"
            ]
          },
          "metadata": {
            "tags": []
          }
        }
      ]
    },
    {
      "cell_type": "markdown",
      "metadata": {
        "colab_type": "text",
        "id": "M8kZOKSybVwX"
      },
      "source": [
        "To complete the fine-tuning, we \"unfreeze\" the original wikitext-103 language model and let our new training efforts work their way into the original neural network."
      ]
    },
    {
      "cell_type": "code",
      "metadata": {
        "colab_type": "code",
        "id": "kTfuNCuhbVwX",
        "colab": {
          "base_uri": "https://localhost:8080/",
          "height": 111
        },
        "outputId": "d78ce7cf-5733-4b71-eca7-1bcabe7e2dc9"
      },
      "source": [
        "# This takes a couple of minutes!\n",
        "learn.unfreeze()\n",
        "learn.fit_one_cycle(2, 1e-3, moms=(0.8,0.7))"
      ],
      "execution_count": 25,
      "outputs": [
        {
          "output_type": "display_data",
          "data": {
            "text/html": [
              "<table border=\"1\" class=\"dataframe\">\n",
              "  <thead>\n",
              "    <tr style=\"text-align: left;\">\n",
              "      <th>epoch</th>\n",
              "      <th>train_loss</th>\n",
              "      <th>valid_loss</th>\n",
              "      <th>accuracy</th>\n",
              "      <th>time</th>\n",
              "    </tr>\n",
              "  </thead>\n",
              "  <tbody>\n",
              "    <tr>\n",
              "      <td>0</td>\n",
              "      <td>3.140238</td>\n",
              "      <td>3.422994</td>\n",
              "      <td>0.399713</td>\n",
              "      <td>00:07</td>\n",
              "    </tr>\n",
              "    <tr>\n",
              "      <td>1</td>\n",
              "      <td>2.897008</td>\n",
              "      <td>3.417143</td>\n",
              "      <td>0.403045</td>\n",
              "      <td>00:07</td>\n",
              "    </tr>\n",
              "  </tbody>\n",
              "</table>"
            ],
            "text/plain": [
              "<IPython.core.display.HTML object>"
            ]
          },
          "metadata": {
            "tags": []
          }
        }
      ]
    },
    {
      "cell_type": "markdown",
      "metadata": {
        "colab_type": "text",
        "id": "fv0mZuVhbVwd"
      },
      "source": [
        "While our accuracy may _seem_ low ... in this case it means the language model correctly guessed the next word in a sentence more than 1/3 of the time. That's pretty good! And we can see that even when it's wrong, it makes some pretty \"logical\" guesses. \n",
        "\n",
        "Let's give it a starting phrase and see how it does:\n"
      ]
    },
    {
      "cell_type": "code",
      "metadata": {
        "colab_type": "code",
        "id": "_Wws03kmbVwd",
        "colab": {
          "base_uri": "https://localhost:8080/",
          "height": 122
        },
        "outputId": "fc10ccda-a739-41c5-b385-93adc62b7c17"
      },
      "source": [
        "TEXT = \"I wonder if this\"\n",
        "N_WORDS = 40\n",
        "N_SENTENCES = 3\n",
        "\n",
        "print(\"\\n\\n\".join(learn.predict(TEXT, N_WORDS, temperature=0.75) for _ in range(N_SENTENCES)))"
      ],
      "execution_count": 26,
      "outputs": [
        {
          "output_type": "stream",
          "text": [
            "I wonder if this bill would wave the # txlege out of session . # txlege https : / / t.co / t xxbos Thank you # txlege & https : / / t.co / BHX0BZWXMP for supporting # schoolchoice , for\n",
            "\n",
            "I wonder if this might be a \" good day \" for the # txlege . The best thing is this morning . xxbos We 're still doing the # txlege unanimously ! Your members have a very safe list of\n",
            "\n",
            "I wonder if this bill was a perfect example of the crisis facing any Texas state . # txlege # flagday # txlege xxbos Thank you to Supreme Court ! https : / / t.co / RT 8kodmytzil :\n"
          ],
          "name": "stdout"
        }
      ]
    },
    {
      "cell_type": "markdown",
      "metadata": {
        "colab_type": "text",
        "id": "hj3aD0UebVwr"
      },
      "source": [
        "Remember, these are not real ... they were _generated_ by the model when it tried to guess each of the next words in the sentence! Generating text like this is not why we made the language model (though you can see where text-generation AI starts from!)\n",
        "\n",
        "Also note that the model is often crafting the response _in the form of a tweet!_\n",
        "\n",
        "We now save the model's encoder, which is the mathematical representation of what the language model \"understands\" about English patterns infused by our tweets."
      ]
    },
    {
      "cell_type": "code",
      "metadata": {
        "colab_type": "code",
        "id": "thkQAeQ2bVwr",
        "colab": {}
      },
      "source": [
        "learn.save_encoder('fine_tuned_enc')  "
      ],
      "execution_count": 0,
      "outputs": []
    },
    {
      "cell_type": "markdown",
      "metadata": {
        "colab_type": "text",
        "id": "zt6pDPEDbVww"
      },
      "source": [
        "## Building the classifier model\n",
        "\n",
        "This is the model that will use our langauge model **and** the hand-coded tweets to guess if new tweets are fact-checkable or not.\n",
        "\n",
        "We'll create a new data bunch that only grabs the hand-coded tweets and keeps track of the labels there (true or false, for fact-checkability). We also pass in the `vocab` -- which is the list of the most useful words from the language model."
      ]
    },
    {
      "cell_type": "code",
      "metadata": {
        "colab_type": "code",
        "id": "ntIAhZbbbVw1",
        "colab": {}
      },
      "source": [
        "data_clas = TextClasDataBunch.from_csv(data_path, 'hand_coded_austin_tweets.csv', vocab=data_lm.vocab, text_cols='tweet_text', label_cols='checkable')\n",
        "\n",
        "data_clas.save('data_clas_tweets')"
      ],
      "execution_count": 0,
      "outputs": []
    },
    {
      "cell_type": "markdown",
      "metadata": {
        "colab_type": "text",
        "id": "WCwf-DyEbVxA"
      },
      "source": [
        "We can then create a model to classify tweets. You can see that in the next two lines we include the processed, hand-coded tweets (`data_clas`), the original Wikitext model (`AWD_LSTM`), and the knowledge we saved after infusing the language model with tweets (`fine_tuned_enc`)."
      ]
    },
    {
      "cell_type": "code",
      "metadata": {
        "colab_type": "code",
        "id": "xlJKU0g3bVxA",
        "colab": {}
      },
      "source": [
        "learn = text_classifier_learner(data_clas, AWD_LSTM, drop_mult=0.5)\n",
        "learn.load_encoder('fine_tuned_enc');"
      ],
      "execution_count": 0,
      "outputs": []
    },
    {
      "cell_type": "markdown",
      "metadata": {
        "colab_type": "text",
        "id": "Az5OuN6_hJaF"
      },
      "source": [
        "With neural networks, there are lots of tweaks you can adjust — known as \"hyperparameters\" — such as learning rate and momentum. The fast.ai defaults are pretty great, and the tools it has for finding the learning rate are super useful. I'm going to skip those details here for now. There's more to learn at [qz.ai](https://qz.ai) or at the [this great fast.ai course](https://course.fast.ai/)."
      ]
    },
    {
      "cell_type": "code",
      "metadata": {
        "colab_type": "code",
        "id": "S5g2xmtlbVxJ",
        "colab": {}
      },
      "source": [
        "learn.fit_one_cycle(2, 1e-2, moms=(0.8,0.7))\n",
        "\n",
        "learn.freeze_to(-2)\n",
        "learn.fit_one_cycle(2, slice(1e-2/(2.6**4),1e-2), moms=(0.8,0.7))\n",
        "\n",
        "learn.freeze_to(-3)\n",
        "learn.fit_one_cycle(2, slice(5e-3/(2.6**4),5e-3), moms=(0.8,0.7))"
      ],
      "execution_count": 0,
      "outputs": []
    },
    {
      "cell_type": "markdown",
      "metadata": {
        "colab_type": "text",
        "id": "J-TSQ7iDTdIG"
      },
      "source": [
        "Let's give it an example ...."
      ]
    },
    {
      "cell_type": "code",
      "metadata": {
        "colab_type": "code",
        "id": "mBAXEa2MbVxa",
        "colab": {}
      },
      "source": [
        "example = \"Four states have two universities represented in the top 20 highest-paid executives of public colleges. Texas has SIX\"\n",
        "learn.predict(example)"
      ],
      "execution_count": 0,
      "outputs": []
    },
    {
      "cell_type": "markdown",
      "metadata": {
        "colab_type": "text",
        "id": "8u1ptJu1UmT9"
      },
      "source": [
        "`True` means checkable! "
      ]
    },
    {
      "cell_type": "markdown",
      "metadata": {
        "id": "4B5kih4IfOrF",
        "colab_type": "text"
      },
      "source": [
        "We can open the \"black box\" a little to see what words the model is keying into."
      ]
    },
    {
      "cell_type": "code",
      "metadata": {
        "id": "efExO50yfOrG",
        "colab_type": "code",
        "colab": {}
      },
      "source": [
        "interp = TextClassificationInterpretation.from_learner(learn) \n",
        "interp.show_intrinsic_attention(example)"
      ],
      "execution_count": 0,
      "outputs": []
    },
    {
      "cell_type": "markdown",
      "metadata": {
        "id": "kciiwJA0fOrL",
        "colab_type": "text"
      },
      "source": [
        "Let's save our work."
      ]
    },
    {
      "cell_type": "markdown",
      "metadata": {
        "colab_type": "text",
        "id": "XSOgwF1ybVyh"
      },
      "source": [
        "## Saving to Google Drive\n",
        "\n",
        "At present, your Google Colaboratory Notebook disappears when you close it — along with all of your data. If you'd like to save your model to your Google Drive, run the following cell and grant the permissions it requests."
      ]
    },
    {
      "cell_type": "code",
      "metadata": {
        "id": "1a1v0M5hfOrN",
        "colab_type": "code",
        "colab": {}
      },
      "source": [
        "from google.colab import drive\n",
        "drive.mount('/content/gdrive', force_remount=True)\n",
        "root_dir = \"/content/gdrive/My Drive/\"\n",
        "base_dir = root_dir + 'ai-workshop/checkable_tweet_models/'\n",
        "save_path = Path(base_dir)\n",
        "save_path.mkdir(parents=True, exist_ok=True)"
      ],
      "execution_count": 0,
      "outputs": []
    },
    {
      "cell_type": "markdown",
      "metadata": {
        "id": "J16AO6LSfOrQ",
        "colab_type": "text"
      },
      "source": [
        "The next line will save everything we need for predictions to a file to your Google Drive in the `ai-workshops` folder."
      ]
    },
    {
      "cell_type": "code",
      "metadata": {
        "scrolled": true,
        "id": "w0ART6EQfOrR",
        "colab_type": "code",
        "colab": {}
      },
      "source": [
        "learn.export(save_path/\"export.pkl\")"
      ],
      "execution_count": 0,
      "outputs": []
    },
    {
      "cell_type": "markdown",
      "metadata": {
        "id": "ARd7QIelfOrT",
        "colab_type": "text"
      },
      "source": [
        "Later, to load the model into your code, connect to your Google drive using the same block above that starts `from google.colab import drive ...` and then run this:\n",
        "    "
      ]
    },
    {
      "cell_type": "code",
      "metadata": {
        "id": "WrJYcHOWfOrU",
        "colab_type": "code",
        "colab": {}
      },
      "source": [
        "# load the model from the 'export.pkl' file on your Google Drive\n",
        "learn = load_learner(save_path)  "
      ],
      "execution_count": 0,
      "outputs": []
    },
    {
      "cell_type": "markdown",
      "metadata": {
        "colab_type": "text",
        "id": "57uA-44kVh_T"
      },
      "source": [
        "We used a model built this way to classify #txlege tweets as they were tweeted. For details about deploying a predictor in the cloud using Render, see our [blog post about building the checkable-tweets project](https://qz.ai/?p=89)."
      ]
    }
  ]
}