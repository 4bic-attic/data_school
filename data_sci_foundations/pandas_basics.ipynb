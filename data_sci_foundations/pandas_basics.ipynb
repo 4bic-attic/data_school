{
 "cells": [
  {
   "cell_type": "code",
   "execution_count": 41,
   "metadata": {},
   "outputs": [
    {
     "data": {
      "text/html": [
       "<div>\n",
       "<style>\n",
       "    .dataframe thead tr:only-child th {\n",
       "        text-align: right;\n",
       "    }\n",
       "\n",
       "    .dataframe thead th {\n",
       "        text-align: left;\n",
       "    }\n",
       "\n",
       "    .dataframe tbody tr th {\n",
       "        vertical-align: top;\n",
       "    }\n",
       "</style>\n",
       "<table border=\"1\" class=\"dataframe\">\n",
       "  <thead>\n",
       "    <tr style=\"text-align: right;\">\n",
       "      <th></th>\n",
       "      <th>time</th>\n",
       "      <th>lat</th>\n",
       "      <th>lng</th>\n",
       "      <th>height</th>\n",
       "    </tr>\n",
       "  </thead>\n",
       "  <tbody>\n",
       "    <tr>\n",
       "      <th>0</th>\n",
       "      <td>2015-08-20 03:48:07.235</td>\n",
       "      <td>35.015021</td>\n",
       "      <td>32.519585</td>\n",
       "      <td>136.199997</td>\n",
       "    </tr>\n",
       "    <tr>\n",
       "      <th>1</th>\n",
       "      <td>2015-08-20 03:48:24.734</td>\n",
       "      <td>35.014954</td>\n",
       "      <td>32.519606</td>\n",
       "      <td>126.599998</td>\n",
       "    </tr>\n",
       "    <tr>\n",
       "      <th>2</th>\n",
       "      <td>2015-08-20 03:48:25.660</td>\n",
       "      <td>35.014871</td>\n",
       "      <td>32.519612</td>\n",
       "      <td>123.000000</td>\n",
       "    </tr>\n",
       "    <tr>\n",
       "      <th>3</th>\n",
       "      <td>2015-08-20 03:48:26.819</td>\n",
       "      <td>35.014824</td>\n",
       "      <td>32.519654</td>\n",
       "      <td>120.500000</td>\n",
       "    </tr>\n",
       "    <tr>\n",
       "      <th>4</th>\n",
       "      <td>2015-08-20 03:48:27.828</td>\n",
       "      <td>35.014776</td>\n",
       "      <td>32.519689</td>\n",
       "      <td>118.900002</td>\n",
       "    </tr>\n",
       "  </tbody>\n",
       "</table>\n",
       "</div>"
      ],
      "text/plain": [
       "                     time        lat        lng      height\n",
       "0 2015-08-20 03:48:07.235  35.015021  32.519585  136.199997\n",
       "1 2015-08-20 03:48:24.734  35.014954  32.519606  126.599998\n",
       "2 2015-08-20 03:48:25.660  35.014871  32.519612  123.000000\n",
       "3 2015-08-20 03:48:26.819  35.014824  32.519654  120.500000\n",
       "4 2015-08-20 03:48:27.828  35.014776  32.519689  118.900002"
      ]
     },
     "execution_count": 41,
     "metadata": {},
     "output_type": "execute_result"
    }
   ],
   "source": [
    "%matplotlib inline\n",
    "import numpy as np\n",
    "import pandas as pd\n",
    "df = pd.read_csv('track.csv',parse_dates=['time'])\n",
    "df.head()"
   ]
  },
  {
   "cell_type": "code",
   "execution_count": 2,
   "metadata": {},
   "outputs": [
    {
     "data": {
      "text/plain": [
       "time      datetime64[ns]\n",
       "lat              float64\n",
       "lng              float64\n",
       "height           float64\n",
       "dtype: object"
      ]
     },
     "execution_count": 2,
     "metadata": {},
     "output_type": "execute_result"
    }
   ],
   "source": [
    "df.dtypes #data types"
   ]
  },
  {
   "cell_type": "code",
   "execution_count": 3,
   "metadata": {},
   "outputs": [
    {
     "data": {
      "text/plain": [
       "(740, 4)"
      ]
     },
     "execution_count": 3,
     "metadata": {},
     "output_type": "execute_result"
    }
   ],
   "source": [
    "df.shape"
   ]
  },
  {
   "cell_type": "code",
   "execution_count": 4,
   "metadata": {},
   "outputs": [
    {
     "data": {
      "text/html": [
       "<div>\n",
       "<style>\n",
       "    .dataframe thead tr:only-child th {\n",
       "        text-align: right;\n",
       "    }\n",
       "\n",
       "    .dataframe thead th {\n",
       "        text-align: left;\n",
       "    }\n",
       "\n",
       "    .dataframe tbody tr th {\n",
       "        vertical-align: top;\n",
       "    }\n",
       "</style>\n",
       "<table border=\"1\" class=\"dataframe\">\n",
       "  <thead>\n",
       "    <tr style=\"text-align: right;\">\n",
       "      <th></th>\n",
       "      <th>lat</th>\n",
       "      <th>lng</th>\n",
       "      <th>height</th>\n",
       "    </tr>\n",
       "  </thead>\n",
       "  <tbody>\n",
       "    <tr>\n",
       "      <th>count</th>\n",
       "      <td>740.000000</td>\n",
       "      <td>740.000000</td>\n",
       "      <td>740.000000</td>\n",
       "    </tr>\n",
       "    <tr>\n",
       "      <th>mean</th>\n",
       "      <td>35.015832</td>\n",
       "      <td>32.512191</td>\n",
       "      <td>97.876892</td>\n",
       "    </tr>\n",
       "    <tr>\n",
       "      <th>std</th>\n",
       "      <td>0.003665</td>\n",
       "      <td>0.002974</td>\n",
       "      <td>11.985234</td>\n",
       "    </tr>\n",
       "    <tr>\n",
       "      <th>min</th>\n",
       "      <td>35.009294</td>\n",
       "      <td>32.508092</td>\n",
       "      <td>77.500000</td>\n",
       "    </tr>\n",
       "    <tr>\n",
       "      <th>25%</th>\n",
       "      <td>35.012891</td>\n",
       "      <td>32.509432</td>\n",
       "      <td>88.000000</td>\n",
       "    </tr>\n",
       "    <tr>\n",
       "      <th>50%</th>\n",
       "      <td>35.015709</td>\n",
       "      <td>32.511454</td>\n",
       "      <td>97.649998</td>\n",
       "    </tr>\n",
       "    <tr>\n",
       "      <th>75%</th>\n",
       "      <td>35.018650</td>\n",
       "      <td>32.514143</td>\n",
       "      <td>106.450001</td>\n",
       "    </tr>\n",
       "    <tr>\n",
       "      <th>max</th>\n",
       "      <td>35.022774</td>\n",
       "      <td>32.519734</td>\n",
       "      <td>136.199997</td>\n",
       "    </tr>\n",
       "  </tbody>\n",
       "</table>\n",
       "</div>"
      ],
      "text/plain": [
       "              lat         lng      height\n",
       "count  740.000000  740.000000  740.000000\n",
       "mean    35.015832   32.512191   97.876892\n",
       "std      0.003665    0.002974   11.985234\n",
       "min     35.009294   32.508092   77.500000\n",
       "25%     35.012891   32.509432   88.000000\n",
       "50%     35.015709   32.511454   97.649998\n",
       "75%     35.018650   32.514143  106.450001\n",
       "max     35.022774   32.519734  136.199997"
      ]
     },
     "execution_count": 4,
     "metadata": {},
     "output_type": "execute_result"
    }
   ],
   "source": [
    "df.describe()"
   ]
  },
  {
   "cell_type": "code",
   "execution_count": 5,
   "metadata": {},
   "outputs": [
    {
     "data": {
      "text/plain": [
       "35.015021000000004"
      ]
     },
     "execution_count": 5,
     "metadata": {},
     "output_type": "execute_result"
    }
   ],
   "source": [
    "df.lat[0] #object at 0"
   ]
  },
  {
   "cell_type": "markdown",
   "metadata": {},
   "source": [
    "##### Access Rows and Columns"
   ]
  },
  {
   "cell_type": "code",
   "execution_count": 6,
   "metadata": {},
   "outputs": [
    {
     "data": {
      "text/html": [
       "<div>\n",
       "<style>\n",
       "    .dataframe thead tr:only-child th {\n",
       "        text-align: right;\n",
       "    }\n",
       "\n",
       "    .dataframe thead th {\n",
       "        text-align: left;\n",
       "    }\n",
       "\n",
       "    .dataframe tbody tr th {\n",
       "        vertical-align: top;\n",
       "    }\n",
       "</style>\n",
       "<table border=\"1\" class=\"dataframe\">\n",
       "  <thead>\n",
       "    <tr style=\"text-align: right;\">\n",
       "      <th></th>\n",
       "      <th>time</th>\n",
       "      <th>lat</th>\n",
       "      <th>lng</th>\n",
       "      <th>height</th>\n",
       "    </tr>\n",
       "  </thead>\n",
       "  <tbody>\n",
       "    <tr>\n",
       "      <th>3</th>\n",
       "      <td>2015-08-20 03:48:26.819</td>\n",
       "      <td>35.014824</td>\n",
       "      <td>32.519654</td>\n",
       "      <td>120.500000</td>\n",
       "    </tr>\n",
       "    <tr>\n",
       "      <th>4</th>\n",
       "      <td>2015-08-20 03:48:27.828</td>\n",
       "      <td>35.014776</td>\n",
       "      <td>32.519689</td>\n",
       "      <td>118.900002</td>\n",
       "    </tr>\n",
       "    <tr>\n",
       "      <th>5</th>\n",
       "      <td>2015-08-20 03:48:29.720</td>\n",
       "      <td>35.014704</td>\n",
       "      <td>32.519691</td>\n",
       "      <td>119.900002</td>\n",
       "    </tr>\n",
       "    <tr>\n",
       "      <th>6</th>\n",
       "      <td>2015-08-20 03:48:30.669</td>\n",
       "      <td>35.014657</td>\n",
       "      <td>32.519734</td>\n",
       "      <td>120.900002</td>\n",
       "    </tr>\n",
       "    <tr>\n",
       "      <th>7</th>\n",
       "      <td>2015-08-20 03:48:33.793</td>\n",
       "      <td>35.014563</td>\n",
       "      <td>32.519719</td>\n",
       "      <td>121.699997</td>\n",
       "    </tr>\n",
       "  </tbody>\n",
       "</table>\n",
       "</div>"
      ],
      "text/plain": [
       "                     time        lat        lng      height\n",
       "3 2015-08-20 03:48:26.819  35.014824  32.519654  120.500000\n",
       "4 2015-08-20 03:48:27.828  35.014776  32.519689  118.900002\n",
       "5 2015-08-20 03:48:29.720  35.014704  32.519691  119.900002\n",
       "6 2015-08-20 03:48:30.669  35.014657  32.519734  120.900002\n",
       "7 2015-08-20 03:48:33.793  35.014563  32.519719  121.699997"
      ]
     },
     "execution_count": 6,
     "metadata": {},
     "output_type": "execute_result"
    }
   ],
   "source": [
    "df.loc[3:7] #slicing a section"
   ]
  },
  {
   "cell_type": "code",
   "execution_count": 7,
   "metadata": {},
   "outputs": [
    {
     "data": {
      "text/html": [
       "<div>\n",
       "<style>\n",
       "    .dataframe thead tr:only-child th {\n",
       "        text-align: right;\n",
       "    }\n",
       "\n",
       "    .dataframe thead th {\n",
       "        text-align: left;\n",
       "    }\n",
       "\n",
       "    .dataframe tbody tr th {\n",
       "        vertical-align: top;\n",
       "    }\n",
       "</style>\n",
       "<table border=\"1\" class=\"dataframe\">\n",
       "  <thead>\n",
       "    <tr style=\"text-align: right;\">\n",
       "      <th></th>\n",
       "      <th>lat</th>\n",
       "      <th>lng</th>\n",
       "    </tr>\n",
       "  </thead>\n",
       "  <tbody>\n",
       "    <tr>\n",
       "      <th>3</th>\n",
       "      <td>35.014824</td>\n",
       "      <td>32.519654</td>\n",
       "    </tr>\n",
       "    <tr>\n",
       "      <th>4</th>\n",
       "      <td>35.014776</td>\n",
       "      <td>32.519689</td>\n",
       "    </tr>\n",
       "    <tr>\n",
       "      <th>5</th>\n",
       "      <td>35.014704</td>\n",
       "      <td>32.519691</td>\n",
       "    </tr>\n",
       "    <tr>\n",
       "      <th>6</th>\n",
       "      <td>35.014657</td>\n",
       "      <td>32.519734</td>\n",
       "    </tr>\n",
       "  </tbody>\n",
       "</table>\n",
       "</div>"
      ],
      "text/plain": [
       "         lat        lng\n",
       "3  35.014824  32.519654\n",
       "4  35.014776  32.519689\n",
       "5  35.014704  32.519691\n",
       "6  35.014657  32.519734"
      ]
     },
     "execution_count": 7,
     "metadata": {},
     "output_type": "execute_result"
    }
   ],
   "source": [
    "df[[\"lat\", \"lng\"]][3:7] #Slice within a range"
   ]
  },
  {
   "cell_type": "code",
   "execution_count": 8,
   "metadata": {},
   "outputs": [
    {
     "data": {
      "text/plain": [
       "RangeIndex(start=0, stop=740, step=1)"
      ]
     },
     "execution_count": 8,
     "metadata": {},
     "output_type": "execute_result"
    }
   ],
   "source": [
    "df.index"
   ]
  },
  {
   "cell_type": "code",
   "execution_count": 9,
   "metadata": {},
   "outputs": [
    {
     "data": {
      "text/html": [
       "<div>\n",
       "<style>\n",
       "    .dataframe thead tr:only-child th {\n",
       "        text-align: right;\n",
       "    }\n",
       "\n",
       "    .dataframe thead th {\n",
       "        text-align: left;\n",
       "    }\n",
       "\n",
       "    .dataframe tbody tr th {\n",
       "        vertical-align: top;\n",
       "    }\n",
       "</style>\n",
       "<table border=\"1\" class=\"dataframe\">\n",
       "  <thead>\n",
       "    <tr style=\"text-align: right;\">\n",
       "      <th></th>\n",
       "      <th>x</th>\n",
       "      <th>y</th>\n",
       "    </tr>\n",
       "  </thead>\n",
       "  <tbody>\n",
       "    <tr>\n",
       "      <th>a</th>\n",
       "      <td>0</td>\n",
       "      <td>1</td>\n",
       "    </tr>\n",
       "    <tr>\n",
       "      <th>b</th>\n",
       "      <td>2</td>\n",
       "      <td>3</td>\n",
       "    </tr>\n",
       "    <tr>\n",
       "      <th>c</th>\n",
       "      <td>4</td>\n",
       "      <td>5</td>\n",
       "    </tr>\n",
       "    <tr>\n",
       "      <th>d</th>\n",
       "      <td>6</td>\n",
       "      <td>7</td>\n",
       "    </tr>\n",
       "    <tr>\n",
       "      <th>e</th>\n",
       "      <td>8</td>\n",
       "      <td>9</td>\n",
       "    </tr>\n",
       "  </tbody>\n",
       "</table>\n",
       "</div>"
      ],
      "text/plain": [
       "   x  y\n",
       "a  0  1\n",
       "b  2  3\n",
       "c  4  5\n",
       "d  6  7\n",
       "e  8  9"
      ]
     },
     "execution_count": 9,
     "metadata": {},
     "output_type": "execute_result"
    }
   ],
   "source": [
    "df1 = pd.DataFrame(np.arange(10).reshape((5,2)),\n",
    "                   columns=['x','y'], index=['a','b','c','d','e'])\n",
    "df1"
   ]
  },
  {
   "cell_type": "code",
   "execution_count": 10,
   "metadata": {},
   "outputs": [
    {
     "data": {
      "text/plain": [
       "x    0\n",
       "y    1\n",
       "Name: a, dtype: int64"
      ]
     },
     "execution_count": 10,
     "metadata": {},
     "output_type": "execute_result"
    }
   ],
   "source": [
    "df1.loc['a']"
   ]
  },
  {
   "cell_type": "code",
   "execution_count": 11,
   "metadata": {
    "collapsed": true
   },
   "outputs": [],
   "source": [
    "df.index = df.time #index the dataframe using the time column"
   ]
  },
  {
   "cell_type": "code",
   "execution_count": 12,
   "metadata": {},
   "outputs": [
    {
     "data": {
      "text/html": [
       "<div>\n",
       "<style>\n",
       "    .dataframe thead tr:only-child th {\n",
       "        text-align: right;\n",
       "    }\n",
       "\n",
       "    .dataframe thead th {\n",
       "        text-align: left;\n",
       "    }\n",
       "\n",
       "    .dataframe tbody tr th {\n",
       "        vertical-align: top;\n",
       "    }\n",
       "</style>\n",
       "<table border=\"1\" class=\"dataframe\">\n",
       "  <thead>\n",
       "    <tr style=\"text-align: right;\">\n",
       "      <th></th>\n",
       "      <th>time</th>\n",
       "      <th>lat</th>\n",
       "      <th>lng</th>\n",
       "      <th>height</th>\n",
       "    </tr>\n",
       "    <tr>\n",
       "      <th>time</th>\n",
       "      <th></th>\n",
       "      <th></th>\n",
       "      <th></th>\n",
       "      <th></th>\n",
       "    </tr>\n",
       "  </thead>\n",
       "  <tbody>\n",
       "    <tr>\n",
       "      <th>2015-08-20 03:48:07.235</th>\n",
       "      <td>2015-08-20 03:48:07.235</td>\n",
       "      <td>35.015021</td>\n",
       "      <td>32.519585</td>\n",
       "      <td>136.199997</td>\n",
       "    </tr>\n",
       "    <tr>\n",
       "      <th>2015-08-20 03:48:24.734</th>\n",
       "      <td>2015-08-20 03:48:24.734</td>\n",
       "      <td>35.014954</td>\n",
       "      <td>32.519606</td>\n",
       "      <td>126.599998</td>\n",
       "    </tr>\n",
       "    <tr>\n",
       "      <th>2015-08-20 03:48:25.660</th>\n",
       "      <td>2015-08-20 03:48:25.660</td>\n",
       "      <td>35.014871</td>\n",
       "      <td>32.519612</td>\n",
       "      <td>123.000000</td>\n",
       "    </tr>\n",
       "    <tr>\n",
       "      <th>2015-08-20 03:48:26.819</th>\n",
       "      <td>2015-08-20 03:48:26.819</td>\n",
       "      <td>35.014824</td>\n",
       "      <td>32.519654</td>\n",
       "      <td>120.500000</td>\n",
       "    </tr>\n",
       "    <tr>\n",
       "      <th>2015-08-20 03:48:27.828</th>\n",
       "      <td>2015-08-20 03:48:27.828</td>\n",
       "      <td>35.014776</td>\n",
       "      <td>32.519689</td>\n",
       "      <td>118.900002</td>\n",
       "    </tr>\n",
       "    <tr>\n",
       "      <th>2015-08-20 03:48:29.720</th>\n",
       "      <td>2015-08-20 03:48:29.720</td>\n",
       "      <td>35.014704</td>\n",
       "      <td>32.519691</td>\n",
       "      <td>119.900002</td>\n",
       "    </tr>\n",
       "    <tr>\n",
       "      <th>2015-08-20 03:48:30.669</th>\n",
       "      <td>2015-08-20 03:48:30.669</td>\n",
       "      <td>35.014657</td>\n",
       "      <td>32.519734</td>\n",
       "      <td>120.900002</td>\n",
       "    </tr>\n",
       "    <tr>\n",
       "      <th>2015-08-20 03:48:33.793</th>\n",
       "      <td>2015-08-20 03:48:33.793</td>\n",
       "      <td>35.014563</td>\n",
       "      <td>32.519719</td>\n",
       "      <td>121.699997</td>\n",
       "    </tr>\n",
       "    <tr>\n",
       "      <th>2015-08-20 03:48:34.869</th>\n",
       "      <td>2015-08-20 03:48:34.869</td>\n",
       "      <td>35.014549</td>\n",
       "      <td>32.519694</td>\n",
       "      <td>121.199997</td>\n",
       "    </tr>\n",
       "    <tr>\n",
       "      <th>2015-08-20 03:48:37.708</th>\n",
       "      <td>2015-08-20 03:48:37.708</td>\n",
       "      <td>35.014515</td>\n",
       "      <td>32.519625</td>\n",
       "      <td>121.699997</td>\n",
       "    </tr>\n",
       "    <tr>\n",
       "      <th>2015-08-20 03:48:38.839</th>\n",
       "      <td>2015-08-20 03:48:38.839</td>\n",
       "      <td>35.014505</td>\n",
       "      <td>32.519599</td>\n",
       "      <td>121.800003</td>\n",
       "    </tr>\n",
       "    <tr>\n",
       "      <th>2015-08-20 03:48:41.980</th>\n",
       "      <td>2015-08-20 03:48:41.980</td>\n",
       "      <td>35.014481</td>\n",
       "      <td>32.519514</td>\n",
       "      <td>122.599998</td>\n",
       "    </tr>\n",
       "    <tr>\n",
       "      <th>2015-08-20 03:48:42.725</th>\n",
       "      <td>2015-08-20 03:48:42.725</td>\n",
       "      <td>35.014472</td>\n",
       "      <td>32.519486</td>\n",
       "      <td>123.000000</td>\n",
       "    </tr>\n",
       "    <tr>\n",
       "      <th>2015-08-20 03:48:45.896</th>\n",
       "      <td>2015-08-20 03:48:45.896</td>\n",
       "      <td>35.014439</td>\n",
       "      <td>32.519405</td>\n",
       "      <td>122.699997</td>\n",
       "    </tr>\n",
       "    <tr>\n",
       "      <th>2015-08-20 03:48:46.662</th>\n",
       "      <td>2015-08-20 03:48:46.662</td>\n",
       "      <td>35.014432</td>\n",
       "      <td>32.519379</td>\n",
       "      <td>122.699997</td>\n",
       "    </tr>\n",
       "    <tr>\n",
       "      <th>2015-08-20 03:48:49.829</th>\n",
       "      <td>2015-08-20 03:48:49.829</td>\n",
       "      <td>35.014414</td>\n",
       "      <td>32.519309</td>\n",
       "      <td>122.699997</td>\n",
       "    </tr>\n",
       "    <tr>\n",
       "      <th>2015-08-20 03:48:50.665</th>\n",
       "      <td>2015-08-20 03:48:50.665</td>\n",
       "      <td>35.014400</td>\n",
       "      <td>32.519287</td>\n",
       "      <td>123.300003</td>\n",
       "    </tr>\n",
       "    <tr>\n",
       "      <th>2015-08-20 03:48:53.692</th>\n",
       "      <td>2015-08-20 03:48:53.692</td>\n",
       "      <td>35.014372</td>\n",
       "      <td>32.519211</td>\n",
       "      <td>122.300003</td>\n",
       "    </tr>\n",
       "    <tr>\n",
       "      <th>2015-08-20 03:48:54.662</th>\n",
       "      <td>2015-08-20 03:48:54.662</td>\n",
       "      <td>35.014365</td>\n",
       "      <td>32.519187</td>\n",
       "      <td>122.599998</td>\n",
       "    </tr>\n",
       "    <tr>\n",
       "      <th>2015-08-20 03:48:58.869</th>\n",
       "      <td>2015-08-20 03:48:58.869</td>\n",
       "      <td>35.014337</td>\n",
       "      <td>32.519106</td>\n",
       "      <td>122.000000</td>\n",
       "    </tr>\n",
       "    <tr>\n",
       "      <th>2015-08-20 03:48:59.663</th>\n",
       "      <td>2015-08-20 03:48:59.663</td>\n",
       "      <td>35.014331</td>\n",
       "      <td>32.519084</td>\n",
       "      <td>121.800003</td>\n",
       "    </tr>\n",
       "  </tbody>\n",
       "</table>\n",
       "</div>"
      ],
      "text/plain": [
       "                                           time        lat        lng  \\\n",
       "time                                                                    \n",
       "2015-08-20 03:48:07.235 2015-08-20 03:48:07.235  35.015021  32.519585   \n",
       "2015-08-20 03:48:24.734 2015-08-20 03:48:24.734  35.014954  32.519606   \n",
       "2015-08-20 03:48:25.660 2015-08-20 03:48:25.660  35.014871  32.519612   \n",
       "2015-08-20 03:48:26.819 2015-08-20 03:48:26.819  35.014824  32.519654   \n",
       "2015-08-20 03:48:27.828 2015-08-20 03:48:27.828  35.014776  32.519689   \n",
       "2015-08-20 03:48:29.720 2015-08-20 03:48:29.720  35.014704  32.519691   \n",
       "2015-08-20 03:48:30.669 2015-08-20 03:48:30.669  35.014657  32.519734   \n",
       "2015-08-20 03:48:33.793 2015-08-20 03:48:33.793  35.014563  32.519719   \n",
       "2015-08-20 03:48:34.869 2015-08-20 03:48:34.869  35.014549  32.519694   \n",
       "2015-08-20 03:48:37.708 2015-08-20 03:48:37.708  35.014515  32.519625   \n",
       "2015-08-20 03:48:38.839 2015-08-20 03:48:38.839  35.014505  32.519599   \n",
       "2015-08-20 03:48:41.980 2015-08-20 03:48:41.980  35.014481  32.519514   \n",
       "2015-08-20 03:48:42.725 2015-08-20 03:48:42.725  35.014472  32.519486   \n",
       "2015-08-20 03:48:45.896 2015-08-20 03:48:45.896  35.014439  32.519405   \n",
       "2015-08-20 03:48:46.662 2015-08-20 03:48:46.662  35.014432  32.519379   \n",
       "2015-08-20 03:48:49.829 2015-08-20 03:48:49.829  35.014414  32.519309   \n",
       "2015-08-20 03:48:50.665 2015-08-20 03:48:50.665  35.014400  32.519287   \n",
       "2015-08-20 03:48:53.692 2015-08-20 03:48:53.692  35.014372  32.519211   \n",
       "2015-08-20 03:48:54.662 2015-08-20 03:48:54.662  35.014365  32.519187   \n",
       "2015-08-20 03:48:58.869 2015-08-20 03:48:58.869  35.014337  32.519106   \n",
       "2015-08-20 03:48:59.663 2015-08-20 03:48:59.663  35.014331  32.519084   \n",
       "\n",
       "                             height  \n",
       "time                                 \n",
       "2015-08-20 03:48:07.235  136.199997  \n",
       "2015-08-20 03:48:24.734  126.599998  \n",
       "2015-08-20 03:48:25.660  123.000000  \n",
       "2015-08-20 03:48:26.819  120.500000  \n",
       "2015-08-20 03:48:27.828  118.900002  \n",
       "2015-08-20 03:48:29.720  119.900002  \n",
       "2015-08-20 03:48:30.669  120.900002  \n",
       "2015-08-20 03:48:33.793  121.699997  \n",
       "2015-08-20 03:48:34.869  121.199997  \n",
       "2015-08-20 03:48:37.708  121.699997  \n",
       "2015-08-20 03:48:38.839  121.800003  \n",
       "2015-08-20 03:48:41.980  122.599998  \n",
       "2015-08-20 03:48:42.725  123.000000  \n",
       "2015-08-20 03:48:45.896  122.699997  \n",
       "2015-08-20 03:48:46.662  122.699997  \n",
       "2015-08-20 03:48:49.829  122.699997  \n",
       "2015-08-20 03:48:50.665  123.300003  \n",
       "2015-08-20 03:48:53.692  122.300003  \n",
       "2015-08-20 03:48:54.662  122.599998  \n",
       "2015-08-20 03:48:58.869  122.000000  \n",
       "2015-08-20 03:48:59.663  121.800003  "
      ]
     },
     "execution_count": 12,
     "metadata": {},
     "output_type": "execute_result"
    }
   ],
   "source": [
    "df.loc['2015-08-20 03:48']"
   ]
  },
  {
   "cell_type": "code",
   "execution_count": 13,
   "metadata": {
    "collapsed": true
   },
   "outputs": [],
   "source": [
    "import pytz"
   ]
  },
  {
   "cell_type": "code",
   "execution_count": 14,
   "metadata": {},
   "outputs": [
    {
     "data": {
      "text/plain": [
       "Timestamp('2015-08-20 03:48:07.235000+0000', tz='UTC')"
      ]
     },
     "execution_count": 14,
     "metadata": {},
     "output_type": "execute_result"
    }
   ],
   "source": [
    "ts = df.index[0]\n",
    "ts.tz_localize(pytz.utc)"
   ]
  },
  {
   "cell_type": "code",
   "execution_count": 15,
   "metadata": {},
   "outputs": [
    {
     "data": {
      "text/plain": [
       "Timestamp('2015-08-20 06:48:07.235000+0300', tz='Africa/Nairobi')"
      ]
     },
     "execution_count": 15,
     "metadata": {},
     "output_type": "execute_result"
    }
   ],
   "source": [
    "ts.tz_localize(pytz.UTC).tz_convert(pytz.timezone('Africa/Nairobi'))"
   ]
  },
  {
   "cell_type": "code",
   "execution_count": null,
   "metadata": {
    "collapsed": true
   },
   "outputs": [],
   "source": []
  },
  {
   "cell_type": "code",
   "execution_count": 16,
   "metadata": {
    "collapsed": true
   },
   "outputs": [],
   "source": [
    "df.index = df.index.tz_localize(pytz.UTC).tz_convert(pytz.timezone('Africa/Nairobi'))"
   ]
  },
  {
   "cell_type": "code",
   "execution_count": 17,
   "metadata": {},
   "outputs": [
    {
     "data": {
      "text/plain": [
       "DatetimeIndex(['2015-08-20 06:48:07.235000+03:00',\n",
       "               '2015-08-20 06:48:24.734000+03:00',\n",
       "               '2015-08-20 06:48:25.660000+03:00',\n",
       "               '2015-08-20 06:48:26.819000+03:00',\n",
       "               '2015-08-20 06:48:27.828000+03:00',\n",
       "               '2015-08-20 06:48:29.720000+03:00',\n",
       "               '2015-08-20 06:48:30.669000+03:00',\n",
       "               '2015-08-20 06:48:33.793000+03:00',\n",
       "               '2015-08-20 06:48:34.869000+03:00',\n",
       "               '2015-08-20 06:48:37.708000+03:00',\n",
       "               ...\n",
       "               '2015-08-20 07:20:18.844000+03:00',\n",
       "               '2015-08-20 07:20:21.996000+03:00',\n",
       "               '2015-08-20 07:20:22.897000+03:00',\n",
       "               '2015-08-20 07:20:24.905000+03:00',\n",
       "               '2015-08-20 07:20:25.835000+03:00',\n",
       "               '2015-08-20 07:20:28.982000+03:00',\n",
       "               '2015-08-20 07:20:29.923000+03:00',\n",
       "               '2015-08-20 07:20:32.863000+03:00',\n",
       "               '2015-08-20 07:20:33.994000+03:00',\n",
       "               '2015-08-20 07:20:42.329000+03:00'],\n",
       "              dtype='datetime64[ns, Africa/Nairobi]', name='time', length=740, freq=None)"
      ]
     },
     "execution_count": 17,
     "metadata": {},
     "output_type": "execute_result"
    }
   ],
   "source": [
    "df.index"
   ]
  },
  {
   "cell_type": "markdown",
   "metadata": {},
   "source": [
    "use pure python packages"
   ]
  },
  {
   "cell_type": "code",
   "execution_count": 18,
   "metadata": {},
   "outputs": [
    {
     "data": {
      "text/plain": [
       "['',\n",
       " '/Users/4bic/anaconda3/lib/python36.zip',\n",
       " '/Users/4bic/anaconda3/lib/python3.6',\n",
       " '/Users/4bic/anaconda3/lib/python3.6/lib-dynload',\n",
       " '/Users/4bic/anaconda3/lib/python3.6/site-packages',\n",
       " '/Users/4bic/anaconda3/lib/python3.6/site-packages/aeosa',\n",
       " '/Users/4bic/anaconda3/lib/python3.6/site-packages/IPython/extensions',\n",
       " '/Users/4bic/.ipython']"
      ]
     },
     "execution_count": 18,
     "metadata": {},
     "output_type": "execute_result"
    }
   ],
   "source": [
    "import geo\n",
    "import sys\n",
    "sys.path"
   ]
  },
  {
   "cell_type": "code",
   "execution_count": 19,
   "metadata": {
    "collapsed": true
   },
   "outputs": [],
   "source": [
    "??geo #quick look at file"
   ]
  },
  {
   "cell_type": "code",
   "execution_count": 20,
   "metadata": {
    "collapsed": true
   },
   "outputs": [],
   "source": [
    "from geo import circle_dist"
   ]
  },
  {
   "cell_type": "code",
   "execution_count": 21,
   "metadata": {},
   "outputs": [],
   "source": [
    "lat1, lng1 = df.iloc[0].lat, df.iloc[0].lng\n",
    "lat2, lng2 = df.iloc[1].lat, df.iloc[1].lng\n"
   ]
  },
  {
   "cell_type": "code",
   "execution_count": 22,
   "metadata": {},
   "outputs": [
    {
     "data": {
      "text/plain": [
       "0.0076951035867691957"
      ]
     },
     "execution_count": 22,
     "metadata": {},
     "output_type": "execute_result"
    }
   ],
   "source": [
    "circle_dist(lat1, lng1, lat2, lng2)"
   ]
  },
  {
   "cell_type": "markdown",
   "metadata": {},
   "source": [
    "calculate speed"
   ]
  },
  {
   "cell_type": "code",
   "execution_count": 23,
   "metadata": {},
   "outputs": [
    {
     "data": {
      "text/plain": [
       "0    0\n",
       "1    1\n",
       "2    2\n",
       "3    3\n",
       "4    4\n",
       "dtype: int64"
      ]
     },
     "execution_count": 23,
     "metadata": {},
     "output_type": "execute_result"
    }
   ],
   "source": [
    "s = pd.Series(np.arange(5))\n",
    "s"
   ]
  },
  {
   "cell_type": "code",
   "execution_count": 24,
   "metadata": {},
   "outputs": [
    {
     "data": {
      "text/plain": [
       "0    NaN\n",
       "1    0.0\n",
       "2    1.0\n",
       "3    2.0\n",
       "4    3.0\n",
       "dtype: float64"
      ]
     },
     "execution_count": 24,
     "metadata": {},
     "output_type": "execute_result"
    }
   ],
   "source": [
    "s.shift() #shift down"
   ]
  },
  {
   "cell_type": "code",
   "execution_count": 25,
   "metadata": {},
   "outputs": [
    {
     "data": {
      "text/plain": [
       "0    1.0\n",
       "1    2.0\n",
       "2    3.0\n",
       "3    4.0\n",
       "4    NaN\n",
       "dtype: float64"
      ]
     },
     "execution_count": 25,
     "metadata": {},
     "output_type": "execute_result"
    }
   ],
   "source": [
    "s.shift(-1) #shift up"
   ]
  },
  {
   "cell_type": "code",
   "execution_count": 26,
   "metadata": {},
   "outputs": [
    {
     "data": {
      "text/plain": [
       "time\n",
       "2015-08-20 06:48:07.235000+03:00         NaN\n",
       "2015-08-20 06:48:24.734000+03:00    0.007695\n",
       "2015-08-20 06:48:25.660000+03:00    0.009248\n",
       "2015-08-20 06:48:26.819000+03:00    0.006479\n",
       "2015-08-20 06:48:27.828000+03:00    0.006219\n",
       "2015-08-20 06:48:29.720000+03:00    0.008010\n",
       "2015-08-20 06:48:30.669000+03:00    0.006533\n",
       "2015-08-20 06:48:33.793000+03:00    0.010545\n",
       "2015-08-20 06:48:34.869000+03:00    0.002759\n",
       "2015-08-20 06:48:37.708000+03:00    0.007336\n",
       "dtype: float64"
      ]
     },
     "execution_count": 26,
     "metadata": {},
     "output_type": "execute_result"
    }
   ],
   "source": [
    "# distance covered on run\n",
    "\n",
    "dist = circle_dist(df.lat, df.lng,\n",
    "                   df['lat'].shift(), df['lng'].shift())\n",
    "\n",
    "dist[:10]"
   ]
  },
  {
   "cell_type": "code",
   "execution_count": 27,
   "metadata": {},
   "outputs": [
    {
     "data": {
      "text/plain": [
       "4.688136559201074"
      ]
     },
     "execution_count": 27,
     "metadata": {},
     "output_type": "execute_result"
    }
   ],
   "source": [
    "dist.sum()"
   ]
  },
  {
   "cell_type": "code",
   "execution_count": 28,
   "metadata": {},
   "outputs": [
    {
     "data": {
      "text/plain": [
       "time\n",
       "2015-08-20 06:48:07.235000+03:00               NaT\n",
       "2015-08-20 06:48:24.734000+03:00   00:00:17.499000\n",
       "2015-08-20 06:48:25.660000+03:00   00:00:00.926000\n",
       "2015-08-20 06:48:26.819000+03:00   00:00:01.159000\n",
       "2015-08-20 06:48:27.828000+03:00   00:00:01.009000\n",
       "2015-08-20 06:48:29.720000+03:00   00:00:01.892000\n",
       "2015-08-20 06:48:30.669000+03:00   00:00:00.949000\n",
       "2015-08-20 06:48:33.793000+03:00   00:00:03.124000\n",
       "2015-08-20 06:48:34.869000+03:00   00:00:01.076000\n",
       "2015-08-20 06:48:37.708000+03:00   00:00:02.839000\n",
       "Name: time, dtype: timedelta64[ns]"
      ]
     },
     "execution_count": 28,
     "metadata": {},
     "output_type": "execute_result"
    }
   ],
   "source": [
    "# dt = data time\n",
    "# NaT = Not a time \n",
    "dt = df.time - df.time.shift()\n",
    "\n",
    "dt[:10]"
   ]
  },
  {
   "cell_type": "code",
   "execution_count": 29,
   "metadata": {},
   "outputs": [
    {
     "data": {
      "text/plain": [
       "17.499000000000002"
      ]
     },
     "execution_count": 29,
     "metadata": {},
     "output_type": "execute_result"
    }
   ],
   "source": [
    "# speed = dist / time\n",
    "\n",
    "dt[1].total_seconds()"
   ]
  },
  {
   "cell_type": "code",
   "execution_count": 30,
   "metadata": {},
   "outputs": [
    {
     "data": {
      "text/plain": [
       "0.0048608333333333333"
      ]
     },
     "execution_count": 30,
     "metadata": {},
     "output_type": "execute_result"
    }
   ],
   "source": [
    "dt[1] / np.timedelta64(1, 'h')"
   ]
  },
  {
   "cell_type": "code",
   "execution_count": 31,
   "metadata": {},
   "outputs": [
    {
     "data": {
      "text/plain": [
       "0.004860833333333334"
      ]
     },
     "execution_count": 31,
     "metadata": {},
     "output_type": "execute_result"
    }
   ],
   "source": [
    "dt[1].total_seconds()/3600"
   ]
  },
  {
   "cell_type": "code",
   "execution_count": 32,
   "metadata": {},
   "outputs": [
    {
     "data": {
      "text/plain": [
       "time\n",
       "2015-08-20 06:48:07.235000+03:00          NaN\n",
       "2015-08-20 06:48:24.734000+03:00     1.583083\n",
       "2015-08-20 06:48:25.660000+03:00    35.954340\n",
       "2015-08-20 06:48:26.819000+03:00    20.123165\n",
       "2015-08-20 06:48:27.828000+03:00    22.187213\n",
       "2015-08-20 06:48:29.720000+03:00    15.240609\n",
       "2015-08-20 06:48:30.669000+03:00    24.781220\n",
       "2015-08-20 06:48:33.793000+03:00    12.151207\n",
       "2015-08-20 06:48:34.869000+03:00     9.230505\n",
       "2015-08-20 06:48:37.708000+03:00     9.302840\n",
       "dtype: float64"
      ]
     },
     "execution_count": 32,
     "metadata": {},
     "output_type": "execute_result"
    }
   ],
   "source": [
    "speed = dist / (dt / np.timedelta64(1, 'h'))\n",
    "speed[:10]"
   ]
  },
  {
   "cell_type": "code",
   "execution_count": 33,
   "metadata": {
    "collapsed": true
   },
   "outputs": [],
   "source": [
    "df['dist'] = dist\n",
    "df['dt'] = dt\n"
   ]
  },
  {
   "cell_type": "code",
   "execution_count": 34,
   "metadata": {},
   "outputs": [],
   "source": [
    "df1m = df.resample('1min').sum()\n",
    "# df1m.index[:10] #first 10 timings"
   ]
  },
  {
   "cell_type": "code",
   "execution_count": 35,
   "metadata": {
    "collapsed": true
   },
   "outputs": [],
   "source": [
    "# DatetimeIndex(['2015-08-20 06:48:00+03:00', '2015-08-20 06:49:00+03:00',\n",
    "#                '2015-08-20 06:50:00+03:00', '2015-08-20 06:51:00+03:00',\n",
    "#                '2015-08-20 06:52:00+03:00', '2015-08-20 06:53:00+03:00',\n",
    "#                '2015-08-20 06:54:00+03:00', '2015-08-20 06:55:00+03:00',\n",
    "#                '2015-08-20 06:56:00+03:00', '2015-08-20 06:57:00+03:00'],\n",
    "#               dtype='datetime64[ns, Africa/Nairobi]', name='time', freq='T')"
   ]
  },
  {
   "cell_type": "code",
   "execution_count": 36,
   "metadata": {
    "scrolled": true
   },
   "outputs": [
    {
     "ename": "KeyError",
     "evalue": "'dt'",
     "output_type": "error",
     "traceback": [
      "\u001b[0;31m---------------------------------------------------------------------------\u001b[0m",
      "\u001b[0;31mKeyError\u001b[0m                                  Traceback (most recent call last)",
      "\u001b[0;32m~/anaconda3/lib/python3.6/site-packages/pandas/core/indexes/base.py\u001b[0m in \u001b[0;36mget_loc\u001b[0;34m(self, key, method, tolerance)\u001b[0m\n\u001b[1;32m   2441\u001b[0m             \u001b[0;32mtry\u001b[0m\u001b[0;34m:\u001b[0m\u001b[0;34m\u001b[0m\u001b[0m\n\u001b[0;32m-> 2442\u001b[0;31m                 \u001b[0;32mreturn\u001b[0m \u001b[0mself\u001b[0m\u001b[0;34m.\u001b[0m\u001b[0m_engine\u001b[0m\u001b[0;34m.\u001b[0m\u001b[0mget_loc\u001b[0m\u001b[0;34m(\u001b[0m\u001b[0mkey\u001b[0m\u001b[0;34m)\u001b[0m\u001b[0;34m\u001b[0m\u001b[0m\n\u001b[0m\u001b[1;32m   2443\u001b[0m             \u001b[0;32mexcept\u001b[0m \u001b[0mKeyError\u001b[0m\u001b[0;34m:\u001b[0m\u001b[0;34m\u001b[0m\u001b[0m\n",
      "\u001b[0;32mpandas/_libs/index.pyx\u001b[0m in \u001b[0;36mpandas._libs.index.IndexEngine.get_loc\u001b[0;34m()\u001b[0m\n",
      "\u001b[0;32mpandas/_libs/index.pyx\u001b[0m in \u001b[0;36mpandas._libs.index.IndexEngine.get_loc\u001b[0;34m()\u001b[0m\n",
      "\u001b[0;32mpandas/_libs/hashtable_class_helper.pxi\u001b[0m in \u001b[0;36mpandas._libs.hashtable.PyObjectHashTable.get_item\u001b[0;34m()\u001b[0m\n",
      "\u001b[0;32mpandas/_libs/hashtable_class_helper.pxi\u001b[0m in \u001b[0;36mpandas._libs.hashtable.PyObjectHashTable.get_item\u001b[0;34m()\u001b[0m\n",
      "\u001b[0;31mKeyError\u001b[0m: 'dt'",
      "\nDuring handling of the above exception, another exception occurred:\n",
      "\u001b[0;31mKeyError\u001b[0m                                  Traceback (most recent call last)",
      "\u001b[0;32m<ipython-input-36-2bc0fe38fca7>\u001b[0m in \u001b[0;36m<module>\u001b[0;34m()\u001b[0m\n\u001b[0;32m----> 1\u001b[0;31m \u001b[0mspeed\u001b[0m \u001b[0;34m=\u001b[0m \u001b[0mdf1m\u001b[0m\u001b[0;34m[\u001b[0m\u001b[0;34m'dist'\u001b[0m\u001b[0;34m]\u001b[0m \u001b[0;34m/\u001b[0m \u001b[0mdf1m\u001b[0m\u001b[0;34m[\u001b[0m\u001b[0;34m'dt'\u001b[0m\u001b[0;34m]\u001b[0m \u001b[0;34m/\u001b[0m \u001b[0mnp\u001b[0m\u001b[0;34m.\u001b[0m\u001b[0mtimedelta64\u001b[0m\u001b[0;34m\u001b[0m\u001b[0m\n\u001b[0m",
      "\u001b[0;32m~/anaconda3/lib/python3.6/site-packages/pandas/core/frame.py\u001b[0m in \u001b[0;36m__getitem__\u001b[0;34m(self, key)\u001b[0m\n\u001b[1;32m   1962\u001b[0m             \u001b[0;32mreturn\u001b[0m \u001b[0mself\u001b[0m\u001b[0;34m.\u001b[0m\u001b[0m_getitem_multilevel\u001b[0m\u001b[0;34m(\u001b[0m\u001b[0mkey\u001b[0m\u001b[0;34m)\u001b[0m\u001b[0;34m\u001b[0m\u001b[0m\n\u001b[1;32m   1963\u001b[0m         \u001b[0;32melse\u001b[0m\u001b[0;34m:\u001b[0m\u001b[0;34m\u001b[0m\u001b[0m\n\u001b[0;32m-> 1964\u001b[0;31m             \u001b[0;32mreturn\u001b[0m \u001b[0mself\u001b[0m\u001b[0;34m.\u001b[0m\u001b[0m_getitem_column\u001b[0m\u001b[0;34m(\u001b[0m\u001b[0mkey\u001b[0m\u001b[0;34m)\u001b[0m\u001b[0;34m\u001b[0m\u001b[0m\n\u001b[0m\u001b[1;32m   1965\u001b[0m \u001b[0;34m\u001b[0m\u001b[0m\n\u001b[1;32m   1966\u001b[0m     \u001b[0;32mdef\u001b[0m \u001b[0m_getitem_column\u001b[0m\u001b[0;34m(\u001b[0m\u001b[0mself\u001b[0m\u001b[0;34m,\u001b[0m \u001b[0mkey\u001b[0m\u001b[0;34m)\u001b[0m\u001b[0;34m:\u001b[0m\u001b[0;34m\u001b[0m\u001b[0m\n",
      "\u001b[0;32m~/anaconda3/lib/python3.6/site-packages/pandas/core/frame.py\u001b[0m in \u001b[0;36m_getitem_column\u001b[0;34m(self, key)\u001b[0m\n\u001b[1;32m   1969\u001b[0m         \u001b[0;31m# get column\u001b[0m\u001b[0;34m\u001b[0m\u001b[0;34m\u001b[0m\u001b[0m\n\u001b[1;32m   1970\u001b[0m         \u001b[0;32mif\u001b[0m \u001b[0mself\u001b[0m\u001b[0;34m.\u001b[0m\u001b[0mcolumns\u001b[0m\u001b[0;34m.\u001b[0m\u001b[0mis_unique\u001b[0m\u001b[0;34m:\u001b[0m\u001b[0;34m\u001b[0m\u001b[0m\n\u001b[0;32m-> 1971\u001b[0;31m             \u001b[0;32mreturn\u001b[0m \u001b[0mself\u001b[0m\u001b[0;34m.\u001b[0m\u001b[0m_get_item_cache\u001b[0m\u001b[0;34m(\u001b[0m\u001b[0mkey\u001b[0m\u001b[0;34m)\u001b[0m\u001b[0;34m\u001b[0m\u001b[0m\n\u001b[0m\u001b[1;32m   1972\u001b[0m \u001b[0;34m\u001b[0m\u001b[0m\n\u001b[1;32m   1973\u001b[0m         \u001b[0;31m# duplicate columns & possible reduce dimensionality\u001b[0m\u001b[0;34m\u001b[0m\u001b[0;34m\u001b[0m\u001b[0m\n",
      "\u001b[0;32m~/anaconda3/lib/python3.6/site-packages/pandas/core/generic.py\u001b[0m in \u001b[0;36m_get_item_cache\u001b[0;34m(self, item)\u001b[0m\n\u001b[1;32m   1643\u001b[0m         \u001b[0mres\u001b[0m \u001b[0;34m=\u001b[0m \u001b[0mcache\u001b[0m\u001b[0;34m.\u001b[0m\u001b[0mget\u001b[0m\u001b[0;34m(\u001b[0m\u001b[0mitem\u001b[0m\u001b[0;34m)\u001b[0m\u001b[0;34m\u001b[0m\u001b[0m\n\u001b[1;32m   1644\u001b[0m         \u001b[0;32mif\u001b[0m \u001b[0mres\u001b[0m \u001b[0;32mis\u001b[0m \u001b[0;32mNone\u001b[0m\u001b[0;34m:\u001b[0m\u001b[0;34m\u001b[0m\u001b[0m\n\u001b[0;32m-> 1645\u001b[0;31m             \u001b[0mvalues\u001b[0m \u001b[0;34m=\u001b[0m \u001b[0mself\u001b[0m\u001b[0;34m.\u001b[0m\u001b[0m_data\u001b[0m\u001b[0;34m.\u001b[0m\u001b[0mget\u001b[0m\u001b[0;34m(\u001b[0m\u001b[0mitem\u001b[0m\u001b[0;34m)\u001b[0m\u001b[0;34m\u001b[0m\u001b[0m\n\u001b[0m\u001b[1;32m   1646\u001b[0m             \u001b[0mres\u001b[0m \u001b[0;34m=\u001b[0m \u001b[0mself\u001b[0m\u001b[0;34m.\u001b[0m\u001b[0m_box_item_values\u001b[0m\u001b[0;34m(\u001b[0m\u001b[0mitem\u001b[0m\u001b[0;34m,\u001b[0m \u001b[0mvalues\u001b[0m\u001b[0;34m)\u001b[0m\u001b[0;34m\u001b[0m\u001b[0m\n\u001b[1;32m   1647\u001b[0m             \u001b[0mcache\u001b[0m\u001b[0;34m[\u001b[0m\u001b[0mitem\u001b[0m\u001b[0;34m]\u001b[0m \u001b[0;34m=\u001b[0m \u001b[0mres\u001b[0m\u001b[0;34m\u001b[0m\u001b[0m\n",
      "\u001b[0;32m~/anaconda3/lib/python3.6/site-packages/pandas/core/internals.py\u001b[0m in \u001b[0;36mget\u001b[0;34m(self, item, fastpath)\u001b[0m\n\u001b[1;32m   3588\u001b[0m \u001b[0;34m\u001b[0m\u001b[0m\n\u001b[1;32m   3589\u001b[0m             \u001b[0;32mif\u001b[0m \u001b[0;32mnot\u001b[0m \u001b[0misnull\u001b[0m\u001b[0;34m(\u001b[0m\u001b[0mitem\u001b[0m\u001b[0;34m)\u001b[0m\u001b[0;34m:\u001b[0m\u001b[0;34m\u001b[0m\u001b[0m\n\u001b[0;32m-> 3590\u001b[0;31m                 \u001b[0mloc\u001b[0m \u001b[0;34m=\u001b[0m \u001b[0mself\u001b[0m\u001b[0;34m.\u001b[0m\u001b[0mitems\u001b[0m\u001b[0;34m.\u001b[0m\u001b[0mget_loc\u001b[0m\u001b[0;34m(\u001b[0m\u001b[0mitem\u001b[0m\u001b[0;34m)\u001b[0m\u001b[0;34m\u001b[0m\u001b[0m\n\u001b[0m\u001b[1;32m   3591\u001b[0m             \u001b[0;32melse\u001b[0m\u001b[0;34m:\u001b[0m\u001b[0;34m\u001b[0m\u001b[0m\n\u001b[1;32m   3592\u001b[0m                 \u001b[0mindexer\u001b[0m \u001b[0;34m=\u001b[0m \u001b[0mnp\u001b[0m\u001b[0;34m.\u001b[0m\u001b[0marange\u001b[0m\u001b[0;34m(\u001b[0m\u001b[0mlen\u001b[0m\u001b[0;34m(\u001b[0m\u001b[0mself\u001b[0m\u001b[0;34m.\u001b[0m\u001b[0mitems\u001b[0m\u001b[0;34m)\u001b[0m\u001b[0;34m)\u001b[0m\u001b[0;34m[\u001b[0m\u001b[0misnull\u001b[0m\u001b[0;34m(\u001b[0m\u001b[0mself\u001b[0m\u001b[0;34m.\u001b[0m\u001b[0mitems\u001b[0m\u001b[0;34m)\u001b[0m\u001b[0;34m]\u001b[0m\u001b[0;34m\u001b[0m\u001b[0m\n",
      "\u001b[0;32m~/anaconda3/lib/python3.6/site-packages/pandas/core/indexes/base.py\u001b[0m in \u001b[0;36mget_loc\u001b[0;34m(self, key, method, tolerance)\u001b[0m\n\u001b[1;32m   2442\u001b[0m                 \u001b[0;32mreturn\u001b[0m \u001b[0mself\u001b[0m\u001b[0;34m.\u001b[0m\u001b[0m_engine\u001b[0m\u001b[0;34m.\u001b[0m\u001b[0mget_loc\u001b[0m\u001b[0;34m(\u001b[0m\u001b[0mkey\u001b[0m\u001b[0;34m)\u001b[0m\u001b[0;34m\u001b[0m\u001b[0m\n\u001b[1;32m   2443\u001b[0m             \u001b[0;32mexcept\u001b[0m \u001b[0mKeyError\u001b[0m\u001b[0;34m:\u001b[0m\u001b[0;34m\u001b[0m\u001b[0m\n\u001b[0;32m-> 2444\u001b[0;31m                 \u001b[0;32mreturn\u001b[0m \u001b[0mself\u001b[0m\u001b[0;34m.\u001b[0m\u001b[0m_engine\u001b[0m\u001b[0;34m.\u001b[0m\u001b[0mget_loc\u001b[0m\u001b[0;34m(\u001b[0m\u001b[0mself\u001b[0m\u001b[0;34m.\u001b[0m\u001b[0m_maybe_cast_indexer\u001b[0m\u001b[0;34m(\u001b[0m\u001b[0mkey\u001b[0m\u001b[0;34m)\u001b[0m\u001b[0;34m)\u001b[0m\u001b[0;34m\u001b[0m\u001b[0m\n\u001b[0m\u001b[1;32m   2445\u001b[0m \u001b[0;34m\u001b[0m\u001b[0m\n\u001b[1;32m   2446\u001b[0m         \u001b[0mindexer\u001b[0m \u001b[0;34m=\u001b[0m \u001b[0mself\u001b[0m\u001b[0;34m.\u001b[0m\u001b[0mget_indexer\u001b[0m\u001b[0;34m(\u001b[0m\u001b[0;34m[\u001b[0m\u001b[0mkey\u001b[0m\u001b[0;34m]\u001b[0m\u001b[0;34m,\u001b[0m \u001b[0mmethod\u001b[0m\u001b[0;34m=\u001b[0m\u001b[0mmethod\u001b[0m\u001b[0;34m,\u001b[0m \u001b[0mtolerance\u001b[0m\u001b[0;34m=\u001b[0m\u001b[0mtolerance\u001b[0m\u001b[0;34m)\u001b[0m\u001b[0;34m\u001b[0m\u001b[0m\n",
      "\u001b[0;32mpandas/_libs/index.pyx\u001b[0m in \u001b[0;36mpandas._libs.index.IndexEngine.get_loc\u001b[0;34m()\u001b[0m\n",
      "\u001b[0;32mpandas/_libs/index.pyx\u001b[0m in \u001b[0;36mpandas._libs.index.IndexEngine.get_loc\u001b[0;34m()\u001b[0m\n",
      "\u001b[0;32mpandas/_libs/hashtable_class_helper.pxi\u001b[0m in \u001b[0;36mpandas._libs.hashtable.PyObjectHashTable.get_item\u001b[0;34m()\u001b[0m\n",
      "\u001b[0;32mpandas/_libs/hashtable_class_helper.pxi\u001b[0m in \u001b[0;36mpandas._libs.hashtable.PyObjectHashTable.get_item\u001b[0;34m()\u001b[0m\n",
      "\u001b[0;31mKeyError\u001b[0m: 'dt'"
     ]
    }
   ],
   "source": [
    "speed = df1m['dist'] / df1m['dt'] / np.timedelta64"
   ]
  },
  {
   "cell_type": "code",
   "execution_count": null,
   "metadata": {},
   "outputs": [],
   "source": [
    "df1m.columns"
   ]
  },
  {
   "cell_type": "code",
   "execution_count": 38,
   "metadata": {},
   "outputs": [
    {
     "data": {
      "text/plain": [
       "time\n",
       "2015-08-20 06:48:00+03:00     8.127204\n",
       "2015-08-20 06:49:00+03:00     7.579874\n",
       "2015-08-20 06:50:00+03:00     9.127708\n",
       "2015-08-20 06:51:00+03:00    10.220254\n",
       "2015-08-20 06:52:00+03:00    10.114795\n",
       "2015-08-20 06:53:00+03:00     9.687816\n",
       "2015-08-20 06:54:00+03:00    10.856153\n",
       "2015-08-20 06:55:00+03:00    10.891833\n",
       "2015-08-20 06:56:00+03:00    10.270188\n",
       "2015-08-20 06:57:00+03:00     6.629179\n",
       "Freq: T, dtype: float64"
      ]
     },
     "execution_count": 38,
     "metadata": {},
     "output_type": "execute_result"
    }
   ],
   "source": [
    "# convert dt column to scalar units\n",
    "df['dt'] = dt / np.timedelta64(1, 'h')\n",
    "\n",
    "df1m = df.resample('1min').sum()\n",
    "speed1m = df1m['dist'] / df1m['dt']\n",
    "\n",
    "speed1m[:10]"
   ]
  },
  {
   "cell_type": "code",
   "execution_count": 39,
   "metadata": {},
   "outputs": [
    {
     "data": {
      "text/plain": [
       "count    33.000000\n",
       "mean      8.658223\n",
       "std       1.543122\n",
       "min       5.287562\n",
       "25%       7.542938\n",
       "50%       8.537736\n",
       "75%      10.220254\n",
       "max      10.891833\n",
       "dtype: float64"
      ]
     },
     "execution_count": 39,
     "metadata": {},
     "output_type": "execute_result"
    }
   ],
   "source": [
    "speed1m.describe()"
   ]
  },
  {
   "cell_type": "code",
   "execution_count": 40,
   "metadata": {},
   "outputs": [
    {
     "data": {
      "text/plain": [
       "<matplotlib.axes._subplots.AxesSubplot at 0x113f8d780>"
      ]
     },
     "execution_count": 40,
     "metadata": {},
     "output_type": "execute_result"
    },
    {
     "data": {
      "image/png": "[encoded data removed]",
      "text/plain": [
       "<matplotlib.figure.Figure at 0x113f95ac8>"
      ]
     },
     "metadata": {},
     "output_type": "display_data"
    }
   ],
   "source": [
    "speed1m.plot()"
   ]
  },
  {
   "cell_type": "code",
   "execution_count": 46,
   "metadata": {},
   "outputs": [],
   "source": [
    "import matplotlib.pyplot as plt\n",
    "\n",
    "plt.rcParams['figure.figsize'] = (10, 6) #enlarge plot\n",
    "\n",
    "plt.style.use('seaborn-whitegrid')"
   ]
  },
  {
   "cell_type": "code",
   "execution_count": 47,
   "metadata": {},
   "outputs": [
    {
     "data": {
      "text/plain": [
       "<matplotlib.axes._subplots.AxesSubplot at 0x11c88ddd8>"
      ]
     },
     "execution_count": 47,
     "metadata": {},
     "output_type": "execute_result"
    },
    {
     "data": {
      "image/png": "[encoded data removed]",
      "text/plain": [
       "<matplotlib.figure.Figure at 0x11c8b6e10>"
      ]
     },
     "metadata": {},
     "output_type": "display_data"
    }
   ],
   "source": [
    "speed1m.plot()"
   ]
  },
  {
   "cell_type": "code",
   "execution_count": 51,
   "metadata": {},
   "outputs": [
    {
     "data": {
      "text/plain": [
       "<matplotlib.axes._subplots.AxesSubplot at 0x11ca9f588>"
      ]
     },
     "execution_count": 51,
     "metadata": {},
     "output_type": "execute_result"
    },
    {
     "data": {
      "image/png": "[encoded data removed]",
      "text/plain": [
       "<matplotlib.figure.Figure at 0x11ca956d8>"
      ]
     },
     "metadata": {},
     "output_type": "display_data"
    }
   ],
   "source": [
    "speed1m.plot.box()"
   ]
  },
  {
   "cell_type": "code",
   "execution_count": 52,
   "metadata": {},
   "outputs": [
    {
     "ename": "ModuleNotFoundError",
     "evalue": "No module named 'folium'",
     "output_type": "error",
     "traceback": [
      "\u001b[0;31m---------------------------------------------------------------------------\u001b[0m",
      "\u001b[0;31mModuleNotFoundError\u001b[0m                       Traceback (most recent call last)",
      "\u001b[0;32m<ipython-input-52-af6e4f19ef00>\u001b[0m in \u001b[0;36m<module>\u001b[0;34m()\u001b[0m\n\u001b[0;32m----> 1\u001b[0;31m \u001b[0;32mimport\u001b[0m \u001b[0mfolium\u001b[0m\u001b[0;34m\u001b[0m\u001b[0m\n\u001b[0m",
      "\u001b[0;31mModuleNotFoundError\u001b[0m: No module named 'folium'"
     ]
    }
   ],
   "source": [
    "import folium\n"
   ]
  },
  {
   "cell_type": "code",
   "execution_count": null,
   "metadata": {
    "collapsed": true
   },
   "outputs": [],
   "source": []
  }
 ],
 "metadata": {
  "kernelspec": {
   "display_name": "Python 3",
   "language": "python",
   "name": "python3"
  },
  "language_info": {
   "codemirror_mode": {
    "name": "ipython",
    "version": 3
   },
   "file_extension": ".py",
   "mimetype": "text/x-python",
   "name": "python",
   "nbconvert_exporter": "python",
   "pygments_lexer": "ipython3",
   "version": "3.6.3"
  }
 },
 "nbformat": 4,
 "nbformat_minor": 2
}
