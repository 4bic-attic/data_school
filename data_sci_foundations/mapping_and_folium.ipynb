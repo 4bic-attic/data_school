{
 "cells": [
  {
   "cell_type": "markdown",
   "metadata": {},
   "source": [
    "### Plotting a running track"
   ]
  },
  {
   "cell_type": "code",
   "execution_count": 1,
   "metadata": {
    "collapsed": true
   },
   "outputs": [],
   "source": [
    "import pandas as pd\n",
    "import geo"
   ]
  },
  {
   "cell_type": "markdown",
   "metadata": {},
   "source": [
    "###### Import data and view sample\n",
    "\n",
    "The data is captures in a csv file"
   ]
  },
  {
   "cell_type": "code",
   "execution_count": 2,
   "metadata": {},
   "outputs": [
    {
     "data": {
      "text/html": [
       "<div>\n",
       "<style>\n",
       "    .dataframe thead tr:only-child th {\n",
       "        text-align: right;\n",
       "    }\n",
       "\n",
       "    .dataframe thead th {\n",
       "        text-align: left;\n",
       "    }\n",
       "\n",
       "    .dataframe tbody tr th {\n",
       "        vertical-align: top;\n",
       "    }\n",
       "</style>\n",
       "<table border=\"1\" class=\"dataframe\">\n",
       "  <thead>\n",
       "    <tr style=\"text-align: right;\">\n",
       "      <th></th>\n",
       "      <th>time</th>\n",
       "      <th>lat</th>\n",
       "      <th>lng</th>\n",
       "      <th>height</th>\n",
       "    </tr>\n",
       "  </thead>\n",
       "  <tbody>\n",
       "    <tr>\n",
       "      <th>0</th>\n",
       "      <td>2015-08-20 03:48:07.235</td>\n",
       "      <td>35.015021</td>\n",
       "      <td>32.519585</td>\n",
       "      <td>136.199997</td>\n",
       "    </tr>\n",
       "    <tr>\n",
       "      <th>1</th>\n",
       "      <td>2015-08-20 03:48:24.734</td>\n",
       "      <td>35.014954</td>\n",
       "      <td>32.519606</td>\n",
       "      <td>126.599998</td>\n",
       "    </tr>\n",
       "    <tr>\n",
       "      <th>2</th>\n",
       "      <td>2015-08-20 03:48:25.660</td>\n",
       "      <td>35.014871</td>\n",
       "      <td>32.519612</td>\n",
       "      <td>123.000000</td>\n",
       "    </tr>\n",
       "    <tr>\n",
       "      <th>3</th>\n",
       "      <td>2015-08-20 03:48:26.819</td>\n",
       "      <td>35.014824</td>\n",
       "      <td>32.519654</td>\n",
       "      <td>120.500000</td>\n",
       "    </tr>\n",
       "    <tr>\n",
       "      <th>4</th>\n",
       "      <td>2015-08-20 03:48:27.828</td>\n",
       "      <td>35.014776</td>\n",
       "      <td>32.519689</td>\n",
       "      <td>118.900002</td>\n",
       "    </tr>\n",
       "  </tbody>\n",
       "</table>\n",
       "</div>"
      ],
      "text/plain": [
       "                     time        lat        lng      height\n",
       "0 2015-08-20 03:48:07.235  35.015021  32.519585  136.199997\n",
       "1 2015-08-20 03:48:24.734  35.014954  32.519606  126.599998\n",
       "2 2015-08-20 03:48:25.660  35.014871  32.519612  123.000000\n",
       "3 2015-08-20 03:48:26.819  35.014824  32.519654  120.500000\n",
       "4 2015-08-20 03:48:27.828  35.014776  32.519689  118.900002"
      ]
     },
     "execution_count": 2,
     "metadata": {},
     "output_type": "execute_result"
    }
   ],
   "source": [
    "df = pd.read_csv('track.csv',parse_dates=['time'])\n",
    "df.head()"
   ]
  },
  {
   "cell_type": "markdown",
   "metadata": {},
   "source": [
    "###### Index by the 'time' column\n",
    "\n",
    "Index the dataframe using the time column"
   ]
  },
  {
   "cell_type": "code",
   "execution_count": 3,
   "metadata": {
    "scrolled": true
   },
   "outputs": [
    {
     "data": {
      "text/plain": [
       "DatetimeIndex(['2015-08-20 03:48:07.235000', '2015-08-20 03:48:24.734000',\n",
       "               '2015-08-20 03:48:25.660000', '2015-08-20 03:48:26.819000',\n",
       "               '2015-08-20 03:48:27.828000', '2015-08-20 03:48:29.720000',\n",
       "               '2015-08-20 03:48:30.669000', '2015-08-20 03:48:33.793000',\n",
       "               '2015-08-20 03:48:34.869000', '2015-08-20 03:48:37.708000'],\n",
       "              dtype='datetime64[ns]', name='time', freq=None)"
      ]
     },
     "execution_count": 3,
     "metadata": {},
     "output_type": "execute_result"
    }
   ],
   "source": [
    "df.index = df.time \n",
    "df.index[:10]"
   ]
  },
  {
   "cell_type": "code",
   "execution_count": 8,
   "metadata": {},
   "outputs": [],
   "source": [
    "pd.Index?"
   ]
  },
  {
   "cell_type": "markdown",
   "metadata": {},
   "source": [
    "##### localize the time (OPTIONAL)"
   ]
  },
  {
   "cell_type": "code",
   "execution_count": null,
   "metadata": {
    "collapsed": true
   },
   "outputs": [],
   "source": [
    "import pytz"
   ]
  },
  {
   "cell_type": "code",
   "execution_count": null,
   "metadata": {},
   "outputs": [],
   "source": [
    "ts = df.index[0]\n",
    "ts.tz_localize(pytz.utc)"
   ]
  },
  {
   "cell_type": "code",
   "execution_count": null,
   "metadata": {},
   "outputs": [],
   "source": [
    "ts.tz_localize(pytz.UTC).tz_convert(pytz.timezone('Africa/Nairobi'))"
   ]
  },
  {
   "cell_type": "markdown",
   "metadata": {},
   "source": [
    "##### Plot marker on the map \n",
    "\n",
    "using a circular marker with a popup depicting time\n",
    "at a particular location"
   ]
  },
  {
   "cell_type": "code",
   "execution_count": null,
   "metadata": {
    "collapsed": true
   },
   "outputs": [],
   "source": [
    "import folium"
   ]
  },
  {
   "cell_type": "code",
   "execution_count": null,
   "metadata": {
    "scrolled": true
   },
   "outputs": [],
   "source": [
    "m = folium.Map(location=[df['lng'].mean(), df['lat'].mean()], zoom_start=15)\n",
    "\n",
    "row = df.iloc[321]\n",
    "marker = folium.CircleMarker([row['lng'], row['lat']], radius=5, color='red', popup=row['time'].strftime('%H:%M'))\n",
    "marker.add_to(m)\n",
    "\n",
    "m"
   ]
  },
  {
   "cell_type": "markdown",
   "metadata": {},
   "source": [
    "##### Plot track followed"
   ]
  },
  {
   "cell_type": "code",
   "execution_count": null,
   "metadata": {},
   "outputs": [],
   "source": [
    "m = folium.Map(location=[df['lng'].mean(), df['lat'].mean()], zoom_start=15)\n",
    "def add_marker(row):\n",
    "    marker = folium.CircleMarker([row['lng'], row['lat']], radius=5, color='red', popup=row['time'].strftime('%H:%M'))\n",
    "    marker.add_to(m)\n",
    "    \n",
    "df.apply(add_marker, axis=1)\n",
    "\n",
    "m"
   ]
  },
  {
   "cell_type": "markdown",
   "metadata": {},
   "source": [
    "##### Resample to clear overlaps "
   ]
  },
  {
   "cell_type": "code",
   "execution_count": null,
   "metadata": {
    "scrolled": true
   },
   "outputs": [],
   "source": [
    "m = folium.Map(location=[df['lng'].mean(), df['lat'].mean()], zoom_start=15)\n",
    "mdf = df.resample('T').mean()\n",
    "def add_marker(row):\n",
    "    marker = folium.CircleMarker([row['lng'], row['lat']], radius=5, color='red', popup=row.name.strftime('%H:%M'))\n",
    "    marker.add_to(m)\n",
    "    \n",
    "mdf.apply(add_marker, axis=1)\n",
    "\n",
    "m"
   ]
  },
  {
   "cell_type": "markdown",
   "metadata": {},
   "source": [
    "A check on the resampled data"
   ]
  },
  {
   "cell_type": "code",
   "execution_count": null,
   "metadata": {
    "scrolled": true
   },
   "outputs": [],
   "source": [
    "mdf.head()"
   ]
  },
  {
   "cell_type": "code",
   "execution_count": null,
   "metadata": {
    "collapsed": true
   },
   "outputs": [],
   "source": []
  }
 ],
 "metadata": {
  "kernelspec": {
   "display_name": "Python 3",
   "language": "python",
   "name": "python3"
  },
  "language_info": {
   "codemirror_mode": {
    "name": "ipython",
    "version": 3
   },
   "file_extension": ".py",
   "mimetype": "text/x-python",
   "name": "python",
   "nbconvert_exporter": "python",
   "pygments_lexer": "ipython3",
   "version": "3.6.3"
  }
 },
 "nbformat": 4,
 "nbformat_minor": 2
}
