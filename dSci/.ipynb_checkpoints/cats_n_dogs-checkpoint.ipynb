{
 "cells": [
  {
   "cell_type": "code",
   "execution_count": 2,
   "metadata": {
    "collapsed": false
   },
   "outputs": [],
   "source": [
    "# Import everything :)\n",
    "import re\n",
    "import numpy as np\n",
    "import pandas as pd \n",
    "import os \n",
    "import matplotlib.pyplot as plt\n",
    "#all executions to occur within a cell\n",
    "%matplotlib inline \n",
    "\n",
    "from bs4 import BeautifulSoup\n",
    "import requests\n",
    "import seaborn as sns\n",
    "\n",
    "#Disable CopyWithoutWarning\n",
    "pd.options.mode.chained_assignment = None\n"
   ]
  },
  {
   "cell_type": "code",
   "execution_count": 8,
   "metadata": {
    "collapsed": false
   },
   "outputs": [
    {
     "name": "stdout",
     "output_type": "stream",
     "text": [
      "Found 43871 rows.\n"
     ]
    },
    {
     "data": {
      "text/plain": [
       "['A664984',\n",
       " 'Buddy',\n",
       " '10/18/2013 06:46:00 PM',\n",
       " '10/18/2013 06:46:00 PM',\n",
       " 'Adoption',\n",
       " '',\n",
       " 'Dog',\n",
       " 'Neutered Male',\n",
       " '1 year',\n",
       " 'Pit Bull Mix',\n",
       " 'Blue']"
      ]
     },
     "execution_count": 8,
     "metadata": {},
     "output_type": "execute_result"
    }
   ],
   "source": [
    "import re\n",
    "import numpy as np\n",
    "import pandas as pd \n",
    "\n",
    "filename = '../data/Austin_Animal_Center_Outcomes.csv'\n",
    "# initialize empty list to store data\n",
    "data = []\n",
    "#  loop over rows & split each one into a list\n",
    "for line in open(filename).readlines():\n",
    "    line = line.strip().split(',')\n",
    "    data.append(line)\n",
    "    \n",
    "print(\"Found {} rows.\".format(len(data)))\n",
    "# print 1000th row to see how it looks like\n",
    "data[1000]\n"
   ]
  },
  {
   "cell_type": "code",
   "execution_count": 12,
   "metadata": {
    "collapsed": false
   },
   "outputs": [
    {
     "name": "stdout",
     "output_type": "stream",
     "text": [
      "  Animal ID     Name                DateTime               MonthYear  \\\n",
      "0   A659834  *Dudley  10/01/2013 09:31:00 AM  10/01/2013 09:31:00 AM   \n",
      "1   A664235      NaN  10/01/2013 10:39:00 AM  10/01/2013 10:39:00 AM   \n",
      "2   A664237      NaN  10/01/2013 10:44:00 AM  10/01/2013 10:44:00 AM   \n",
      "3   A664236      NaN  10/01/2013 10:44:00 AM  10/01/2013 10:44:00 AM   \n",
      "4   A664223     Moby  10/01/2013 11:03:00 AM  10/01/2013 11:03:00 AM   \n",
      "\n",
      "      Outcome Type Outcome Subtype Animal Type Sex upon Outcome  \\\n",
      "0         Adoption          Foster         Dog    Neutered Male   \n",
      "1         Transfer         Partner         Cat          Unknown   \n",
      "2         Transfer         Partner         Cat          Unknown   \n",
      "3         Transfer         Partner         Cat          Unknown   \n",
      "4  Return to Owner             NaN         Dog    Neutered Male   \n",
      "\n",
      "  Age upon Outcome                   Breed         Color  \n",
      "0         2 months  Labrador Retriever Mix         Black  \n",
      "1           1 week  Domestic Shorthair Mix  Orange/White  \n",
      "2           1 week  Domestic Shorthair Mix  Orange/White  \n",
      "3           1 week  Domestic Shorthair Mix  Orange/White  \n",
      "4          4 years             Bulldog Mix         White  \n"
     ]
    }
   ],
   "source": [
    "import re\n",
    "import numpy as np\n",
    "import pandas as pd \n",
    "\n",
    "filename = '../data/Austin_Animal_Center_Outcomes.csv'\n",
    "# initialize empty list to store data\n",
    "data = pd.read_csv(filename)\n",
    "\n",
    "# Read top 5 rows\n",
    "print (data.head(5))\n",
    "    "
   ]
  },
  {
   "cell_type": "code",
   "execution_count": null,
   "metadata": {
    "collapsed": true
   },
   "outputs": [],
   "source": []
  }
 ],
 "metadata": {
  "kernelspec": {
   "display_name": "Python 3",
   "language": "python",
   "name": "python3"
  },
  "language_info": {
   "codemirror_mode": {
    "name": "ipython",
    "version": 3
   },
   "file_extension": ".py",
   "mimetype": "text/x-python",
   "name": "python",
   "nbconvert_exporter": "python",
   "pygments_lexer": "ipython3",
   "version": "3.6.0"
  }
 },
 "nbformat": 4,
 "nbformat_minor": 2
}
