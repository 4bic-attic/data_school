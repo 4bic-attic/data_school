{
 "cells": [
  {
   "cell_type": "code",
   "execution_count": null,
   "metadata": {
    "collapsed": true,
    "slideshow": {
     "slide_type": "slide"
    }
   },
   "outputs": [],
   "source": [
    "Working with time series data"
   ]
  },
  {
   "cell_type": "code",
   "execution_count": 9,
   "metadata": {
    "collapsed": false
   },
   "outputs": [
    {
     "name": "stdout",
     "output_type": "stream",
     "text": [
      "0   2013-10-01 09:31:00\n",
      "1   2013-10-01 10:39:00\n",
      "2   2013-10-01 10:44:00\n",
      "Name: datetime, dtype: datetime64[ns]\n"
     ]
    },
    {
     "data": {
      "text/html": [
       "<div>\n",
       "<table border=\"1\" class=\"dataframe\">\n",
       "  <thead>\n",
       "    <tr style=\"text-align: right;\">\n",
       "      <th></th>\n",
       "      <th>Unnamed: 0</th>\n",
       "      <th>id</th>\n",
       "      <th>Name</th>\n",
       "      <th>datetime</th>\n",
       "      <th>MonthYear</th>\n",
       "      <th>outcome</th>\n",
       "      <th>outcome_subtype</th>\n",
       "      <th>animal</th>\n",
       "      <th>sex_string</th>\n",
       "      <th>age_string</th>\n",
       "      <th>Breed</th>\n",
       "      <th>Color</th>\n",
       "    </tr>\n",
       "  </thead>\n",
       "  <tbody>\n",
       "    <tr>\n",
       "      <th>0</th>\n",
       "      <td>0</td>\n",
       "      <td>A659834</td>\n",
       "      <td>*Dudley</td>\n",
       "      <td>2013-10-01 09:31:00</td>\n",
       "      <td>10/01/2013 09:31:00 AM</td>\n",
       "      <td>Adoption</td>\n",
       "      <td>Foster</td>\n",
       "      <td>Dog</td>\n",
       "      <td>Neutered Male</td>\n",
       "      <td>2 months</td>\n",
       "      <td>Labrador Retriever Mix</td>\n",
       "      <td>Black</td>\n",
       "    </tr>\n",
       "    <tr>\n",
       "      <th>1</th>\n",
       "      <td>1</td>\n",
       "      <td>A664235</td>\n",
       "      <td>NaN</td>\n",
       "      <td>2013-10-01 10:39:00</td>\n",
       "      <td>10/01/2013 10:39:00 AM</td>\n",
       "      <td>Transfer</td>\n",
       "      <td>Partner</td>\n",
       "      <td>Cat</td>\n",
       "      <td>Unknown</td>\n",
       "      <td>1 week</td>\n",
       "      <td>Domestic Shorthair Mix</td>\n",
       "      <td>Orange/White</td>\n",
       "    </tr>\n",
       "    <tr>\n",
       "      <th>2</th>\n",
       "      <td>2</td>\n",
       "      <td>A664237</td>\n",
       "      <td>NaN</td>\n",
       "      <td>2013-10-01 10:44:00</td>\n",
       "      <td>10/01/2013 10:44:00 AM</td>\n",
       "      <td>Transfer</td>\n",
       "      <td>Partner</td>\n",
       "      <td>Cat</td>\n",
       "      <td>Unknown</td>\n",
       "      <td>1 week</td>\n",
       "      <td>Domestic Shorthair Mix</td>\n",
       "      <td>Orange/White</td>\n",
       "    </tr>\n",
       "  </tbody>\n",
       "</table>\n",
       "</div>"
      ],
      "text/plain": [
       "   Unnamed: 0       id     Name            datetime               MonthYear  \\\n",
       "0           0  A659834  *Dudley 2013-10-01 09:31:00  10/01/2013 09:31:00 AM   \n",
       "1           1  A664235      NaN 2013-10-01 10:39:00  10/01/2013 10:39:00 AM   \n",
       "2           2  A664237      NaN 2013-10-01 10:44:00  10/01/2013 10:44:00 AM   \n",
       "\n",
       "    outcome outcome_subtype animal     sex_string age_string  \\\n",
       "0  Adoption          Foster    Dog  Neutered Male   2 months   \n",
       "1  Transfer         Partner    Cat        Unknown     1 week   \n",
       "2  Transfer         Partner    Cat        Unknown     1 week   \n",
       "\n",
       "                    Breed         Color  \n",
       "0  Labrador Retriever Mix         Black  \n",
       "1  Domestic Shorthair Mix  Orange/White  \n",
       "2  Domestic Shorthair Mix  Orange/White  "
      ]
     },
     "execution_count": 9,
     "metadata": {},
     "output_type": "execute_result"
    }
   ],
   "source": [
    "# Working with time series data\n",
    "import re\n",
    "import numpy as np\n",
    "import pandas as pd \n",
    "\n",
    "filename = '../data/Animals_center_data.csv'\n",
    "# read data & create DataFrame\n",
    "data = pd.DataFrame(pd.read_csv(filename))\n",
    "\n",
    "# Convert the datetime column to actual datetimes\n",
    "data['datetime'] = pd.to_datetime(data['datetime'])\n",
    "\n",
    "# # Datetime-related functions are accessed through the .dt attribute\n",
    "# data['year'] = data['datetime'].dt.year\n",
    "# data['hour'] = data['datetime'].dt.hour\n",
    "# data['day'] = data['datetime'].dt.weekday\n",
    "\n",
    "print(data['datetime'][:3])\n",
    "data.head(3)\n",
    "# extract age string in months from string values to numeric\n",
    "\n",
    "def extract_months(value):\n",
    "    try:\n",
    "        number, unit = value.split(' ')\n",
    "        number = int(number)\n",
    "        \n",
    "        if unit.startswith('year'):\n",
    "            number *= 12\n",
    "            \n",
    "    except:\n",
    "        number = np.nan\n",
    "    \n",
    "    return number\n",
    "\n",
    "data['age'] = data['age_string'].apply(extract_months)\n",
    "                \n",
    "            \n",
    "        "
   ]
  },
  {
   "cell_type": "code",
   "execution_count": null,
   "metadata": {
    "collapsed": true
   },
   "outputs": [],
   "source": []
  }
 ],
 "metadata": {
  "kernelspec": {
   "display_name": "Python 3",
   "language": "python",
   "name": "python3"
  },
  "language_info": {
   "codemirror_mode": {
    "name": "ipython",
    "version": 3
   },
   "file_extension": ".py",
   "mimetype": "text/x-python",
   "name": "python",
   "nbconvert_exporter": "python",
   "pygments_lexer": "ipython3",
   "version": "3.6.0"
  }
 },
 "nbformat": 4,
 "nbformat_minor": 2
}
