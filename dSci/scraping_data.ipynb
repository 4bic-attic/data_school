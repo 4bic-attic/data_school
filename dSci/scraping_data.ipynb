{
 "cells": [
  {
   "cell_type": "code",
   "execution_count": null,
   "metadata": {
    "collapsed": false
   },
   "outputs": [],
   "source": [
    "# Import everything :)\n",
    "import re\n",
    "import numpy as np\n",
    "import pandas as pd \n",
    "import os \n",
    "import matplotlib.pyplot as plt\n",
    "#all executions to occur within a cell\n",
    "%matplotlib inline \n",
    "from bs4 import BeautifulSoup\n",
    "import requests\n",
    "import seaborn as sns\n",
    "\n",
    "\n",
    "headers = {'User-Agent': 'Mozilla/5.0 (Macintosh; Intel Mac OS X 10_10_1) AppleWebKit/537.36 (KHTML, like Gecko) Chrome/41.0.2227.1 Safari/537.36' }\n",
    "url = \"http://www.wisdompanel.com/breed_count_matters/breedlisting/?browseby=size&F_All=Y\"\n",
    "\n",
    "html = requests.get(url, headers=headers).text\n",
    "\n",
    "# create a BeautifulSoup document\n",
    "soup = BeautifulSoup(html, 'html.parser')\n",
    "\n",
    "# extract links to all breeds with BeatifulSoup\n",
    "breed_links = soup.select('h3.itemTitle a')\n",
    "\n",
    "breed_links = [\"http://www.wisdompanel.com/\" + a['href'] for a in breed_links]\n",
    "print (\"Retieving data for {} breeds\".format(len(breed_links)))\n",
    "\n",
    "breed_data = []\n",
    "for breed in breed_links:\n",
    "    try:\n",
    "        breed_html = requests.get(breed, headers=headers).text\n",
    "        \n",
    "        #use regular expression to extract name,height, width,description and group\n",
    "        name = re.search('<h3>AKC Name:</h3>(.*?)<', breed_html, re.DOTALL).group(1)\n",
    "        min_weight, max_weight = re.search('<h3>Observed Weight:</h3>(\\d+)[\\s-]+(\\d+)', breed_html, re.DOTALL).groups()\n",
    "        height = re.search('Average Height:\\s+(\\d+)', breed_html, re.DOTALL).group(1)\n",
    "        group = re.search('<h3>Genetic Group:</h3>(.*?)<',breed_html, re.DOTALL).group(1)\n",
    "        breed_row = [name, min_weight, max_weight, height, group]\n",
    "        \n",
    "        print(\"Retrieved breed data : \", breed_row)\n",
    "        breed_data.append(breed_row)\n",
    "        \n",
    "        #some breed pages might have formatting errors thus skip them\n",
    "    except:\n",
    "        pass\n",
    "    \n",
    "    \n",
    "        "
   ]
  },
  {
   "cell_type": "code",
   "execution_count": null,
   "metadata": {
    "collapsed": true
   },
   "outputs": [],
   "source": []
  }
 ],
 "metadata": {
  "kernelspec": {
   "display_name": "Python 3",
   "language": "python",
   "name": "python3"
  },
  "language_info": {
   "codemirror_mode": {
    "name": "ipython",
    "version": 3
   },
   "file_extension": ".py",
   "mimetype": "text/x-python",
   "name": "python",
   "nbconvert_exporter": "python",
   "pygments_lexer": "ipython3",
   "version": "3.6.0"
  }
 },
 "nbformat": 4,
 "nbformat_minor": 2
}
