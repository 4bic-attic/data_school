{
 "cells": [
  {
   "cell_type": "code",
   "execution_count": 17,
   "metadata": {
    "collapsed": false
   },
   "outputs": [
    {
     "name": "stdout",
     "output_type": "stream",
     "text": [
      "Retrieving data for 210 breeds.\n",
      "Successfully saved breed data to ../data/breed_data.csv.\n"
     ]
    }
   ],
   "source": [
    "# Import everything :)\n",
    "import re\n",
    "import numpy as np\n",
    "import pandas as pd \n",
    "import os \n",
    "import matplotlib.pyplot as plt\n",
    "#all executions to occur within a cell\n",
    "%matplotlib inline \n",
    "from bs4 import BeautifulSoup\n",
    "import requests\n",
    "import seaborn as sns\n",
    "\n",
    "headers = { 'User-Agent': 'Mozilla/5.0 (Macintosh; Intel Mac OS X 10_10_1) AppleWebKit/537.36 (KHTML, like Gecko) Chrome/41.0.2227.1 Safari/537.36'}\n",
    "url = \"http://www.wisdompanel.com/breed_count_matters/breedlisting/?browseby=size&F_All=Y\"\n",
    "\n",
    "html = requests.get(url, headers=headers).text\n",
    "\n",
    "# Create a BeautifulSoup document\n",
    "soup = BeautifulSoup(html, 'html.parser')\n",
    "\n",
    "# Extract links to all breeds with BeautifulSoup\n",
    "breed_links = soup.select('h3.itemTitle a')\n",
    "\n",
    "breed_links = [\"http://www.wisdompanel.com/\" + a['href'] for a in breed_links]\n",
    "print(\"Retrieving data for {} breeds.\".format(len(breed_links)))\n",
    "\n",
    "breed_data = []\n",
    "for breed in breed_links:\n",
    "\n",
    "    try:\n",
    "        breed_html = requests.get(breed, headers=headers).text\n",
    "\n",
    "        # Use regular expressions to extract name, height, width, description, and group\n",
    "        name = re.search('<h3>AKC Name:</h3>(.*?)<', breed_html, re.DOTALL).group(1)\n",
    "        min_weight, max_weight = re.search('<h3>Observed Weight:</h3>(\\d+)[\\s-]+(\\d+)', breed_html, re.DOTALL).groups()\n",
    "        height = re.search('Average Height:\\s+(\\d+)', breed_html, re.DOTALL).group(1)\n",
    "        group = re.search('<h3>Genetic Group:</h3>(.*?)<', breed_html, re.DOTALL).group(1)\n",
    "        breed_row = [name, min_weight, max_weight, height, group]\n",
    "        print(\"Retrieved breed data: \", breed_row)\n",
    "        breed_data.append(breed_row)\n",
    "        \n",
    "    # Some breed pages have formatting errors, so we'll just skip them\n",
    "    except:\n",
    "        pass\n",
    "\n",
    "# Put the data in a pandas DataFrame\n",
    "breed_data = pd.DataFrame(breed_data, columns=['breed_name', 'min_weight', 'max_weight', 'height', 'group'])\n",
    "\n",
    "# Create output directory if it doesn't exist\n",
    "output_dir = os.path.join('..', 'data')\n",
    "if not os.path.exists(output_dir):\n",
    "    os.makedirs(output_dir)\n",
    "\n",
    "# Save the breed data locally for re-use\n",
    "output_file = os.path.join(output_dir, 'breed_data.csv')\n",
    "breed_data.to_csv(output_file, index=False, encoding='utf8'),\n",
    "print(\"Successfully saved breed data to {}.\".format(output_file))"
   ]
  },
  {
   "cell_type": "code",
   "execution_count": null,
   "metadata": {
    "collapsed": true
   },
   "outputs": [],
   "source": []
  }
 ],
 "metadata": {
  "kernelspec": {
   "display_name": "Python 3",
   "language": "python",
   "name": "python3"
  },
  "language_info": {
   "codemirror_mode": {
    "name": "ipython",
    "version": 3
   },
   "file_extension": ".py",
   "mimetype": "text/x-python",
   "name": "python",
   "nbconvert_exporter": "python",
   "pygments_lexer": "ipython3",
   "version": "3.6.0"
  }
 },
 "nbformat": 4,
 "nbformat_minor": 2
}
