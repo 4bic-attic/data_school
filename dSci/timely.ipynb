{
 "cells": [
  {
   "cell_type": "code",
   "execution_count": null,
   "metadata": {
    "collapsed": true,
    "slideshow": {
     "slide_type": "slide"
    }
   },
   "outputs": [],
   "source": [
    "Working with time series data"
   ]
  },
  {
   "cell_type": "code",
   "execution_count": 17,
   "metadata": {
    "collapsed": false
   },
   "outputs": [
    {
     "name": "stdout",
     "output_type": "stream",
     "text": [
      "0   2013-10-01 09:31:00\n",
      "1   2013-10-01 10:39:00\n",
      "2   2013-10-01 10:44:00\n",
      "Name: datetime, dtype: datetime64[ns]\n"
     ]
    },
    {
     "data": {
      "text/html": [
       "<div>\n",
       "<table border=\"1\" class=\"dataframe\">\n",
       "  <thead>\n",
       "    <tr style=\"text-align: right;\">\n",
       "      <th></th>\n",
       "      <th>age_string</th>\n",
       "      <th>age</th>\n",
       "    </tr>\n",
       "  </thead>\n",
       "  <tbody>\n",
       "    <tr>\n",
       "      <th>0</th>\n",
       "      <td>2 months</td>\n",
       "      <td>2.00</td>\n",
       "    </tr>\n",
       "    <tr>\n",
       "      <th>1</th>\n",
       "      <td>1 week</td>\n",
       "      <td>0.25</td>\n",
       "    </tr>\n",
       "    <tr>\n",
       "      <th>2</th>\n",
       "      <td>1 week</td>\n",
       "      <td>0.25</td>\n",
       "    </tr>\n",
       "    <tr>\n",
       "      <th>3</th>\n",
       "      <td>1 week</td>\n",
       "      <td>0.25</td>\n",
       "    </tr>\n",
       "    <tr>\n",
       "      <th>4</th>\n",
       "      <td>4 years</td>\n",
       "      <td>48.00</td>\n",
       "    </tr>\n",
       "    <tr>\n",
       "      <th>5</th>\n",
       "      <td>3 years</td>\n",
       "      <td>36.00</td>\n",
       "    </tr>\n",
       "    <tr>\n",
       "      <th>6</th>\n",
       "      <td>2 years</td>\n",
       "      <td>24.00</td>\n",
       "    </tr>\n",
       "    <tr>\n",
       "      <th>7</th>\n",
       "      <td>3 years</td>\n",
       "      <td>36.00</td>\n",
       "    </tr>\n",
       "    <tr>\n",
       "      <th>8</th>\n",
       "      <td>9 years</td>\n",
       "      <td>108.00</td>\n",
       "    </tr>\n",
       "    <tr>\n",
       "      <th>9</th>\n",
       "      <td>6 months</td>\n",
       "      <td>6.00</td>\n",
       "    </tr>\n",
       "  </tbody>\n",
       "</table>\n",
       "</div>"
      ],
      "text/plain": [
       "  age_string     age\n",
       "0   2 months    2.00\n",
       "1     1 week    0.25\n",
       "2     1 week    0.25\n",
       "3     1 week    0.25\n",
       "4    4 years   48.00\n",
       "5    3 years   36.00\n",
       "6    2 years   24.00\n",
       "7    3 years   36.00\n",
       "8    9 years  108.00\n",
       "9   6 months    6.00"
      ]
     },
     "execution_count": 17,
     "metadata": {},
     "output_type": "execute_result"
    }
   ],
   "source": [
    "# Working with time series data\n",
    "import re\n",
    "import numpy as np\n",
    "import pandas as pd \n",
    "\n",
    "filename = '../data/Animals_center_data.csv'\n",
    "# read data & create DataFrame\n",
    "data = pd.DataFrame(pd.read_csv(filename))\n",
    "\n",
    "# Convert the datetime column to actual datetimes\n",
    "data['datetime'] = pd.to_datetime(data['datetime'])\n",
    "\n",
    "# # Datetime-related functions are accessed through the .dt attribute\n",
    "# data['year'] = data['datetime'].dt.year\n",
    "# data['hour'] = data['datetime'].dt.hour\n",
    "# data['day'] = data['datetime'].dt.weekday\n",
    "\n",
    "print(data['datetime'][:3])\n",
    "data.head(3)\n",
    "# extract age string in months from string values to numeric\n",
    "\n",
    "def extract_months(value):\n",
    "    try:\n",
    "        number, unit = value.split(' ')\n",
    "        number = int(number)\n",
    "        \n",
    "        if unit.startswith('year'):\n",
    "            number *= 12\n",
    "        elif unit.startswith('week'):\n",
    "            number *= 0.25\n",
    "            \n",
    "    except:\n",
    "        number = np.nan\n",
    "    \n",
    "    return number\n",
    "\n",
    "data['age'] = data['age_string'].apply(extract_months)\n",
    "                \n",
    "data[['age_string', 'age']][:10]            \n",
    "        "
   ]
  },
  {
   "cell_type": "code",
   "execution_count": null,
   "metadata": {
    "collapsed": true
   },
   "outputs": [],
   "source": []
  }
 ],
 "metadata": {
  "kernelspec": {
   "display_name": "Python 3",
   "language": "python",
   "name": "python3"
  },
  "language_info": {
   "codemirror_mode": {
    "name": "ipython",
    "version": 3
   },
   "file_extension": ".py",
   "mimetype": "text/x-python",
   "name": "python",
   "nbconvert_exporter": "python",
   "pygments_lexer": "ipython3",
   "version": "3.6.0"
  }
 },
 "nbformat": 4,
 "nbformat_minor": 2
}
