{
 "cells": [
  {
   "cell_type": "code",
   "execution_count": null,
   "metadata": {
    "collapsed": false
   },
   "outputs": [],
   "source": [
    "from bokeh.plotting import figure, output_file, show\n",
    "import pandas as pd\n",
    "%matplotlib notebook\n",
    "\n",
    "df = pd.read_csv(\"data/adbe.csv\", parse_dates=[\"Date\"])\n",
    "p=figure(width=700,height=500,x_axis_type=\"datetime\")\n",
    "y = df[\"Open\"]\n",
    "\n",
    "p.line(df[\"Date\"],df[\"Close\"], color=\"blue\", alpha=0.5)\n",
    "# second plot\n",
    "p.circle(df[\"Date\"],(df[\"Open\"]*1.2), color='red',alpha=0.5)\n",
    "\n",
    "# labelling \n",
    "p.title.text='Multiple observations'\n",
    "p.xaxis.axis_label=\"Time\"\n",
    "p.yaxis.axis_label=\"Value\"\n",
    "\n",
    "# output file\n",
    "output_file(\"plots/multiple_plot.html\",mode='inline')\n",
    "\n",
    "show(p)"
   ]
  }
 ],
 "metadata": {
  "kernelspec": {
   "display_name": "Python 3",
   "language": "python",
   "name": "python3"
  },
  "language_info": {
   "codemirror_mode": {
    "name": "ipython",
    "version": 3
   },
   "file_extension": ".py",
   "mimetype": "text/x-python",
   "name": "python",
   "nbconvert_exporter": "python",
   "pygments_lexer": "ipython3",
   "version": "3.6.0"
  }
 },
 "nbformat": 4,
 "nbformat_minor": 2
}
