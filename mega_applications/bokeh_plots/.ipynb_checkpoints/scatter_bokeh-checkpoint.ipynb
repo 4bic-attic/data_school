{
 "cells": [
  {
   "cell_type": "code",
   "execution_count": 20,
   "metadata": {
    "collapsed": false
   },
   "outputs": [],
   "source": [
    "from bokeh.charts import Scatter, output_file, show\n",
    "import pandas as pd\n",
    "%matplotlib notebook\n",
    "\n",
    "df = pd.DataFrame(columns=['X','Y'])\n",
    "df['X']=[1,2,3,4,5]\n",
    "df['Y']=[5,6,5,8,5]\n",
    "\n",
    "# create plot\n",
    "p=Scatter(df, x='X', y='Y', title='Temperature observation',\n",
    "          xlabel=\"Day of Observation\", ylabel=\"Temperature\")\n",
    "# output file\n",
    "output_file =(\"bokeh_plots/scatter_chart.html\")\n",
    "\n",
    "show(p)\n"
   ]
  },
  {
   "cell_type": "code",
   "execution_count": null,
   "metadata": {
    "collapsed": true
   },
   "outputs": [],
   "source": []
  }
 ],
 "metadata": {
  "kernelspec": {
   "display_name": "Python 3",
   "language": "python",
   "name": "python3"
  },
  "language_info": {
   "codemirror_mode": {
    "name": "ipython",
    "version": 3
   },
   "file_extension": ".py",
   "mimetype": "text/x-python",
   "name": "python",
   "nbconvert_exporter": "python",
   "pygments_lexer": "ipython3",
   "version": "3.6.0"
  }
 },
 "nbformat": 4,
 "nbformat_minor": 2
}
