{
 "cells": [
  {
   "cell_type": "code",
   "execution_count": 1,
   "metadata": {
    "collapsed": false
   },
   "outputs": [],
   "source": [
    "from bokeh.charts import Scatter, output_file, show\n",
    "import pandas as pd\n",
    "%matplotlib notebook\n",
    "\n",
    "df = pd.DataFrame(columns=['X','Y'])\n",
    "x =df['X']=[1,2,3,4,5]\n",
    "y =df['Y']=[5,6,5,8,5]\n",
    "\n",
    "# create plot\n",
    "p=Scatter(df, x='X', y='Y', title='Temperature observation',\n",
    "          xlabel=\"Day of Observation\", ylabel=\"Temperature\")\n",
    "# output file\n",
    "output_file =(\"scatter_chart.html\")\n",
    "\n",
    "show(p)"
   ]
  },
  {
   "cell_type": "code",
   "execution_count": 31,
   "metadata": {
    "collapsed": false
   },
   "outputs": [
    {
     "name": "stderr",
     "output_type": "stream",
     "text": [
      "/Users/4bic/anaconda/lib/python3.6/site-packages/bokeh/util/deprecation.py:33: BokehDeprecationWarning: Setting Plot property 'title' using a string was deprecated in 0.12.0,\n",
      "            and will be removed. The title is now an object on Plot (which holds all of it's\n",
      "            styling properties). Please use Plot.title.text instead.\n",
      "\n",
      "            SERVER USERS: If you were using plot.title to have the server update the plot title\n",
      "            in a callback, you MUST update to plot.title.text as the title object cannot currently\n",
      "            be replaced after intialization.\n",
      "            \n",
      "  warn(message)\n"
     ]
    }
   ],
   "source": [
    "from bokeh.plotting import figure, output_file, show\n",
    "\n",
    "p_2=figure(plot_width=500, plot_height=400)\n",
    "\n",
    "# styling\n",
    "p_2.title=\"Earthquake Tremors\"\n",
    "p_2.title.text_color = \"Brown\"\n",
    "p_2.title.text_font = \"times\"\n",
    "\n",
    "# label axis\n",
    "p_2.xaxis.axis_label = \"Times\"\n",
    "p_2.yaxis.axis_label = \"Magnitude\"\n",
    "# plot takes in circle, triangle, square\n",
    "p_2.circle(x,y,size=[16,18,28,22,30],color=\"red\")\n",
    "\n",
    "output_file=(\"Scatter_two_plotting.html\")\n",
    "\n",
    "show(p_2)\n"
   ]
  },
  {
   "cell_type": "code",
   "execution_count": null,
   "metadata": {
    "collapsed": true
   },
   "outputs": [],
   "source": []
  }
 ],
 "metadata": {
  "kernelspec": {
   "display_name": "Python 3",
   "language": "python",
   "name": "python3"
  },
  "language_info": {
   "codemirror_mode": {
    "name": "ipython",
    "version": 3
   },
   "file_extension": ".py",
   "mimetype": "text/x-python",
   "name": "python",
   "nbconvert_exporter": "python",
   "pygments_lexer": "ipython3",
   "version": "3.6.0"
  }
 },
 "nbformat": 4,
 "nbformat_minor": 2
}
