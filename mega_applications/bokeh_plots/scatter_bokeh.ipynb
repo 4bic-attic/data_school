{
 "cells": [
  {
   "cell_type": "code",
   "execution_count": 39,
   "metadata": {
    "collapsed": false
   },
   "outputs": [],
   "source": [
    "from bokeh.charts import Scatter, output_file, show\n",
    "import pandas as pd\n",
    "%matplotlib notebook\n",
    "\n",
    "df = pd.DataFrame(columns=['X','Y'])\n",
    "x =df['X']=[1,2,3,4,5]\n",
    "y =df['Y']=[5,6,5,8,5]\n",
    "\n",
    "# create plot\n",
    "p=Scatter(df, x='X', y='Y', title='Temperature observation',\n",
    "          xlabel=\"Day of Observation\", ylabel=\"Temperature\")\n",
    "# output file\n",
    "output_file =(\"scatter_chart.html\")\n",
    "\n",
    "show(p)"
   ]
  },
  {
   "cell_type": "code",
   "execution_count": 31,
   "metadata": {
    "collapsed": false
   },
   "outputs": [
    {
     "name": "stderr",
     "output_type": "stream",
     "text": [
      "/Users/4bic/anaconda/lib/python3.6/site-packages/bokeh/util/deprecation.py:33: BokehDeprecationWarning: Setting Plot property 'title' using a string was deprecated in 0.12.0,\n",
      "            and will be removed. The title is now an object on Plot (which holds all of it's\n",
      "            styling properties). Please use Plot.title.text instead.\n",
      "\n",
      "            SERVER USERS: If you were using plot.title to have the server update the plot title\n",
      "            in a callback, you MUST update to plot.title.text as the title object cannot currently\n",
      "            be replaced after intialization.\n",
      "            \n",
      "  warn(message)\n"
     ]
    }
   ],
   "source": [
    "from bokeh.plotting import figure, output_file, show\n",
    "\n",
    "p_2=figure(plot_width=500, plot_height=400)\n",
    "\n",
    "# styling\n",
    "p_2.title=\"Earthquake Tremors\"\n",
    "p_2.title.text_color = \"Brown\"\n",
    "p_2.title.text_font = \"times\"\n",
    "\n",
    "# label axis\n",
    "p_2.xaxis.axis_label = \"Times\"\n",
    "p_2.yaxis.axis_label = \"Magnitude\"\n",
    "# plot takes in circle, triangle, square\n",
    "p_2.circle(x,y,size=[16,18,28,22,30],color=\"red\")\n",
    "\n",
    "output_file=(\"Scatter_two_plotting.html\")\n",
    "\n",
    "show(p_2)\n"
   ]
  },
  {
   "cell_type": "code",
   "execution_count": 32,
   "metadata": {
    "collapsed": true
   },
   "outputs": [],
   "source": [
    "# plotting from pandas dataframe"
   ]
  },
  {
   "cell_type": "code",
   "execution_count": null,
   "metadata": {
    "collapsed": true
   },
   "outputs": [],
   "source": [
    "# Please produce a graph using the data from\n",
    "# this Excel file: http://pythonhow.com/verlegenhuken.xlsx\n",
    "\n",
    "# Some notes:\n",
    "#     Temperature and pressure values in the Excel file\n",
    "#     have a scale factor of 10.\n",
    "#     That means you'll have to divide those values by 10\n",
    "#     to get the actual observations.\n",
    "\n"
   ]
  },
  {
   "cell_type": "code",
   "execution_count": 52,
   "metadata": {
    "collapsed": false
   },
   "outputs": [
    {
     "data": {
      "text/html": [
       "<div>\n",
       "<table border=\"1\" class=\"dataframe\">\n",
       "  <thead>\n",
       "    <tr style=\"text-align: right;\">\n",
       "      <th></th>\n",
       "      <th>Year</th>\n",
       "      <th>Month</th>\n",
       "      <th>Day</th>\n",
       "      <th>Hour</th>\n",
       "      <th>Temperature</th>\n",
       "      <th>Pressure</th>\n",
       "    </tr>\n",
       "  </thead>\n",
       "  <tbody>\n",
       "    <tr>\n",
       "      <th>0</th>\n",
       "      <td>2010</td>\n",
       "      <td>10</td>\n",
       "      <td>6</td>\n",
       "      <td>3</td>\n",
       "      <td>-30</td>\n",
       "      <td>9984</td>\n",
       "    </tr>\n",
       "    <tr>\n",
       "      <th>1</th>\n",
       "      <td>2010</td>\n",
       "      <td>10</td>\n",
       "      <td>6</td>\n",
       "      <td>9</td>\n",
       "      <td>-28</td>\n",
       "      <td>9992</td>\n",
       "    </tr>\n",
       "    <tr>\n",
       "      <th>2</th>\n",
       "      <td>2010</td>\n",
       "      <td>10</td>\n",
       "      <td>6</td>\n",
       "      <td>10</td>\n",
       "      <td>-24</td>\n",
       "      <td>9987</td>\n",
       "    </tr>\n",
       "    <tr>\n",
       "      <th>3</th>\n",
       "      <td>2010</td>\n",
       "      <td>10</td>\n",
       "      <td>6</td>\n",
       "      <td>11</td>\n",
       "      <td>-19</td>\n",
       "      <td>9987</td>\n",
       "    </tr>\n",
       "    <tr>\n",
       "      <th>4</th>\n",
       "      <td>2010</td>\n",
       "      <td>10</td>\n",
       "      <td>6</td>\n",
       "      <td>12</td>\n",
       "      <td>-19</td>\n",
       "      <td>9985</td>\n",
       "    </tr>\n",
       "  </tbody>\n",
       "</table>\n",
       "</div>"
      ],
      "text/plain": [
       "   Year  Month  Day  Hour  Temperature  Pressure\n",
       "0  2010     10    6     3          -30      9984\n",
       "1  2010     10    6     9          -28      9992\n",
       "2  2010     10    6    10          -24      9987\n",
       "3  2010     10    6    11          -19      9987\n",
       "4  2010     10    6    12          -19      9985"
      ]
     },
     "execution_count": 52,
     "metadata": {},
     "output_type": "execute_result"
    }
   ],
   "source": [
    "from bokeh.plotting import figure, output_file, show\n",
    "import pandas as pd\n",
    "\n",
    "data = pd.DataFrame(pd.read_excel(\"verlegenhuken.xlsx\"))\n",
    "data.head()"
   ]
  },
  {
   "cell_type": "code",
   "execution_count": 66,
   "metadata": {
    "collapsed": false
   },
   "outputs": [
    {
     "name": "stderr",
     "output_type": "stream",
     "text": [
      "/Users/4bic/anaconda/lib/python3.6/site-packages/bokeh/util/deprecation.py:33: BokehDeprecationWarning: Setting Plot property 'title' using a string was deprecated in 0.12.0,\n",
      "            and will be removed. The title is now an object on Plot (which holds all of it's\n",
      "            styling properties). Please use Plot.title.text instead.\n",
      "\n",
      "            SERVER USERS: If you were using plot.title to have the server update the plot title\n",
      "            in a callback, you MUST update to plot.title.text as the title object cannot currently\n",
      "            be replaced after intialization.\n",
      "            \n",
      "  warn(message)\n",
      "/Users/4bic/anaconda/lib/python3.6/site-packages/bokeh/util/deprecation.py:33: BokehDeprecationWarning: Plot.title_text_font_style was deprecated in Bokeh 0.12.0 and will be removed, use Plot.title.text_font_style instead.\n",
      "  warn(message)\n"
     ]
    }
   ],
   "source": [
    "# create new figure\n",
    "p_3=figure(plot_width=500, plot_height=400)\n",
    "# divide by scale factor of 10 for x and y values\n",
    "pressure = data[\"Pressure\"]/10\n",
    "temp = data[\"Temperature\"]/10\n",
    "\n",
    "# plot graph \n",
    "p_3.circle(temp,pressure,)\n",
    "\n",
    "# stylling and lebelling\n",
    "p_3.title=\"Temperature and Air Presssure\"\n",
    "p_3.title_text_font_style=\"bold\"\n",
    "p_3.xaxis.axis_label = \"Temparature(c)\"\n",
    "p_3.yaxis.axis_label = \"Magnitude(hPa)\"\n",
    "\n",
    "output_file=(\"temp_vs_air_presssure.html\")\n",
    "\n",
    "show(p_3)\n",
    "\n",
    "\n",
    "\n",
    "\n",
    "\n"
   ]
  },
  {
   "cell_type": "code",
   "execution_count": null,
   "metadata": {
    "collapsed": false
   },
   "outputs": [],
   "source": []
  },
  {
   "cell_type": "code",
   "execution_count": null,
   "metadata": {
    "collapsed": true
   },
   "outputs": [],
   "source": []
  }
 ],
 "metadata": {
  "kernelspec": {
   "display_name": "Python 3",
   "language": "python",
   "name": "python3"
  },
  "language_info": {
   "codemirror_mode": {
    "name": "ipython",
    "version": 3
   },
   "file_extension": ".py",
   "mimetype": "text/x-python",
   "name": "python",
   "nbconvert_exporter": "python",
   "pygments_lexer": "ipython3",
   "version": "3.6.0"
  }
 },
 "nbformat": 4,
 "nbformat_minor": 2
}
