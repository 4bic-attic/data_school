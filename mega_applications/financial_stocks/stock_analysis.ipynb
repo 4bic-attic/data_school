{
 "cells": [
  {
   "cell_type": "code",
   "execution_count": 24,
   "metadata": {
    "collapsed": false
   },
   "outputs": [],
   "source": [
    "from pandas_datareader import data\n",
    "import datetime\n",
    "from bokeh.plotting import figure, show, output_file"
   ]
  },
  {
   "cell_type": "code",
   "execution_count": 25,
   "metadata": {
    "collapsed": true
   },
   "outputs": [],
   "source": [
    "##Data from Google Finance\n",
    "# aapl = DataReader(\"AAPL\", \"google\")\n",
    "start = datetime.datetime(2017,10,1)\n",
    "end = datetime.datetime(2017,10,20)\n",
    "# end = datetime.datetime.now() #today\n",
    "df = data.DataReader(name=\"AMZN\", data_source=\"yahoo\",start=start,end=end)\n",
    "# type(df) #pandas.core.frame.DataFrame"
   ]
  },
  {
   "cell_type": "code",
   "execution_count": 23,
   "metadata": {
    "collapsed": false
   },
   "outputs": [
    {
     "data": {
      "text/html": [
       "<div>\n",
       "<table border=\"1\" class=\"dataframe\">\n",
       "  <thead>\n",
       "    <tr style=\"text-align: right;\">\n",
       "      <th></th>\n",
       "      <th>Open</th>\n",
       "      <th>High</th>\n",
       "      <th>Low</th>\n",
       "      <th>Close</th>\n",
       "      <th>Adj Close</th>\n",
       "      <th>Volume</th>\n",
       "    </tr>\n",
       "    <tr>\n",
       "      <th>Date</th>\n",
       "      <th></th>\n",
       "      <th></th>\n",
       "      <th></th>\n",
       "      <th></th>\n",
       "      <th></th>\n",
       "      <th></th>\n",
       "    </tr>\n",
       "  </thead>\n",
       "  <tbody>\n",
       "    <tr>\n",
       "      <th>2017-10-02</th>\n",
       "      <td>964.000000</td>\n",
       "      <td>967.309998</td>\n",
       "      <td>952.119995</td>\n",
       "      <td>959.190002</td>\n",
       "      <td>959.190002</td>\n",
       "      <td>2442900</td>\n",
       "    </tr>\n",
       "    <tr>\n",
       "      <th>2017-10-03</th>\n",
       "      <td>958.000000</td>\n",
       "      <td>963.690002</td>\n",
       "      <td>950.369995</td>\n",
       "      <td>957.099976</td>\n",
       "      <td>957.099976</td>\n",
       "      <td>2666600</td>\n",
       "    </tr>\n",
       "    <tr>\n",
       "      <th>2017-10-04</th>\n",
       "      <td>954.210022</td>\n",
       "      <td>967.789978</td>\n",
       "      <td>954.049988</td>\n",
       "      <td>965.450012</td>\n",
       "      <td>965.450012</td>\n",
       "      <td>2527400</td>\n",
       "    </tr>\n",
       "    <tr>\n",
       "      <th>2017-10-05</th>\n",
       "      <td>970.000000</td>\n",
       "      <td>981.510010</td>\n",
       "      <td>969.640015</td>\n",
       "      <td>980.849976</td>\n",
       "      <td>980.849976</td>\n",
       "      <td>3229200</td>\n",
       "    </tr>\n",
       "    <tr>\n",
       "      <th>2017-10-06</th>\n",
       "      <td>975.640015</td>\n",
       "      <td>995.750000</td>\n",
       "      <td>975.640015</td>\n",
       "      <td>989.580017</td>\n",
       "      <td>989.580017</td>\n",
       "      <td>3782100</td>\n",
       "    </tr>\n",
       "  </tbody>\n",
       "</table>\n",
       "</div>"
      ],
      "text/plain": [
       "                  Open        High         Low       Close   Adj Close  \\\n",
       "Date                                                                     \n",
       "2017-10-02  964.000000  967.309998  952.119995  959.190002  959.190002   \n",
       "2017-10-03  958.000000  963.690002  950.369995  957.099976  957.099976   \n",
       "2017-10-04  954.210022  967.789978  954.049988  965.450012  965.450012   \n",
       "2017-10-05  970.000000  981.510010  969.640015  980.849976  980.849976   \n",
       "2017-10-06  975.640015  995.750000  975.640015  989.580017  989.580017   \n",
       "\n",
       "             Volume  \n",
       "Date                 \n",
       "2017-10-02  2442900  \n",
       "2017-10-03  2666600  \n",
       "2017-10-04  2527400  \n",
       "2017-10-05  3229200  \n",
       "2017-10-06  3782100  "
      ]
     },
     "execution_count": 23,
     "metadata": {},
     "output_type": "execute_result"
    }
   ],
   "source": [
    "df.head()"
   ]
  },
  {
   "cell_type": "markdown",
   "metadata": {},
   "source": [
    "### For days that stock prices rose / fell\n",
    "\n",
    "i.e the closing price is greater than the openning"
   ]
  },
  {
   "cell_type": "code",
   "execution_count": 55,
   "metadata": {
    "collapsed": false
   },
   "outputs": [],
   "source": [
    "# rise = df.index[df.Close > df.Open]\n",
    "# fall = df.index[df.Close < df.Open]\n",
    "# avg = (df.Close + df.Open) / 2\n",
    "# hours_12 = 12*60*60*1000"
   ]
  },
  {
   "cell_type": "markdown",
   "metadata": {},
   "source": [
    "### Create a status column for the data extraction\n",
    "###  a  'middle'  and Height columns\n",
    "\n"
   ]
  },
  {
   "cell_type": "code",
   "execution_count": 57,
   "metadata": {
    "collapsed": false
   },
   "outputs": [
    {
     "data": {
      "text/html": [
       "<div>\n",
       "<table border=\"1\" class=\"dataframe\">\n",
       "  <thead>\n",
       "    <tr style=\"text-align: right;\">\n",
       "      <th></th>\n",
       "      <th>Open</th>\n",
       "      <th>High</th>\n",
       "      <th>Low</th>\n",
       "      <th>Close</th>\n",
       "      <th>Adj Close</th>\n",
       "      <th>Volume</th>\n",
       "      <th>Status</th>\n",
       "      <th>Middle</th>\n",
       "      <th>Height</th>\n",
       "    </tr>\n",
       "    <tr>\n",
       "      <th>Date</th>\n",
       "      <th></th>\n",
       "      <th></th>\n",
       "      <th></th>\n",
       "      <th></th>\n",
       "      <th></th>\n",
       "      <th></th>\n",
       "      <th></th>\n",
       "      <th></th>\n",
       "      <th></th>\n",
       "    </tr>\n",
       "  </thead>\n",
       "  <tbody>\n",
       "    <tr>\n",
       "      <th>2017-10-02</th>\n",
       "      <td>964.000000</td>\n",
       "      <td>967.309998</td>\n",
       "      <td>952.119995</td>\n",
       "      <td>959.190002</td>\n",
       "      <td>959.190002</td>\n",
       "      <td>2442900</td>\n",
       "      <td>Fall</td>\n",
       "      <td>961.595001</td>\n",
       "      <td>4.809998</td>\n",
       "    </tr>\n",
       "    <tr>\n",
       "      <th>2017-10-03</th>\n",
       "      <td>958.000000</td>\n",
       "      <td>963.690002</td>\n",
       "      <td>950.369995</td>\n",
       "      <td>957.099976</td>\n",
       "      <td>957.099976</td>\n",
       "      <td>2666600</td>\n",
       "      <td>Fall</td>\n",
       "      <td>957.549988</td>\n",
       "      <td>0.900024</td>\n",
       "    </tr>\n",
       "    <tr>\n",
       "      <th>2017-10-04</th>\n",
       "      <td>954.210022</td>\n",
       "      <td>967.789978</td>\n",
       "      <td>954.049988</td>\n",
       "      <td>965.450012</td>\n",
       "      <td>965.450012</td>\n",
       "      <td>2527400</td>\n",
       "      <td>Rise</td>\n",
       "      <td>959.830017</td>\n",
       "      <td>11.239990</td>\n",
       "    </tr>\n",
       "    <tr>\n",
       "      <th>2017-10-05</th>\n",
       "      <td>970.000000</td>\n",
       "      <td>981.510010</td>\n",
       "      <td>969.640015</td>\n",
       "      <td>980.849976</td>\n",
       "      <td>980.849976</td>\n",
       "      <td>3229200</td>\n",
       "      <td>Rise</td>\n",
       "      <td>975.424988</td>\n",
       "      <td>10.849976</td>\n",
       "    </tr>\n",
       "    <tr>\n",
       "      <th>2017-10-06</th>\n",
       "      <td>975.640015</td>\n",
       "      <td>995.750000</td>\n",
       "      <td>975.640015</td>\n",
       "      <td>989.580017</td>\n",
       "      <td>989.580017</td>\n",
       "      <td>3782100</td>\n",
       "      <td>Rise</td>\n",
       "      <td>982.610016</td>\n",
       "      <td>13.940002</td>\n",
       "    </tr>\n",
       "  </tbody>\n",
       "</table>\n",
       "</div>"
      ],
      "text/plain": [
       "                  Open        High         Low       Close   Adj Close  \\\n",
       "Date                                                                     \n",
       "2017-10-02  964.000000  967.309998  952.119995  959.190002  959.190002   \n",
       "2017-10-03  958.000000  963.690002  950.369995  957.099976  957.099976   \n",
       "2017-10-04  954.210022  967.789978  954.049988  965.450012  965.450012   \n",
       "2017-10-05  970.000000  981.510010  969.640015  980.849976  980.849976   \n",
       "2017-10-06  975.640015  995.750000  975.640015  989.580017  989.580017   \n",
       "\n",
       "             Volume Status      Middle     Height  \n",
       "Date                                               \n",
       "2017-10-02  2442900   Fall  961.595001   4.809998  \n",
       "2017-10-03  2666600   Fall  957.549988   0.900024  \n",
       "2017-10-04  2527400   Rise  959.830017  11.239990  \n",
       "2017-10-05  3229200   Rise  975.424988  10.849976  \n",
       "2017-10-06  3782100   Rise  982.610016  13.940002  "
      ]
     },
     "execution_count": 57,
     "metadata": {},
     "output_type": "execute_result"
    }
   ],
   "source": [
    "def inc_dec(c, o):\n",
    "    if c > o:\n",
    "        value=\"Rise\"\n",
    "    elif c < o:\n",
    "        value = \"Fall\"\n",
    "    else:\n",
    "        value = \"Same\"\n",
    "    return value\n",
    "\n",
    "df[\"Status\"]=[inc_dec(c,o) for c, o in zip(df.Close, df.Open)]\n",
    "df[\"Middle\"] = (df.Close + df.Open) / 2\n",
    "df[\"Height\"] = abs(df.Open-df.Close)\n",
    "df.head()"
   ]
  },
  {
   "cell_type": "markdown",
   "metadata": {},
   "source": [
    "Use Bokeh for plotting"
   ]
  },
  {
   "cell_type": "code",
   "execution_count": 59,
   "metadata": {
    "collapsed": false,
    "scrolled": true
   },
   "outputs": [
    {
     "name": "stderr",
     "output_type": "stream",
     "text": [
      "INFO:bokeh.core.state:Session output file 'candle_stick_chart.html' already exists, will be overwritten.\n",
      "ERROR:/Users/4bic/anaconda/lib/python3.6/site-packages/bokeh/core/validation/check.py:E-1000 (COLUMN_LENGTHS): ColumnDataSource column lengths are not all the same: ColumnDataSource(id='588982b4-73a8-470d-b13c-5031aa52ee95', ...)\n",
      "ERROR:/Users/4bic/anaconda/lib/python3.6/site-packages/bokeh/core/validation/check.py:E-1000 (COLUMN_LENGTHS): ColumnDataSource column lengths are not all the same: ColumnDataSource(id='889ab354-2d15-4787-a038-a49bccb89efb', ...)\n",
      "ERROR:/Users/4bic/anaconda/lib/python3.6/site-packages/bokeh/core/validation/check.py:E-1000 (COLUMN_LENGTHS): ColumnDataSource column lengths are not all the same: ColumnDataSource(id='3cf05512-7528-4812-9dd5-4fb37ae9e430', ...)\n",
      "ERROR:/Users/4bic/anaconda/lib/python3.6/site-packages/bokeh/core/validation/check.py:E-1000 (COLUMN_LENGTHS): ColumnDataSource column lengths are not all the same: ColumnDataSource(id='31c38ced-4472-4932-9140-3f6c358f38fc', ...)\n",
      "ERROR:/Users/4bic/anaconda/lib/python3.6/site-packages/bokeh/core/validation/check.py:E-1000 (COLUMN_LENGTHS): ColumnDataSource column lengths are not all the same: ColumnDataSource(id='9e671cc9-a565-4ae2-bc55-1a07340f4005', ...)\n",
      "ERROR:/Users/4bic/anaconda/lib/python3.6/site-packages/bokeh/core/validation/check.py:E-1000 (COLUMN_LENGTHS): ColumnDataSource column lengths are not all the same: ColumnDataSource(id='210f1c40-8889-4f75-a145-2fed5daa40b6', ...)\n",
      "ERROR:/Users/4bic/anaconda/lib/python3.6/site-packages/bokeh/core/validation/check.py:E-1000 (COLUMN_LENGTHS): ColumnDataSource column lengths are not all the same: ColumnDataSource(id='4b18428e-e673-4a7d-82bd-d3b32d78a77d', ...)\n",
      "ERROR:/Users/4bic/anaconda/lib/python3.6/site-packages/bokeh/core/validation/check.py:E-1000 (COLUMN_LENGTHS): ColumnDataSource column lengths are not all the same: ColumnDataSource(id='2c75766e-31d6-4ee5-890b-62a3ed2e04a0', ...)\n",
      "ERROR:/Users/4bic/anaconda/lib/python3.6/site-packages/bokeh/core/validation/check.py:E-1000 (COLUMN_LENGTHS): ColumnDataSource column lengths are not all the same: ColumnDataSource(id='d59e0d9b-b2af-4d1e-86a5-d449355c7ea2', ...)\n",
      "ERROR:/Users/4bic/anaconda/lib/python3.6/site-packages/bokeh/core/validation/check.py:E-1000 (COLUMN_LENGTHS): ColumnDataSource column lengths are not all the same: ColumnDataSource(id='6f84cf63-4f71-4bb3-a014-8f84a1b0eb0a', ...)\n",
      "ERROR:/Users/4bic/anaconda/lib/python3.6/site-packages/bokeh/core/validation/check.py:E-1000 (COLUMN_LENGTHS): ColumnDataSource column lengths are not all the same: ColumnDataSource(id='ba1839b8-150a-4bdd-9c13-092a2e097077', ...)\n"
     ]
    }
   ],
   "source": [
    "p=figure(x_axis_type='datetime', width=1000, height=300)\n",
    "p.title.text=\"Candlestick Chart\"\n",
    "hours_12 = 12*60*60*1000\n",
    "p.grid.grid_line_alpha = 0.2\n",
    "\n",
    "p.rect(df.index[df.Status== \"Rise\"],df.Middle[df.Status== \"Rise\"],\n",
    "       hours_12, df.Height[df.Status== \"Rise\"], fill_color=\"green\",\n",
    "       line_color=\"black\" )\n",
    "p.rect(df.index[df.Status== \"Fall\"],df.Middle[df.Status== \"Fall\"],\n",
    "       hours_12, df.Height[df.Status== \"Fall\"], fill_color=\"red\",\n",
    "       line_color=\"black\" )\n",
    "\n",
    "p.segment(df.index, df.High, df.index, df.Low, color=\"black\")\n",
    "\n",
    "output_file(\"candle_stick_chart.html\")\n",
    "\n",
    "show(p)\n",
    "# p.grid.grid_line_alpha=0.3"
   ]
  },
  {
   "cell_type": "code",
   "execution_count": null,
   "metadata": {
    "collapsed": true
   },
   "outputs": [],
   "source": []
  },
  {
   "cell_type": "code",
   "execution_count": null,
   "metadata": {
    "collapsed": true
   },
   "outputs": [],
   "source": []
  }
 ],
 "metadata": {
  "kernelspec": {
   "display_name": "Python 3",
   "language": "python",
   "name": "python3"
  },
  "language_info": {
   "codemirror_mode": {
    "name": "ipython",
    "version": 3
   },
   "file_extension": ".py",
   "mimetype": "text/x-python",
   "name": "python",
   "nbconvert_exporter": "python",
   "pygments_lexer": "ipython3",
   "version": "3.6.0"
  }
 },
 "nbformat": 4,
 "nbformat_minor": 2
}
