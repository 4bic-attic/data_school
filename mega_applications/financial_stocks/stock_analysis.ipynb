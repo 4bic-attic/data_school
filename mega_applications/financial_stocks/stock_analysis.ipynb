{
 "cells": [
  {
   "cell_type": "code",
   "execution_count": 71,
   "metadata": {
    "collapsed": false
   },
   "outputs": [],
   "source": [
    "from pandas_datareader import data\n",
    "import datetime\n",
    "from bokeh.plotting import figure, show, output_file\n",
    "from bokeh.embed import components\n",
    "from bokeh.resources import CDN\n",
    "\n",
    "\n",
    "##Data from Yahoo Finance\n",
    "start = datetime.datetime(2017,9,1)\n",
    "end = datetime.datetime(2017,10,20)\n",
    "# end = datetime.datetime.now() #today\n",
    "df = data.DataReader(name=\"AMZN\", data_source=\"yahoo\",start=start,end=end)\n",
    "# type(df) #pandas.core.frame.DataFrame\n",
    "\n",
    "'''\n",
    "For days that stock prices rose / fell\n",
    "i.e the closing price is greater than the openning\n",
    "\n",
    "rise = df.index[df.Close > df.Open]\n",
    "fall = df.index[df.Close < df.Open]\n",
    "avg = (df.Close + df.Open) / 2\n",
    "hours_12 = 12*60*60*1000\n",
    "\n",
    "Create a status column for the data extraction\n",
    " a  'middle'  and Height columns\n",
    " \n",
    "'''\n",
    "def inc_dec(c, o):\n",
    "    if c > o:\n",
    "        value=\"Rise\"\n",
    "    elif c < o:\n",
    "        value = \"Fall\"\n",
    "    else:\n",
    "        value = \"Same\"\n",
    "    return value\n",
    "\n",
    "df[\"Status\"]=[inc_dec(c,o) for c, o in zip(df.Close, df.Open)]\n",
    "df[\"Middle\"] = (df.Close + df.Open) / 2\n",
    "df[\"Height\"] = abs(df.Open-df.Close)\n",
    "df.head()\n",
    "\n",
    "# Use Bokeh for plotting\n",
    "\n",
    "p=figure(x_axis_type='datetime', width=1000, height=300, responsive=True)\n",
    "p.title.text=\"Candlestick Chart\"\n",
    "hours_12 = 12*60*60*1000\n",
    "p.grid.grid_line_alpha = 0.2\n",
    "\n",
    "p.segment(df.index, df.High, df.index, df.Low, color=\"black\")\n",
    "\n",
    "p.rect(df.index[df.Status== \"Rise\"],df.Middle[df.Status== \"Rise\"],\n",
    "       hours_12, df.Height[df.Status== \"Rise\"], fill_color=\"#03AD3E\",\n",
    "       line_color=\"black\" )\n",
    "p.rect(df.index[df.Status== \"Fall\"],df.Middle[df.Status== \"Fall\"],\n",
    "       hours_12, df.Height[df.Status== \"Fall\"], fill_color=\"#E30400\",\n",
    "       line_color=\"black\" )\n",
    "# for deploying to webserver\n",
    "script1, div1 = components(p)\n",
    "\n",
    "# generate dynamic js & css script files\n",
    "cdn_js=CDN.js_files\n",
    "cdn_css=CDN.css_files\n",
    "\n",
    "# output_file(\"candle_stick_chart.html\")\n",
    "# show(p)"
   ]
  },
  {
   "cell_type": "code",
   "execution_count": 74,
   "metadata": {
    "collapsed": false
   },
   "outputs": [
    {
     "data": {
      "text/plain": [
       "'https://cdn.pydata.org/bokeh/release/bokeh-0.12.3.min.js'"
      ]
     },
     "execution_count": 74,
     "metadata": {},
     "output_type": "execute_result"
    }
   ],
   "source": [
    "cdn_js[0]"
   ]
  },
  {
   "cell_type": "code",
   "execution_count": 75,
   "metadata": {
    "collapsed": false
   },
   "outputs": [
    {
     "data": {
      "text/plain": [
       "'https://cdn.pydata.org/bokeh/release/bokeh-0.12.3.min.css'"
      ]
     },
     "execution_count": 75,
     "metadata": {},
     "output_type": "execute_result"
    }
   ],
   "source": [
    "cdn_css[0]"
   ]
  },
  {
   "cell_type": "code",
   "execution_count": null,
   "metadata": {
    "collapsed": true
   },
   "outputs": [],
   "source": []
  }
 ],
 "metadata": {
  "kernelspec": {
   "display_name": "Python 3",
   "language": "python",
   "name": "python3"
  },
  "language_info": {
   "codemirror_mode": {
    "name": "ipython",
    "version": 3
   },
   "file_extension": ".py",
   "mimetype": "text/x-python",
   "name": "python",
   "nbconvert_exporter": "python",
   "pygments_lexer": "ipython3",
   "version": "3.6.0"
  }
 },
 "nbformat": 4,
 "nbformat_minor": 2
}
