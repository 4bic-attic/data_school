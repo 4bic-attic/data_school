{
 "cells": [
  {
   "cell_type": "code",
   "execution_count": 67,
   "metadata": {
    "collapsed": true
   },
   "outputs": [
    {
     "name": "stderr",
     "output_type": "stream",
     "text": [
      "INFO:bokeh.core.state:Session output file 'candle_stick_chart.html' already exists, will be overwritten.\n",
      "ERROR:/Users/4bic/anaconda/lib/python3.6/site-packages/bokeh/core/validation/check.py:E-1000 (COLUMN_LENGTHS): ColumnDataSource column lengths are not all the same: ColumnDataSource(id='588982b4-73a8-470d-b13c-5031aa52ee95', ...)\n",
      "ERROR:/Users/4bic/anaconda/lib/python3.6/site-packages/bokeh/core/validation/check.py:E-1000 (COLUMN_LENGTHS): ColumnDataSource column lengths are not all the same: ColumnDataSource(id='889ab354-2d15-4787-a038-a49bccb89efb', ...)\n",
      "ERROR:/Users/4bic/anaconda/lib/python3.6/site-packages/bokeh/core/validation/check.py:E-1000 (COLUMN_LENGTHS): ColumnDataSource column lengths are not all the same: ColumnDataSource(id='3cf05512-7528-4812-9dd5-4fb37ae9e430', ...)\n",
      "ERROR:/Users/4bic/anaconda/lib/python3.6/site-packages/bokeh/core/validation/check.py:E-1000 (COLUMN_LENGTHS): ColumnDataSource column lengths are not all the same: ColumnDataSource(id='31c38ced-4472-4932-9140-3f6c358f38fc', ...)\n",
      "ERROR:/Users/4bic/anaconda/lib/python3.6/site-packages/bokeh/core/validation/check.py:E-1000 (COLUMN_LENGTHS): ColumnDataSource column lengths are not all the same: ColumnDataSource(id='9e671cc9-a565-4ae2-bc55-1a07340f4005', ...)\n",
      "ERROR:/Users/4bic/anaconda/lib/python3.6/site-packages/bokeh/core/validation/check.py:E-1000 (COLUMN_LENGTHS): ColumnDataSource column lengths are not all the same: ColumnDataSource(id='210f1c40-8889-4f75-a145-2fed5daa40b6', ...)\n",
      "ERROR:/Users/4bic/anaconda/lib/python3.6/site-packages/bokeh/core/validation/check.py:E-1000 (COLUMN_LENGTHS): ColumnDataSource column lengths are not all the same: ColumnDataSource(id='4b18428e-e673-4a7d-82bd-d3b32d78a77d', ...)\n",
      "ERROR:/Users/4bic/anaconda/lib/python3.6/site-packages/bokeh/core/validation/check.py:E-1000 (COLUMN_LENGTHS): ColumnDataSource column lengths are not all the same: ColumnDataSource(id='2c75766e-31d6-4ee5-890b-62a3ed2e04a0', ...)\n",
      "ERROR:/Users/4bic/anaconda/lib/python3.6/site-packages/bokeh/core/validation/check.py:E-1000 (COLUMN_LENGTHS): ColumnDataSource column lengths are not all the same: ColumnDataSource(id='d59e0d9b-b2af-4d1e-86a5-d449355c7ea2', ...)\n",
      "ERROR:/Users/4bic/anaconda/lib/python3.6/site-packages/bokeh/core/validation/check.py:E-1000 (COLUMN_LENGTHS): ColumnDataSource column lengths are not all the same: ColumnDataSource(id='6f84cf63-4f71-4bb3-a014-8f84a1b0eb0a', ...)\n",
      "ERROR:/Users/4bic/anaconda/lib/python3.6/site-packages/bokeh/core/validation/check.py:E-1000 (COLUMN_LENGTHS): ColumnDataSource column lengths are not all the same: ColumnDataSource(id='ba1839b8-150a-4bdd-9c13-092a2e097077', ...)\n"
     ]
    }
   ],
   "source": [
    "from pandas_datareader import data\n",
    "import datetime\n",
    "from bokeh.plotting import figure, show, output_file\n",
    "\n",
    "##Data from Yahoo Finance\n",
    "start = datetime.datetime(2017,9,1)\n",
    "end = datetime.datetime(2017,10,20)\n",
    "# end = datetime.datetime.now() #today\n",
    "df = data.DataReader(name=\"AMZN\", data_source=\"yahoo\",start=start,end=end)\n",
    "# type(df) #pandas.core.frame.DataFrame\n",
    "\n",
    "'''\n",
    "For days that stock prices rose / fell\n",
    "i.e the closing price is greater than the openning\n",
    "\n",
    "rise = df.index[df.Close > df.Open]\n",
    "fall = df.index[df.Close < df.Open]\n",
    "avg = (df.Close + df.Open) / 2\n",
    "hours_12 = 12*60*60*1000\n",
    "\n",
    "Create a status column for the data extraction\n",
    " a  'middle'  and Height columns\n",
    " \n",
    "'''\n",
    "def inc_dec(c, o):\n",
    "    if c > o:\n",
    "        value=\"Rise\"\n",
    "    elif c < o:\n",
    "        value = \"Fall\"\n",
    "    else:\n",
    "        value = \"Same\"\n",
    "    return value\n",
    "\n",
    "df[\"Status\"]=[inc_dec(c,o) for c, o in zip(df.Close, df.Open)]\n",
    "df[\"Middle\"] = (df.Close + df.Open) / 2\n",
    "df[\"Height\"] = abs(df.Open-df.Close)\n",
    "df.head()\n",
    "\n",
    "# Use Bokeh for plotting\n",
    "\n",
    "p=figure(x_axis_type='datetime', width=1000, height=300, responsive=True)\n",
    "p.title.text=\"Candlestick Chart\"\n",
    "hours_12 = 12*60*60*1000\n",
    "p.grid.grid_line_alpha = 0.2\n",
    "\n",
    "p.segment(df.index, df.High, df.index, df.Low, color=\"black\")\n",
    "\n",
    "p.rect(df.index[df.Status== \"Rise\"],df.Middle[df.Status== \"Rise\"],\n",
    "       hours_12, df.Height[df.Status== \"Rise\"], fill_color=\"#03AD3E\",\n",
    "       line_color=\"black\" )\n",
    "p.rect(df.index[df.Status== \"Fall\"],df.Middle[df.Status== \"Fall\"],\n",
    "       hours_12, df.Height[df.Status== \"Fall\"], fill_color=\"#E30400\",\n",
    "       line_color=\"black\" )\n",
    "\n",
    "output_file(\"candle_stick_chart.html\")\n",
    "\n",
    "show(p)"
   ]
  },
  {
   "cell_type": "code",
   "execution_count": null,
   "metadata": {
    "collapsed": true
   },
   "outputs": [],
   "source": []
  }
 ],
 "metadata": {
  "kernelspec": {
   "display_name": "Python 3",
   "language": "python",
   "name": "python3"
  },
  "language_info": {
   "codemirror_mode": {
    "name": "ipython",
    "version": 3
   },
   "file_extension": ".py",
   "mimetype": "text/x-python",
   "name": "python",
   "nbconvert_exporter": "python",
   "pygments_lexer": "ipython3",
   "version": "3.6.0"
  }
 },
 "nbformat": 4,
 "nbformat_minor": 2
}
