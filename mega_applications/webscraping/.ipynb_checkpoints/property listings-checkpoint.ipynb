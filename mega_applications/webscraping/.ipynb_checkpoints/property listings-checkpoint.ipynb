{
 "cells": [
  {
   "cell_type": "code",
   "execution_count": 5,
   "metadata": {
    "collapsed": false
   },
   "outputs": [],
   "source": [
    "%matplotlib inline\n",
    "import requests\n",
    "from bs4 import BeautifulSoup\n",
    "import pandas as pd\n",
    "\n",
    "r = requests.get(\"https://house.jumia.co.ke/for-sale/\")\n",
    "c = r.content\n",
    "soup = BeautifulSoup(c, \"html.parser\")\n",
    "# check source code of loaded page\n",
    "#print(soup.prettify())\n",
    "\n",
    "# extract division\n",
    "all = soup.find_all(\"div\",{\"class\":\"listing-info\"})\n"
   ]
  },
  {
   "cell_type": "code",
   "execution_count": 7,
   "metadata": {
    "collapsed": false
   },
   "outputs": [
    {
     "data": {
      "text/plain": [
       "'KSh 27500000'"
      ]
     },
     "execution_count": 7,
     "metadata": {},
     "output_type": "execute_result"
    }
   ],
   "source": [
    "# check  price elements\n",
    "price = all[0].find(\"span\",{\"class\":\"listing-price\"}).text.replace(\",\", \"\")\n",
    "price\n"
   ]
  },
  {
   "cell_type": "markdown",
   "metadata": {},
   "source": [
    "## extract elements into dict and store in a list"
   ]
  },
  {
   "cell_type": "code",
   "execution_count": 8,
   "metadata": {
    "collapsed": false
   },
   "outputs": [],
   "source": [
    "def extract_listing_detail():\n",
    "#   crawl though available pages then\n",
    "    # collect price, detail and size\n",
    "    data = []\n",
    "    for item in all:\n",
    "    #   create empty dictionary\n",
    "        d={}\n",
    "    #   property name \n",
    "        d[\"name\"] = (item.find(\"a\",{\"class\":\"main-link\"}).text).strip() \n",
    "    #   property address\n",
    "        d[\"address\"] = item.find(\"p\",{\"class\":\"listing-address icon-location\"}).text\n",
    "    #  property value\n",
    "        d[\"value\"] = item.find(\"span\",{\"class\":\"listing-price\"}).text.replace(\",\",\"\")\n",
    "    #   property size / bedroom capacity\n",
    "        try:\n",
    "             d[\"description\"] = item.find(\"span\",{\"class\":\"listing-attributes-value\"}).text.replace(\"\\n\",\"\")\n",
    "        except:\n",
    "            d[\"description\"] = None\n",
    "    #   collect data in a list\n",
    "        data.append(d)\n",
    "    #   store data in a dataframe\n",
    "        df = pd.DataFrame(data)\n",
    "    #   save to csv\n",
    "        df.to_csv(\"jumia_property.csv\")\n",
    "        \n",
    "extract_listing_detail()"
   ]
  },
  {
   "cell_type": "markdown",
   "metadata": {},
   "source": [
    "## extracted data"
   ]
  },
  {
   "cell_type": "code",
   "execution_count": 10,
   "metadata": {
    "collapsed": false,
    "scrolled": true
   },
   "outputs": [
    {
     "ename": "NameError",
     "evalue": "name 'data' is not defined",
     "output_type": "error",
     "traceback": [
      "\u001b[0;31m---------------------------------------------------------------------------\u001b[0m",
      "\u001b[0;31mNameError\u001b[0m                                 Traceback (most recent call last)",
      "\u001b[0;32m<ipython-input-10-6137cde4893c>\u001b[0m in \u001b[0;36m<module>\u001b[0;34m()\u001b[0m\n\u001b[0;32m----> 1\u001b[0;31m \u001b[0mdata\u001b[0m\u001b[0;34m\u001b[0m\u001b[0m\n\u001b[0m",
      "\u001b[0;31mNameError\u001b[0m: name 'data' is not defined"
     ]
    }
   ],
   "source": [
    "data"
   ]
  },
  {
   "cell_type": "markdown",
   "metadata": {},
   "source": [
    "## store in a data frame"
   ]
  },
  {
   "cell_type": "code",
   "execution_count": 167,
   "metadata": {
    "collapsed": false
   },
   "outputs": [],
   "source": [
    "# df = pd.DataFrame(data)\n",
    "\n",
    "# df"
   ]
  },
  {
   "cell_type": "markdown",
   "metadata": {},
   "source": [
    "## save to csv"
   ]
  },
  {
   "cell_type": "code",
   "execution_count": 95,
   "metadata": {
    "collapsed": true
   },
   "outputs": [],
   "source": [
    "df.to_csv(\"jumia_property.csv\")"
   ]
  },
  {
   "cell_type": "markdown",
   "metadata": {},
   "source": [
    "## crawl web pages"
   ]
  },
  {
   "cell_type": "code",
   "execution_count": 11,
   "metadata": {
    "collapsed": false
   },
   "outputs": [],
   "source": [
    "def crawl_pages():\n",
    "    base_url = \"https://house.jumia.co.ke/for-sale/?page=\"\n",
    "    for page in range(1,11,1):\n",
    "        base_url+str(page)+str(\"&size=30\")\n",
    "        r = requests.get(base_url+str(page)+str(\"&size=30\"))\n",
    "        c = r.content\n",
    "        soup = BeautifulSoup(c, \"html.parser\")\n",
    "        all = soup.find_all(\"div\",{\"class\":\"listing-info\"})\n",
    "#         call extract function        \n",
    "crawl_pages() \n"
   ]
  },
  {
   "cell_type": "markdown",
   "metadata": {},
   "source": [
    "# clean function crawler"
   ]
  },
  {
   "cell_type": "code",
   "execution_count": 4,
   "metadata": {
    "collapsed": false
   },
   "outputs": [],
   "source": [
    "%matplotlib inline\n",
    "import requests\n",
    "from bs4 import BeautifulSoup\n",
    "import pandas as pd\n",
    "\n",
    "r = requests.get(\"https://house.jumia.co.ke/for-sale/\")\n",
    "c = r.content\n",
    "soup = BeautifulSoup(c, \"html.parser\")\n",
    "all = soup.find_all(\"div\",{\"class\":\"listing-info\"})\n",
    "# sample extract price\n",
    "price = all[0].find(\"span\",{\"class\":\"listing-price\"}).text.replace(\",\", \"\")"
   ]
  },
  {
   "cell_type": "code",
   "execution_count": null,
   "metadata": {
    "collapsed": false
   },
   "outputs": [],
   "source": [
    "base_url = \"https://house.jumia.co.ke/for-sale/?page=\"\n",
    "data = []\n",
    "#   crawl though available pages to extract page no. links\n",
    "for page in range(1,51,1):\n",
    "    prop_page = base_url+str(page)+str(\"&size=30\")\n",
    "    print (prop_page)\n",
    "    r = requests.get(prop_page)\n",
    "    c = r.content\n",
    "    soup = BeautifulSoup(c, \"html.parser\")\n",
    "    all = soup.find_all(\"div\",{\"class\":\"listing-info\"})\n",
    "# # collect price, detail and size from each page\n",
    "#     for item in all:\n",
    "#         d={}\n",
    "#         d[\"name\"] = (item.find(\"a\",{\"class\":\"main-link\"}).text).strip() \n",
    "#         d[\"address\"] = item.find(\"p\",{\"class\":\"listing-address icon-location\"}).text\n",
    "#         d[\"value\"] = item.find(\"span\",{\"class\":\"listing-price\"}).text.replace(\",\",\"\")\n",
    "#         try:\n",
    "#              d[\"description\"] = item.find(\"span\",{\"class\":\"listing-attributes-value\"}).text.replace(\"\\n\",\"\")\n",
    "#         except:\n",
    "#             d[\"description\"] = None\n",
    "#         data.append(d)\n",
    "#         df = pd.DataFrame(data)\n",
    "# #         df.to_csv(\"jumia_property.csv\")  \n"
   ]
  },
  {
   "cell_type": "code",
   "execution_count": null,
   "metadata": {
    "collapsed": true
   },
   "outputs": [],
   "source": []
  }
 ],
 "metadata": {
  "kernelspec": {
   "display_name": "Python 3",
   "language": "python",
   "name": "python3"
  },
  "language_info": {
   "codemirror_mode": {
    "name": "ipython",
    "version": 3
   },
   "file_extension": ".py",
   "mimetype": "text/x-python",
   "name": "python",
   "nbconvert_exporter": "python",
   "pygments_lexer": "ipython3",
   "version": "3.6.0"
  }
 },
 "nbformat": 4,
 "nbformat_minor": 2
}
