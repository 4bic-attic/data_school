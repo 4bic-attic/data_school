{
 "cells": [
  {
   "cell_type": "code",
   "execution_count": 84,
   "metadata": {
    "collapsed": false
   },
   "outputs": [],
   "source": [
    "# import requests\n",
    "# from bs4 import BeautifulSoup\n",
    "\n",
    "# r = requests.get(\"http://www.buyrentkenya.com/buy/results?location=Eldoret&filters%5Basking_price%5D%5Belt%5D=\")\n",
    "# c = r.content\n",
    "\n",
    "\n",
    "# soup = BeautifulSoup(c, \"html.parser\")\n",
    "# # check source code of loaded page\n",
    "# #print(soup.prettify())\n",
    "\n",
    "# # extract division\n",
    "# all = soup.find_all(\"div\",{\"class\":\"list-details\"})\n",
    "\n",
    "# # check first element price\n",
    "# all[]\n",
    "\n",
    "# price = all[0].find(\"p\",{\"class\":\"no-pad\"}).text.replace(\"KES\",\"\").replace(\",\",\"\")\n",
    "# price\n",
    "\n"
   ]
  },
  {
   "cell_type": "code",
   "execution_count": null,
   "metadata": {
    "collapsed": true
   },
   "outputs": [],
   "source": [
    "# collect prices and size\n",
    "# for item in all:\n",
    "#     print(item.find(\"div\",{\"class\":\"list-name\"}).text)\n",
    "#     print(item.find(\"p\",{\"class\":\"no-pad\"}).text.replace(\",\",\"\"))\n",
    "#     print (\" \")\n",
    "\n"
   ]
  },
  {
   "cell_type": "code",
   "execution_count": 174,
   "metadata": {
    "collapsed": false
   },
   "outputs": [],
   "source": [
    "import requests\n",
    "from bs4 import BeautifulSoup\n",
    "\n",
    "r = requests.get(\"https://house.jumia.co.ke/for-sale/q:eldoret\")\n",
    "c = r.content\n",
    "soup = BeautifulSoup(c, \"html.parser\")\n",
    "# check source code of loaded page\n",
    "#print(soup.prettify())\n",
    "\n",
    "# extract division\n",
    "all = soup.find_all(\"div\",{\"class\":\"listing-info\"})\n",
    "\n",
    "# check first element price\n",
    "# price = all[0].find(\"span\",{\"class\":\"listing-price\"}).text\n",
    "\n",
    "# price\n"
   ]
  },
  {
   "cell_type": "code",
   "execution_count": 173,
   "metadata": {
    "collapsed": false,
    "scrolled": true
   },
   "outputs": [
    {
     "name": "stdout",
     "output_type": "stream",
     "text": [
      "<a class=\"main-link\" data-sku=\"NO468LA34DCZINTRESKE\" href=\"/commercial-property-land-for-sale-in-eldoret-north-177865-14.html?attribute_option=offer_type%3Abuy&amp;q=eldoret&amp;dir=desc&amp;disable_previous=true\">\n",
      "                        Commercial Property ‚ Land for sale  in Eldoret North                    </a>\n",
      "--o--o--\n",
      "<a class=\"main-link\" data-sku=\"NO468LA30DDDINTRESKE\" href=\"/prime-2-acre-plot-for-sale-in-eldoret-cbd-177869-14.html?attribute_option=offer_type%3Abuy&amp;q=eldoret&amp;dir=desc\">\n",
      "                        Prime 2 Acre Plot for sale  in Eldoret Cbd                    </a>\n",
      "--o--o--\n",
      "<a class=\"main-link\" data-sku=\"NO468LA61DJQINTRESKE\" href=\"/600-acres-prime-land-for-sale-in-chepkoilel-eldoret-178038-13.html?attribute_option=offer_type%3Abuy&amp;q=eldoret&amp;dir=desc\">\n",
      "                        600 Acres Prime Land for sale  in Chepkoilel, Eldoret                    </a>\n",
      "--o--o--\n",
      "<a class=\"main-link\" data-sku=\"NO116HO15KMEINTRESKE\" href=\"/kings-square-4-br-townhouse-in-eldoret-147684-19.html?attribute_option=offer_type%3Abuy&amp;q=eldoret&amp;dir=desc\">\n",
      "                        Kings Square, 4 BR Townhouse in Eldoret                    </a>\n",
      "--o--o--\n",
      "<a class=\"main-link\" data-sku=\"NO116AP21KLYINTRESKE\" href=\"/kings-square-in-eldoret-apartment-on-sale-147678-29.html?attribute_option=offer_type%3Abuy&amp;q=eldoret&amp;dir=desc\">\n",
      "                        Kings Square in Eldoret, Apartment on Sale                    </a>\n",
      "--o--o--\n",
      "<a class=\"main-link\" data-sku=\"NO001HO59SVWINTRESKE\" href=\"/5-bedroom-house-eldoret-83040-21.html?attribute_option=offer_type%3Abuy&amp;q=eldoret&amp;dir=desc\">\n",
      "                        5 Bedroom House, Eldoret                    </a>\n",
      "--o--o--\n",
      "<a class=\"main-link\" data-sku=\"NO468LA73DJEINTRESKE\" href=\"/farm-for-sale-in-eldoret-south-178026-14.html?attribute_option=offer_type%3Abuy&amp;q=eldoret&amp;dir=desc\">\n",
      "                        Farm for sale  in Eldoret South                    </a>\n",
      "--o--o--\n",
      "<a class=\"main-link\" data-sku=\"NO468LA72DJFINTRESKE\" href=\"/farm-1000-acres-for-sale-in-eldoret-north-moiben-178027-14.html?attribute_option=offer_type%3Abuy&amp;q=eldoret&amp;dir=desc\">\n",
      "                        Farm (1000 Acres) for sale  in Eldoret North - Moiben                    </a>\n",
      "--o--o--\n",
      "<a class=\"main-link\" data-sku=\"NO912AP33MFQINTRESKE\" href=\"/three-bedroom-apartment-for-sale-in-eldoret-148866-29.html?attribute_option=offer_type%3Abuy&amp;q=eldoret&amp;dir=desc\">\n",
      "                        Three bedroom Apartment for sale in Eldoret                    </a>\n",
      "--o--o--\n",
      "<a class=\"main-link\" data-sku=\"NO098HO82RNDINTRESKE\" href=\"/annex-house-for-sale-170017-17.html?attribute_option=offer_type%3Abuy&amp;q=eldoret&amp;dir=desc\">\n",
      "                        Annex House for sale                    </a>\n",
      "--o--o--\n",
      "<a class=\"main-link\" data-sku=\"NO468HO47EWUINTRESKE\" href=\"/3-bedroom-house-for-sale-in-webuye-bungoma-county-108752-21.html?attribute_option=offer_type%3Abuy&amp;q=eldoret&amp;dir=desc\">\n",
      "                        3 Bedroom House For Sale In Webuye (Bungoma County)                    </a>\n",
      "--o--o--\n",
      "<a class=\"main-link\" data-sku=\"NO192HO79WTWINTRESKE\" href=\"/bungalow-for-sale-at-menengai-138420-21.html?attribute_option=offer_type%3Abuy&amp;q=eldoret&amp;dir=desc\">\n",
      "                        Bungalow for sale at Menengai                    </a>\n",
      "--o--o--\n",
      "<a class=\"main-link\" data-sku=\"NO468LA04DEDINTRESKE\" href=\"/prime-agriculturaldevelopment-land-for-sale-in-bungoma-mabanga-177895-13.html?attribute_option=offer_type%3Abuy&amp;q=eldoret&amp;dir=desc&amp;disable_next=true\">\n",
      "                        Prime Agricultural/Development Land for sale  in Bungoma (Mabanga)                    </a>\n",
      "--o--o--\n"
     ]
    }
   ],
   "source": [
    "# collect prices and size\n",
    "for item in all:\n",
    "# #     property value\n",
    "#     print(item.find(\"span\",{\"class\":\"listing-price\"}).text.replace(\",\",\"\"))\n",
    "# #   property size / bedroom capacity\n",
    "#     print(item.find(\"span\",{\"class\":\"listing-attributes-value\"}).text)\n",
    "    print(item.find(\"a\",{\"class\":\"main-link\"}).text.replace(\"\"))\n",
    "    print (\"--o--o--\")\n",
    "\n"
   ]
  },
  {
   "cell_type": "code",
   "execution_count": null,
   "metadata": {
    "collapsed": true
   },
   "outputs": [],
   "source": []
  }
 ],
 "metadata": {
  "kernelspec": {
   "display_name": "Python 3",
   "language": "python",
   "name": "python3"
  },
  "language_info": {
   "codemirror_mode": {
    "name": "ipython",
    "version": 3
   },
   "file_extension": ".py",
   "mimetype": "text/x-python",
   "name": "python",
   "nbconvert_exporter": "python",
   "pygments_lexer": "ipython3",
   "version": "3.6.0"
  }
 },
 "nbformat": 4,
 "nbformat_minor": 2
}
