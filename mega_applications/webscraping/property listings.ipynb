{
 "cells": [
  {
   "cell_type": "code",
   "execution_count": 45,
   "metadata": {
    "collapsed": false
   },
   "outputs": [
    {
     "data": {
      "text/plain": [
       "' 17000000'"
      ]
     },
     "execution_count": 45,
     "metadata": {},
     "output_type": "execute_result"
    }
   ],
   "source": [
    "import requests\n",
    "from bs4 import BeautifulSoup\n",
    "\n",
    "r = requests.get(\"http://www.buyrentkenya.com/buy/results?location=Eldoret&filters%5Basking_price%5D%5Belt%5D=\")\n",
    "c = r.content\n",
    "\n",
    "\n",
    "soup = BeautifulSoup(c, \"html.parser\")\n",
    "# check source code of loaded page\n",
    "#print(soup.prettify())\n",
    "\n",
    "# extract division\n",
    "all = soup.find_all(\"div\",{\"class\":\"list-details\"})\n",
    "\n",
    "# check first element price\n",
    "price = all[0].find(\"p\",{\"class\":\"no-pad\"}).text.replace(\"KES\",\"\").replace(\",\",\"\")\n",
    "\n",
    "price\n",
    "\n"
   ]
  },
  {
   "cell_type": "code",
   "execution_count": 75,
   "metadata": {
    "collapsed": false
   },
   "outputs": [
    {
     "name": "stdout",
     "output_type": "stream",
     "text": [
      "\n",
      "6 Bedrooms Townhouse For Sale In Langas\n",
      "\n",
      "KES 17000000\n",
      " \n",
      "\n",
      "6 Bedrooms Maisonette For Sale In Eldoret North\n",
      "\n",
      "KES 19000000\n",
      " \n",
      "\n",
      "4 Bedrooms Maisonette For Sale In Eldoret North\n",
      "\n",
      "KES 15000000\n",
      " \n",
      "\n",
      "3 Bedrooms Apartment For Sale In Eldoret North\n",
      "\n",
      "KES 6500000\n",
      " \n",
      "\n",
      "5 Bedroom House For Sale In Eldoret North\n",
      "\n",
      "KES 50000000\n",
      " \n",
      "\n",
      "3 Bedrooms Apartment For Sale In Langas\n",
      "\n",
      "KES 6500000\n",
      " \n",
      "\n",
      "4 Bedroom Townhouse For Sale In Eldoret\n",
      "\n",
      "KES 13500000\n",
      " \n",
      "\n",
      "5 Bedroom House For Sale In Eldoret North\n",
      "\n",
      "KES 42000000\n",
      " \n",
      "\n",
      "16 Bedroom Apartment For Sale In Eldoret North\n",
      "\n",
      "KES 8500000\n",
      " \n"
     ]
    }
   ],
   "source": [
    "# collect prices and size\n",
    "for item in all:\n",
    "    print(item.find(\"div\",{\"class\":\"list-name\"}).text)\n",
    "    print(item.find(\"p\",{\"class\":\"no-pad\"}).text.replace(\",\",\"\"))\n",
    "    print (\" \")\n",
    "\n"
   ]
  },
  {
   "cell_type": "code",
   "execution_count": null,
   "metadata": {
    "collapsed": true
   },
   "outputs": [],
   "source": []
  }
 ],
 "metadata": {
  "kernelspec": {
   "display_name": "Python 3",
   "language": "python",
   "name": "python3"
  },
  "language_info": {
   "codemirror_mode": {
    "name": "ipython",
    "version": 3
   },
   "file_extension": ".py",
   "mimetype": "text/x-python",
   "name": "python",
   "nbconvert_exporter": "python",
   "pygments_lexer": "ipython3",
   "version": "3.6.0"
  }
 },
 "nbformat": 4,
 "nbformat_minor": 2
}
