{
 "cells": [
  {
   "cell_type": "code",
   "execution_count": 4,
   "metadata": {
    "collapsed": false
   },
   "outputs": [],
   "source": [
    "%matplotlib inline\n",
    "import requests\n",
    "from bs4 import BeautifulSoup\n",
    "import pandas as pd\n",
    "\n",
    "r = requests.get(\"https://house.jumia.co.ke/for-sale/\")\n",
    "c = r.content\n",
    "soup = BeautifulSoup(c, \"html.parser\")\n",
    "# check source code of loaded page\n",
    "#print(soup.prettify())\n",
    "\n",
    "# extract division\n",
    "all = soup.find_all(\"div\",{\"class\":\"listing-info\"})\n"
   ]
  },
  {
   "cell_type": "code",
   "execution_count": 169,
   "metadata": {
    "collapsed": false
   },
   "outputs": [
    {
     "data": {
      "text/plain": [
       "'KSh 27500000'"
      ]
     },
     "execution_count": 169,
     "metadata": {},
     "output_type": "execute_result"
    }
   ],
   "source": [
    "# check  price elements\n",
    "price = all[0].find(\"span\",{\"class\":\"listing-price\"}).text.replace(\",\", \"\")\n",
    "price\n"
   ]
  },
  {
   "cell_type": "markdown",
   "metadata": {},
   "source": [
    "## extract elements into dict and store in a list"
   ]
  },
  {
   "cell_type": "code",
   "execution_count": 13,
   "metadata": {
    "collapsed": false
   },
   "outputs": [],
   "source": [
    "def extract_listing_detail():\n",
    "#   crawl though available pages then\n",
    "    # collect price, detail and size\n",
    "    data = []\n",
    "    for item in all:\n",
    "    #   create empty dictionary\n",
    "        d={}\n",
    "    #   property name \n",
    "        d[\"name\"] = (item.find(\"a\",{\"class\":\"main-link\"}).text).strip() \n",
    "    #   property address\n",
    "        d[\"address\"] = item.find(\"p\",{\"class\":\"listing-address icon-location\"}).text\n",
    "    #  property value\n",
    "        d[\"value\"] = item.find(\"span\",{\"class\":\"listing-price\"}).text.replace(\",\",\"\")\n",
    "    #   property size / bedroom capacity\n",
    "        try:\n",
    "             d[\"description\"] = item.find(\"span\",{\"class\":\"listing-attributes-value\"}).text.replace(\"\\n\",\"\")\n",
    "        except:\n",
    "            d[\"description\"] = None\n",
    "    #   collect data in a list\n",
    "        data.append(d)\n",
    "    #   store data in a dataframe\n",
    "        df = pd.DataFrame(data)\n",
    "    #   save to csv\n",
    "        df.to_csv(\"jumia_property.csv\")\n",
    "        \n",
    "extract_listing_detail()"
   ]
  },
  {
   "cell_type": "markdown",
   "metadata": {},
   "source": [
    "## extracted data"
   ]
  },
  {
   "cell_type": "code",
   "execution_count": 10,
   "metadata": {
    "collapsed": false,
    "scrolled": true
   },
   "outputs": [
    {
     "ename": "NameError",
     "evalue": "name 'data' is not defined",
     "output_type": "error",
     "traceback": [
      "\u001b[0;31m---------------------------------------------------------------------------\u001b[0m",
      "\u001b[0;31mNameError\u001b[0m                                 Traceback (most recent call last)",
      "\u001b[0;32m<ipython-input-10-c32229b5dda9>\u001b[0m in \u001b[0;36m<module>\u001b[0;34m()\u001b[0m\n\u001b[0;32m----> 1\u001b[0;31m \u001b[0mlen\u001b[0m\u001b[0;34m(\u001b[0m\u001b[0mdata\u001b[0m\u001b[0;34m)\u001b[0m\u001b[0;34m\u001b[0m\u001b[0m\n\u001b[0m",
      "\u001b[0;31mNameError\u001b[0m: name 'data' is not defined"
     ]
    }
   ],
   "source": [
    "len(data)"
   ]
  },
  {
   "cell_type": "markdown",
   "metadata": {},
   "source": [
    "## store in a data frame"
   ]
  },
  {
   "cell_type": "code",
   "execution_count": 167,
   "metadata": {
    "collapsed": false
   },
   "outputs": [],
   "source": [
    "# df = pd.DataFrame(data)\n",
    "\n",
    "# df"
   ]
  },
  {
   "cell_type": "markdown",
   "metadata": {},
   "source": [
    "## save to csv"
   ]
  },
  {
   "cell_type": "code",
   "execution_count": 95,
   "metadata": {
    "collapsed": true
   },
   "outputs": [],
   "source": [
    "df.to_csv(\"jumia_property.csv\")"
   ]
  },
  {
   "cell_type": "markdown",
   "metadata": {},
   "source": [
    "## crawl web pages"
   ]
  },
  {
   "cell_type": "code",
   "execution_count": 11,
   "metadata": {
    "collapsed": false
   },
   "outputs": [],
   "source": [
    "def crawl_pages():\n",
    "    base_url = \"https://house.jumia.co.ke/for-sale/?page=\"\n",
    "    for page in range(1,11,1):\n",
    "        base_url+str(page)+str(\"&size=30\")\n",
    "        r = requests.get(base_url+str(page)+str(\"&size=30\"))\n",
    "        c = r.content\n",
    "        soup = BeautifulSoup(c, \"html.parser\")\n",
    "        all = soup.find_all(\"div\",{\"class\":\"listing-info\"})\n",
    "#         call extract function        \n",
    "crawl_pages() \n"
   ]
  },
  {
   "cell_type": "markdown",
   "metadata": {},
   "source": [
    "# clean function crawler"
   ]
  },
  {
   "cell_type": "code",
   "execution_count": 14,
   "metadata": {
    "collapsed": false
   },
   "outputs": [],
   "source": [
    "%matplotlib inline\n",
    "import requests\n",
    "from bs4 import BeautifulSoup\n",
    "import pandas as pd\n",
    "\n",
    "def crawler():\n",
    "    data = []\n",
    "    base_url = \"https://house.jumia.co.ke/for-sale/?page=\"\n",
    "    for page in range(1,51,1):\n",
    "        prop_page = base_url+str(page)+str(\"&size=30\")\n",
    "        r = requests.get(prop_page)\n",
    "        c = r.content\n",
    "        soup = BeautifulSoup(c, \"html.parser\")\n",
    "        all = soup.find_all(\"div\",{\"class\":\"listing-info\"})\n",
    "        #   call extract function\n",
    "        #   collect price, detail and size\n",
    "        extract_listing_detail()\n",
    "#         for item in all:\n",
    "#         #   create empty dictionary\n",
    "#             d={}\n",
    "#         #   property name \n",
    "#             d[\"name\"] = (item.find(\"a\",{\"class\":\"main-link\"}).text).strip() \n",
    "#         #   property address\n",
    "#             d[\"address\"] = item.find(\"p\",{\"class\":\"listing-address icon-location\"}).text\n",
    "#         #  property value\n",
    "#             d[\"value\"] = item.find(\"span\",{\"class\":\"listing-price\"}).text.replace(\",\",\"\")\n",
    "#         #   property size / bedroom capacity\n",
    "#             try:\n",
    "#                  d[\"description\"] = item.find(\"span\",{\"class\":\"listing-attributes-value\"}).text.replace(\"\\n\",\"\")\n",
    "#             except:\n",
    "#                 d[\"description\"] = None\n",
    "#         #   collect data in a list\n",
    "#             data.append(d)\n",
    "#         #   store data in a dataframe\n",
    "#             df = pd.DataFrame(data)\n",
    "\n",
    "crawler()\n",
    "                "
   ]
  },
  {
   "cell_type": "code",
   "execution_count": 15,
   "metadata": {
    "collapsed": false
   },
   "outputs": [
    {
     "ename": "NameError",
     "evalue": "name 'df' is not defined",
     "output_type": "error",
     "traceback": [
      "\u001b[0;31m---------------------------------------------------------------------------\u001b[0m",
      "\u001b[0;31mNameError\u001b[0m                                 Traceback (most recent call last)",
      "\u001b[0;32m<ipython-input-15-d57a54818e49>\u001b[0m in \u001b[0;36m<module>\u001b[0;34m()\u001b[0m\n\u001b[0;32m----> 1\u001b[0;31m \u001b[0mtype\u001b[0m\u001b[0;34m(\u001b[0m\u001b[0mdf\u001b[0m\u001b[0;34m)\u001b[0m\u001b[0;34m\u001b[0m\u001b[0m\n\u001b[0m",
      "\u001b[0;31mNameError\u001b[0m: name 'df' is not defined"
     ]
    }
   ],
   "source": [
    "type(df)"
   ]
  },
  {
   "cell_type": "code",
   "execution_count": null,
   "metadata": {
    "collapsed": true
   },
   "outputs": [],
   "source": [
    "len(df)"
   ]
  },
  {
   "cell_type": "code",
   "execution_count": null,
   "metadata": {
    "collapsed": true
   },
   "outputs": [],
   "source": [
    "da"
   ]
  },
  {
   "cell_type": "code",
   "execution_count": null,
   "metadata": {
    "collapsed": true
   },
   "outputs": [],
   "source": []
  }
 ],
 "metadata": {
  "kernelspec": {
   "display_name": "Python 3",
   "language": "python",
   "name": "python3"
  },
  "language_info": {
   "codemirror_mode": {
    "name": "ipython",
    "version": 3
   },
   "file_extension": ".py",
   "mimetype": "text/x-python",
   "name": "python",
   "nbconvert_exporter": "python",
   "pygments_lexer": "ipython3",
   "version": "3.6.0"
  }
 },
 "nbformat": 4,
 "nbformat_minor": 2
}
